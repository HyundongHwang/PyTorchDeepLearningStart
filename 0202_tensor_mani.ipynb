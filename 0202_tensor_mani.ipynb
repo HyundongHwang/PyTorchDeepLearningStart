{
 "cells": [
  {
   "cell_type": "code",
   "execution_count": 1,
   "metadata": {},
   "outputs": [],
   "source": [
    "import myutil as mu\n",
    "import numpy as np\n",
    "import torch\n",
    "\n"
   ]
  },
  {
   "cell_type": "markdown",
   "metadata": {},
   "source": [
    "--- \n",
    " 넘파이로 텐서 만들기(벡터와 행렬 만들기)"
   ]
  },
  {
   "cell_type": "code",
   "execution_count": 2,
   "metadata": {},
   "outputs": [
    {
     "name": "stdout",
     "output_type": "stream",
     "text": [
      "t : [0. 1. 2. 3. 4. 5. 6.]\n",
      "t.ndim : 1\n",
      "t.shape : (7,)\n",
      "t[-1] : 6.0\n",
      "t[2:5] : [2. 3. 4.]\n",
      "t[4:-1] : [4. 5.]\n",
      "t[:2] : [0. 1.]\n",
      "t[3:] : [3. 4. 5. 6.]\n",
      "t : \n",
      "    [[ 1.  2.  3.]\n",
      " [ 4.  5.  6.]\n",
      " [ 7.  8.  9.]\n",
      " [10. 11. 12.]]\n",
      "\n",
      "t.ndim : 2\n",
      "t.shape : (4, 3)\n",
      "t : tensor([0., 1., 2., 3., 4., 5., 6.])\n",
      "t.ndim : 1\n",
      "t.shape : torch.Size([7])\n"
     ]
    }
   ],
   "source": [
    "\n",
    "t = np.array([0., 1., 2., 3., 4., 5., 6.])\n",
    "mu.log(\"t\", t)\n",
    "mu.log(\"t.ndim\", t.ndim)\n",
    "mu.log(\"t.shape\", t.shape)\n",
    "mu.log(\"t[-1]\", t[-1])\n",
    "mu.log(\"t[2:5]\", t[2:5])\n",
    "mu.log(\"t[4:-1]\", t[4:-1])\n",
    "mu.log(\"t[:2]\", t[:2])\n",
    "mu.log(\"t[3:]\", t[3:])\n",
    "\n",
    "t = np.array([[1., 2., 3.], [4., 5., 6.], [7., 8., 9.], [10., 11., 12.]])\n",
    "mu.log(\"t\", t)\n",
    "mu.log(\"t.ndim\", t.ndim)\n",
    "mu.log(\"t.shape\", t.shape)\n",
    "\n",
    "t = torch.FloatTensor([0., 1., 2., 3., 4., 5., 6.])\n",
    "mu.log(\"t\", t)\n",
    "mu.log(\"t.ndim\", t.ndim)\n",
    "mu.log(\"t.shape\", t.shape)\n",
    "\n"
   ]
  },
  {
   "cell_type": "markdown",
   "metadata": {},
   "source": [
    "--- \n",
    " 파이토치 텐서 선언하기(PyTorch Tensor Allocation)"
   ]
  },
  {
   "cell_type": "code",
   "execution_count": 3,
   "metadata": {},
   "outputs": [
    {
     "name": "stdout",
     "output_type": "stream",
     "text": [
      "t : \n",
      "    tensor([[ 1.,  2.,  3.],\n",
      "        [ 4.,  5.,  6.],\n",
      "        [ 7.,  8.,  9.],\n",
      "        [10., 11., 12.]])\n",
      "\n",
      "t.ndim : 2\n",
      "t.shape : torch.Size([4, 3])\n"
     ]
    }
   ],
   "source": [
    "\n",
    "t = torch.FloatTensor([[1., 2., 3.],\n",
    "                       [4., 5., 6.],\n",
    "                       [7., 8., 9.],\n",
    "                       [10., 11., 12.]\n",
    "                       ])\n",
    "mu.log(\"t\", t)\n",
    "mu.log(\"t.ndim\", t.ndim)\n",
    "mu.log(\"t.shape\", t.shape)\n",
    "\n"
   ]
  },
  {
   "cell_type": "markdown",
   "metadata": {},
   "source": [
    "--- \n",
    " 행렬 곱셈과 곱셈의 차이(Matrix Multiplication Vs. Multiplication)"
   ]
  },
  {
   "cell_type": "code",
   "execution_count": 4,
   "metadata": {},
   "outputs": [
    {
     "name": "stdout",
     "output_type": "stream",
     "text": [
      "m1 : \n",
      "    tensor([[1., 2.],\n",
      "        [3., 4.]])\n",
      "\n",
      "\n",
      "m2 : \n",
      "    tensor([[1.],\n",
      "        [2.]])\n",
      "\n",
      "\n",
      "m1 * m2 : \n",
      "    tensor([[1., 2.],\n",
      "        [6., 8.]])\n",
      "\n",
      "\n",
      "m1.matmul(m2) : \n",
      "    tensor([[ 5.],\n",
      "        [11.]])\n",
      "\n"
     ]
    }
   ],
   "source": [
    "\n",
    "m1 = torch.FloatTensor([[1, 2], [3, 4]])\n",
    "m2 = torch.FloatTensor([[1], [2]])\n",
    "mu.log(\"m1\", m1)\n",
    "mu.log(\"m2\", m2)\n",
    "mu.log(\"m1 * m2\", m1 * m2)\n",
    "mu.log(\"m1.matmul(m2)\", m1.matmul(m2))\n",
    "\n"
   ]
  },
  {
   "cell_type": "markdown",
   "metadata": {},
   "source": [
    "--- \n",
    " 평균(Mean)"
   ]
  },
  {
   "cell_type": "code",
   "execution_count": 5,
   "metadata": {},
   "outputs": [
    {
     "name": "stdout",
     "output_type": "stream",
     "text": [
      "t.mean() : 1.5\n",
      "t : \n",
      "    tensor([[1., 2.],\n",
      "        [3., 4.]])\n",
      "\n",
      "t.mean(dim=0) : tensor([2., 3.])\n",
      "t.mean(dim=1) : tensor([1.5000, 3.5000])\n"
     ]
    }
   ],
   "source": [
    "\n",
    "t = torch.FloatTensor([1, 2])\n",
    "mu.log(\"t.mean()\", t.mean())\n",
    "\n",
    "t = torch.FloatTensor([[1, 2], [3, 4]])\n",
    "mu.log(\"t\", t)\n",
    "mu.log(\"t.mean(dim=0)\", t.mean(dim=0))\n",
    "mu.log(\"t.mean(dim=1)\", t.mean(dim=1))\n",
    "\n"
   ]
  },
  {
   "cell_type": "markdown",
   "metadata": {},
   "source": [
    "--- \n",
    " 최대(Max)와 아그맥스(ArgMax)"
   ]
  },
  {
   "cell_type": "code",
   "execution_count": 6,
   "metadata": {},
   "outputs": [
    {
     "name": "stdout",
     "output_type": "stream",
     "text": [
      "t : \n",
      "    tensor([[1., 2.],\n",
      "        [3., 4.]])\n",
      "\n",
      "t.max() : 4.0\n",
      "t.max(dim=0) : \n",
      "    torch.return_types.max(\n",
      "values=tensor([3., 4.]),\n",
      "indices=tensor([1, 1]))\n",
      "\n",
      "\n",
      "t.max(dim=1) : \n",
      "    torch.return_types.max(\n",
      "values=tensor([2., 4.]),\n",
      "indices=tensor([1, 1]))\n",
      "\n",
      "\n",
      "t.max(dim=-1) : \n",
      "    torch.return_types.max(\n",
      "values=tensor([2., 4.]),\n",
      "indices=tensor([1, 1]))\n",
      "\n"
     ]
    }
   ],
   "source": [
    "t = torch.FloatTensor([[1, 2], [3, 4]])\n",
    "mu.log(\"t\", t)\n",
    "mu.log(\"t.max()\", t.max())\n",
    "mu.log(\"t.max(dim=0)\", t.max(dim=0))\n",
    "mu.log(\"t.max(dim=1)\", t.max(dim=1))\n",
    "mu.log(\"t.max(dim=-1)\", t.max(dim=-1))\n"
   ]
  }
 ],
 "metadata": {
  "kernelspec": {
   "display_name": "Python 3",
   "language": "python",
   "name": "python3"
  },
  "language_info": {
   "codemirror_mode": {
    "name": "ipython",
    "version": 3
   },
   "file_extension": ".py",
   "mimetype": "text/x-python",
   "name": "python",
   "nbconvert_exporter": "python",
   "pygments_lexer": "ipython3",
   "version": "3.8.2"
  }
 },
 "nbformat": 4,
 "nbformat_minor": 4
}

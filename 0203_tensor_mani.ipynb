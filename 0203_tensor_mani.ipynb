{
 "cells": [
  {
   "cell_type": "code",
   "execution_count": 1,
   "metadata": {},
   "outputs": [],
   "source": [
    "import myutil as mu\n",
    "import numpy as np\n",
    "import torch\n",
    "\n"
   ]
  },
  {
   "cell_type": "markdown",
   "metadata": {},
   "source": [
    "--- \n",
    " 뷰(View) - 원소의 수를 유지하면서 텐서의 크기 변경. 매우 중요함!! \n"
   ]
  },
  {
   "cell_type": "code",
   "execution_count": 2,
   "metadata": {},
   "outputs": [
    {
     "name": "stdout",
     "output_type": "stream",
     "text": [
      "t.shape : (2, 2, 3)\n",
      "ft.shape : torch.Size([2, 2, 3])\n"
     ]
    }
   ],
   "source": [
    "\n",
    "t = np.array([[[0, 1, 2],\n",
    "               [3, 4, 5]],\n",
    "              [[6, 7, 8],\n",
    "               [9, 10, 11]]])\n",
    "\n",
    "ft = torch.FloatTensor(t)\n",
    "mu.log(\"t.shape\", t.shape)\n",
    "mu.log(\"ft.shape\", ft.shape)\n",
    "\n"
   ]
  },
  {
   "cell_type": "markdown",
   "metadata": {},
   "source": [
    "--- \n",
    " 3차원 텐서에서 2차원 텐서로 변경 \n"
   ]
  },
  {
   "cell_type": "code",
   "execution_count": 3,
   "metadata": {},
   "outputs": [
    {
     "name": "stdout",
     "output_type": "stream",
     "text": [
      "\n",
      "ft.view([-1, 3]) : \n",
      "    torch.Size([4, 3]) tensor([[ 0.,  1.,  2.],\n",
      "            [ 3.,  4.,  5.],\n",
      "            [ 6.,  7.,  8.],\n",
      "            [ 9., 10., 11.]])\n",
      "\n",
      "ft.view([-1, 3]).shape : torch.Size([4, 3])\n"
     ]
    }
   ],
   "source": [
    "\n",
    "mu.log(\"ft.view([-1, 3])\", ft.view([-1, 3]))\n",
    "mu.log(\"ft.view([-1, 3]).shape\", ft.view([-1, 3]).shape)\n",
    "\n"
   ]
  },
  {
   "cell_type": "markdown",
   "metadata": {},
   "source": [
    "--- \n",
    " 3차원 텐서의 크기 변경 \n"
   ]
  },
  {
   "cell_type": "code",
   "execution_count": 4,
   "metadata": {},
   "outputs": [
    {
     "name": "stdout",
     "output_type": "stream",
     "text": [
      "\n",
      "ft.view([-1, 1, 3]) : \n",
      "    torch.Size([4, 1, 3]) tensor([[[ 0.,  1.,  2.]],\n",
      "    \n",
      "            [[ 3.,  4.,  5.]],\n",
      "    \n",
      "            [[ 6.,  7.,  8.]],\n",
      "    \n",
      "            [[ 9., 1 ...\n",
      "\n",
      "ft.view([-1, 1, 3]).shape : torch.Size([4, 1, 3])\n"
     ]
    }
   ],
   "source": [
    "mu.log(\"ft.view([-1, 1, 3])\", ft.view([-1, 1, 3]))\n",
    "mu.log(\"ft.view([-1, 1, 3]).shape\", ft.view([-1, 1, 3]).shape)\n",
    "\n"
   ]
  },
  {
   "cell_type": "markdown",
   "metadata": {},
   "source": [
    "--- \n",
    " 스퀴즈(Squeeze) - 1인 차원을 제거한다. \n"
   ]
  },
  {
   "cell_type": "code",
   "execution_count": 5,
   "metadata": {},
   "outputs": [
    {
     "name": "stdout",
     "output_type": "stream",
     "text": [
      "\n",
      "ft : \n",
      "    torch.Size([3, 1]) tensor([[0.],\n",
      "            [1.],\n",
      "            [2.]])\n",
      "\n",
      "ft.shape : torch.Size([3, 1])\n"
     ]
    }
   ],
   "source": [
    "ft = torch.FloatTensor([[0], [1], [2]])\n",
    "mu.log(\"ft\", ft)\n",
    "mu.log(\"ft.shape\", ft.shape)\n",
    "\n"
   ]
  },
  {
   "cell_type": "markdown",
   "metadata": {},
   "source": [
    "--- \n",
    " 언스퀴즈(Unsqueeze) - 특정 위치에 1인 차원을 추가한다. \n"
   ]
  },
  {
   "cell_type": "code",
   "execution_count": 6,
   "metadata": {},
   "outputs": [
    {
     "name": "stdout",
     "output_type": "stream",
     "text": [
      "\n",
      "ft : \n",
      "    torch.Size([3]) tensor([0., 1., 2.])\n",
      "\n",
      "ft.shape : torch.Size([3])\n",
      "\n",
      "ft.unsqueeze(0) : \n",
      "    torch.Size([1, 3]) tensor([[0., 1., 2.]])\n",
      "\n",
      "ft.unsqueeze(0).shape : torch.Size([1, 3])\n",
      "\n",
      "ft.view(1, -1) : \n",
      "    torch.Size([1, 3]) tensor([[0., 1., 2.]])\n",
      "\n",
      "ft.view(1, -1).shape : torch.Size([1, 3])\n",
      "\n",
      "ft.unsqueeze(1) : \n",
      "    torch.Size([3, 1]) tensor([[0.],\n",
      "            [1.],\n",
      "            [2.]])\n",
      "\n",
      "ft.unsqueeze(1).shape : torch.Size([3, 1])\n",
      "\n",
      "ft.unsqueeze(-1) : \n",
      "    torch.Size([3, 1]) tensor([[0.],\n",
      "            [1.],\n",
      "            [2.]])\n",
      "\n",
      "ft.unsqueeze(-1).shape : torch.Size([3, 1])\n"
     ]
    }
   ],
   "source": [
    "ft = torch.Tensor([0, 1, 2])\n",
    "mu.log(\"ft\", ft)\n",
    "mu.log(\"ft.shape\", ft.shape)\n",
    "\n",
    "mu.log(\"ft.unsqueeze(0)\", ft.unsqueeze(0))  # 인덱스가 0부터 시작하므로 0은 첫번째 차원을 의미한다.\n",
    "mu.log(\"ft.unsqueeze(0).shape\", ft.unsqueeze(0).shape)\n",
    "\n",
    "mu.log(\"ft.view(1, -1)\", ft.view(1, -1))\n",
    "mu.log(\"ft.view(1, -1).shape\", ft.view(1, -1).shape)\n",
    "\n",
    "mu.log(\"ft.unsqueeze(1)\", ft.unsqueeze(1))\n",
    "mu.log(\"ft.unsqueeze(1).shape\", ft.unsqueeze(1).shape)\n",
    "\n",
    "mu.log(\"ft.unsqueeze(-1)\", ft.unsqueeze(-1))\n",
    "mu.log(\"ft.unsqueeze(-1).shape\", ft.unsqueeze(-1).shape)\n",
    "\n"
   ]
  },
  {
   "cell_type": "markdown",
   "metadata": {},
   "source": [
    "--- \n",
    " 타입 캐스팅(Type Casting) \n"
   ]
  },
  {
   "cell_type": "code",
   "execution_count": 7,
   "metadata": {},
   "outputs": [
    {
     "name": "stdout",
     "output_type": "stream",
     "text": [
      "\n",
      "lt : \n",
      "    torch.Size([4]) tensor([1, 2, 3, 4])\n",
      "\n",
      "lt.float() : \n",
      "    torch.Size([4]) tensor([1., 2., 3., 4.])\n",
      "\n",
      "bt : \n",
      "    torch.Size([4]) tensor([1, 0, 0, 1], dtype=torch.uint8)\n",
      "\n",
      "bt.long() : \n",
      "    torch.Size([4]) tensor([1, 0, 0, 1])\n",
      "\n",
      "bt.float() : \n",
      "    torch.Size([4]) tensor([1., 0., 0., 1.])\n",
      "\n"
     ]
    }
   ],
   "source": [
    "\n",
    "lt = torch.LongTensor([1, 2, 3, 4])\n",
    "mu.log(\"lt\", lt)\n",
    "mu.log(\"lt.float()\", lt.float())\n",
    "\n",
    "bt = torch.ByteTensor([True, False, False, True])\n",
    "mu.log(\"bt\", bt)\n",
    "mu.log(\"bt.long()\", bt.long())\n",
    "mu.log(\"bt.float()\", bt.float())\n",
    "\n"
   ]
  },
  {
   "cell_type": "markdown",
   "metadata": {},
   "source": [
    "--- \n",
    " 연결하기(concatenate) \n"
   ]
  },
  {
   "cell_type": "code",
   "execution_count": 8,
   "metadata": {},
   "outputs": [
    {
     "name": "stdout",
     "output_type": "stream",
     "text": [
      "torch.cat([x, y], dim=0) : \n",
      "    torch.Size([4, 2]) tensor([[1., 2.],\n",
      "            [3., 4.],\n",
      "            [5., 6.],\n",
      "            [7., 8.]])\n",
      "\n",
      "torch.cat([x, y], dim=1) : \n",
      "    torch.Size([2, 4]) tensor([[1., 2., 5., 6.],\n",
      "            [3., 4., 7., 8.]])\n",
      "\n"
     ]
    }
   ],
   "source": [
    "\n",
    "x = torch.FloatTensor([[1, 2], [3, 4]])\n",
    "y = torch.FloatTensor([[5, 6], [7, 8]])\n",
    "mu.log(\"torch.cat([x, y], dim=0)\", torch.cat([x, y], dim=0))\n",
    "mu.log(\"torch.cat([x, y], dim=1)\", torch.cat([x, y], dim=1))\n",
    "\n"
   ]
  },
  {
   "cell_type": "markdown",
   "metadata": {},
   "source": [
    "--- \n",
    " 스택킹(Stacking) \n"
   ]
  },
  {
   "cell_type": "code",
   "execution_count": 9,
   "metadata": {},
   "outputs": [
    {
     "name": "stdout",
     "output_type": "stream",
     "text": [
      "torch.stack([x, y, z]) : \n",
      "    torch.Size([3, 2]) tensor([[1., 4.],\n",
      "            [2., 5.],\n",
      "            [3., 6.]])\n",
      "\n",
      "torch.cat([x.unsqueeze(0), y.unsqueeze(0), z.unsqueeze(0)], dim=0) : \n",
      "    torch.Size([3, 2]) tensor([[1., 4.],\n",
      "            [2., 5.],\n",
      "            [3., 6.]])\n",
      "\n",
      "torch.stack([x, y, z], dim=1) : \n",
      "    torch.Size([2, 3]) tensor([[1., 2., 3.],\n",
      "            [4., 5., 6.]])\n",
      "\n"
     ]
    }
   ],
   "source": [
    "\n",
    "x = torch.FloatTensor([1, 4])\n",
    "y = torch.FloatTensor([2, 5])\n",
    "z = torch.FloatTensor([3, 6])\n",
    "mu.log(\"torch.stack([x, y, z])\", torch.stack([x, y, z]))\n",
    "\n",
    "mu.log(\"torch.cat([x.unsqueeze(0), y.unsqueeze(0), z.unsqueeze(0)], dim=0)\",\n",
    "       torch.cat([x.unsqueeze(0), y.unsqueeze(0), z.unsqueeze(0)], dim=0))\n",
    "\n",
    "mu.log(\"torch.stack([x, y, z], dim=1)\", torch.stack([x, y, z], dim=1))\n",
    "\n"
   ]
  },
  {
   "cell_type": "markdown",
   "metadata": {},
   "source": [
    "--- \n",
    " ones_like와 zeros_like - 0으로 채워진 텐서와 1로 채워진 텐서 \n"
   ]
  },
  {
   "cell_type": "code",
   "execution_count": 10,
   "metadata": {},
   "outputs": [
    {
     "name": "stdout",
     "output_type": "stream",
     "text": [
      "x : \n",
      "    torch.Size([2, 3]) tensor([[0., 1., 2.],\n",
      "            [2., 1., 0.]])\n",
      "\n",
      "torch.ones_like(x) : \n",
      "    torch.Size([2, 3]) tensor([[1., 1., 1.],\n",
      "            [1., 1., 1.]])\n",
      "\n",
      "torch.zeros_like(x) : \n",
      "    torch.Size([2, 3]) tensor([[0., 0., 0.],\n",
      "            [0., 0., 0.]])\n",
      "\n"
     ]
    }
   ],
   "source": [
    "\n",
    "x = torch.FloatTensor([[0, 1, 2], [2, 1, 0]])\n",
    "mu.log(\"x\", x)\n",
    "mu.log(\"torch.ones_like(x)\", torch.ones_like(x))\n",
    "mu.log(\"torch.zeros_like(x)\", torch.zeros_like(x))\n",
    "\n"
   ]
  },
  {
   "cell_type": "markdown",
   "metadata": {},
   "source": [
    "--- \n",
    " In-place Operation (덮어쓰기 연산) \n"
   ]
  },
  {
   "cell_type": "code",
   "execution_count": 11,
   "metadata": {},
   "outputs": [
    {
     "name": "stdout",
     "output_type": "stream",
     "text": [
      "x : \n",
      "    torch.Size([2, 2]) tensor([[1., 2.],\n",
      "            [3., 4.]])\n",
      "\n",
      "x.mul(2.) : \n",
      "    torch.Size([2, 2]) tensor([[2., 4.],\n",
      "            [6., 8.]])\n",
      "\n",
      "x : \n",
      "    torch.Size([2, 2]) tensor([[1., 2.],\n",
      "            [3., 4.]])\n",
      "\n",
      "x.mul_(2.) : \n",
      "    torch.Size([2, 2]) tensor([[2., 4.],\n",
      "            [6., 8.]])\n",
      "\n",
      "x : \n",
      "    torch.Size([2, 2]) tensor([[2., 4.],\n",
      "            [6., 8.]])\n",
      "\n"
     ]
    }
   ],
   "source": [
    "\n",
    "x = torch.FloatTensor([[1, 2], [3, 4]])\n",
    "\n",
    "mu.log(\"x\", x)\n",
    "mu.log(\"x.mul(2.)\", x.mul(2.)) # 곱하기 2를 수행한 결과를 출력\n",
    "mu.log(\"x\", x)\n",
    "mu.log(\"x.mul_(2.)\", x.mul_(2.)) # 곱하기 2를 수행한 결과를 변수 x에 값을 저장하면서 결과를 출력\n",
    "mu.log(\"x\", x)\n"
   ]
  }
 ],
 "metadata": {
  "kernelspec": {
   "display_name": "Python 3",
   "language": "python",
   "name": "python3"
  },
  "language_info": {
   "codemirror_mode": {
    "name": "ipython",
    "version": 3
   },
   "file_extension": ".py",
   "mimetype": "text/x-python",
   "name": "python",
   "nbconvert_exporter": "python",
   "pygments_lexer": "ipython3",
   "version": "3.8.2"
  }
 },
 "nbformat": 4,
 "nbformat_minor": 4
}

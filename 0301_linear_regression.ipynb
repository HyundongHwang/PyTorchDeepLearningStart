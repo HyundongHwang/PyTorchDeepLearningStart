{
    "cells": [
        {
            "cell_type": "code",
            "execution_count": 0,
            "metadata": {},
            "outputs": [],
            "source": [
                "import myutil as mu\n",
                "import numpy as np\n",
                "import torch\n",
                "import torch.nn as nn\n",
                "import torch.nn.functional as F\n",
                "import torch.optim as optim\n",
                "\n"
            ]
        },
        {
            "cell_type": "markdown",
            "metadata": {},
            "source": [
                "--- \n",
                " 선형 회귀(Linear Regression)"
            ]
        },
        {
            "cell_type": "code",
            "execution_count": 0,
            "metadata": {},
            "outputs": [],
            "source": [
                "\n"
            ]
        },
        {
            "cell_type": "markdown",
            "metadata": {},
            "source": [
                " 데이터"
            ]
        },
        {
            "cell_type": "code",
            "execution_count": 0,
            "metadata": {},
            "outputs": [],
            "source": [
                "x_train = torch.FloatTensor([[1], [2], [3]])\n",
                "y_train = torch.FloatTensor([[2], [4], [6]])\n"
            ]
        },
        {
            "cell_type": "markdown",
            "metadata": {},
            "source": [
                " 모델 초기화"
            ]
        },
        {
            "cell_type": "code",
            "execution_count": 0,
            "metadata": {},
            "outputs": [],
            "source": [
                "W = torch.zeros(1, requires_grad=True)\n",
                "b = torch.zeros(1, requires_grad=True)\n"
            ]
        },
        {
            "cell_type": "markdown",
            "metadata": {},
            "source": [
                " optimizer 설정"
            ]
        },
        {
            "cell_type": "code",
            "execution_count": 0,
            "metadata": {},
            "outputs": [],
            "source": [
                "optimizer = optim.SGD([W, b], lr=0.01)\n",
                "\n",
                "nb_epochs = 2000  # 원하는만큼 경사 하강법을 반복\n",
                "for epoch in range(nb_epochs + 1):\n",
                "\n"
            ]
        },
        {
            "cell_type": "markdown",
            "metadata": {},
            "source": [
                " H(x) 계산"
            ]
        },
        {
            "cell_type": "code",
            "execution_count": 0,
            "metadata": {},
            "outputs": [],
            "source": [
                "    hypothesis = x_train * W + b\n",
                "\n"
            ]
        },
        {
            "cell_type": "markdown",
            "metadata": {},
            "source": [
                " cost 계산"
            ]
        },
        {
            "cell_type": "code",
            "execution_count": 0,
            "metadata": {},
            "outputs": [],
            "source": [
                "    cost = torch.mean((hypothesis - y_train) ** 2)\n",
                "\n"
            ]
        },
        {
            "cell_type": "markdown",
            "metadata": {},
            "source": [
                " cost로 H(x) 개선"
            ]
        },
        {
            "cell_type": "code",
            "execution_count": 0,
            "metadata": {},
            "outputs": [],
            "source": [
                "    optimizer.zero_grad()\n",
                "    cost.backward()\n",
                "    optimizer.step()\n",
                "\n"
            ]
        },
        {
            "cell_type": "markdown",
            "metadata": {},
            "source": [
                " 100번마다 로그 출력"
            ]
        },
        {
            "cell_type": "code",
            "execution_count": 0,
            "metadata": {},
            "outputs": [],
            "source": [
                "    if epoch % 100 == 0:\n",
                "        print('Epoch {:4d}/{} W: {:.3f}, b: {:.3f} Cost: {:.6f}'.format(\n",
                "            epoch, nb_epochs, W.item(), b.item(), cost.item()\n",
                "        ))\n",
                "\n"
            ]
        },
        {
            "cell_type": "markdown",
            "metadata": {},
            "source": [
                "--- \n",
                " optimizer.zero_grad()가 필요한 이유"
            ]
        },
        {
            "cell_type": "code",
            "execution_count": 0,
            "metadata": {},
            "outputs": [],
            "source": [
                "\n",
                "\n",
                "import torch\n",
                "\n",
                "w = torch.tensor(2.0, requires_grad=True)\n",
                "\n",
                "nb_epochs = 20\n",
                "for epoch in range(nb_epochs + 1):\n",
                "    z = 2 * w\n",
                "\n",
                "    z.backward()\n",
                "    print('수식을 w로 미분한 값 : {}'.format(w.grad))\n",
                "\n"
            ]
        },
        {
            "cell_type": "markdown",
            "metadata": {},
            "source": [
                "--- \n",
                " torch.manual_seed()를 하는 이유"
            ]
        },
        {
            "cell_type": "code",
            "execution_count": 0,
            "metadata": {},
            "outputs": [],
            "source": [
                "\n",
                "import torch\n",
                "\n",
                "torch.manual_seed(3)\n",
                "print('랜덤 시드가 3일 때')\n",
                "for i in range(1, 3):\n",
                "    print(torch.rand(1))\n",
                "\n",
                "torch.manual_seed(5)\n",
                "print('랜덤 시드가 5일 때')\n",
                "for i in range(1, 3):\n",
                "    print(torch.rand(1))\n",
                "\n",
                "torch.manual_seed(3)\n",
                "print('랜덤 시드가 다시 3일 때')\n",
                "for i in range(1, 3):\n",
                "    print(torch.rand(1))\n"
            ]
        }
    ],
    "metadata": {
        "kernelspec": {
            "display_name": "Python 3",
            "language": "python",
            "name": "python3"
        },
        "language_info": {
            "codemirror_mode": {
                "name": "ipython",
                "version": 2
            },
            "file_extension": ".py",
            "mimetype": "text/x-python",
            "name": "python",
            "nbconvert_exporter": "python",
            "pygments_lexer": "ipython2",
            "version": "2.7.17"
        }
    },
    "nbformat": 4,
    "nbformat_minor": 4
}
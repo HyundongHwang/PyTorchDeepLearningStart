{
 "cells": [
  {
   "cell_type": "code",
   "execution_count": 1,
   "metadata": {},
   "outputs": [],
   "source": [
    "import myutil as mu\n",
    "import numpy as np\n",
    "import torch\n",
    "import torch.nn as nn\n",
    "import torch.nn.functional as F\n",
    "import torch.optim as optim\n",
    "\n"
   ]
  },
  {
   "cell_type": "markdown",
   "metadata": {},
   "source": [
    "--- \n",
    " 선형 회귀(Linear Regression) \n"
   ]
  },
  {
   "cell_type": "code",
   "execution_count": 2,
   "metadata": {},
   "outputs": [
    {
     "name": "stdout",
     "output_type": "stream",
     "text": [
      "-------------------------------------------------------------------------------- \n",
      "epoch :    0/2000 \n",
      "cost : 18.666666 \n",
      "accuracy : 0.00 \n",
      "\n",
      "-------------------------------------------------------------------------------- \n",
      "epoch :  100/2000 \n",
      "cost : 0.048171 \n",
      "accuracy : 0.93 \n",
      "\n",
      "-------------------------------------------------------------------------------- \n",
      "epoch :  200/2000 \n",
      "cost : 0.029767 \n",
      "accuracy : 0.94 \n",
      "\n",
      "-------------------------------------------------------------------------------- \n",
      "epoch :  300/2000 \n",
      "cost : 0.018394 \n",
      "accuracy : 0.96 \n",
      "\n",
      "-------------------------------------------------------------------------------- \n",
      "epoch :  400/2000 \n",
      "cost : 0.011366 \n",
      "accuracy : 0.97 \n",
      "\n",
      "-------------------------------------------------------------------------------- \n",
      "epoch :  500/2000 \n",
      "cost : 0.007024 \n",
      "accuracy : 0.97 \n",
      "\n",
      "-------------------------------------------------------------------------------- \n",
      "epoch :  600/2000 \n",
      "cost : 0.004340 \n",
      "accuracy : 0.98 \n",
      "\n",
      "-------------------------------------------------------------------------------- \n",
      "epoch :  700/2000 \n",
      "cost : 0.002682 \n",
      "accuracy : 0.98 \n",
      "\n",
      "-------------------------------------------------------------------------------- \n",
      "epoch :  800/2000 \n",
      "cost : 0.001657 \n",
      "accuracy : 0.99 \n",
      "\n",
      "-------------------------------------------------------------------------------- \n",
      "epoch :  900/2000 \n",
      "cost : 0.001024 \n",
      "accuracy : 0.99 \n",
      "\n",
      "-------------------------------------------------------------------------------- \n",
      "epoch : 1000/2000 \n",
      "cost : 0.000633 \n",
      "accuracy : 0.99 \n",
      "\n",
      "-------------------------------------------------------------------------------- \n",
      "epoch : 1100/2000 \n",
      "cost : 0.000391 \n",
      "accuracy : 0.99 \n",
      "\n",
      "-------------------------------------------------------------------------------- \n",
      "epoch : 1200/2000 \n",
      "cost : 0.000242 \n",
      "accuracy : 1.00 \n",
      "\n",
      "-------------------------------------------------------------------------------- \n",
      "epoch : 1300/2000 \n",
      "cost : 0.000149 \n",
      "accuracy : 1.00 \n",
      "\n",
      "-------------------------------------------------------------------------------- \n",
      "epoch : 1400/2000 \n",
      "cost : 0.000092 \n",
      "accuracy : 1.00 \n",
      "\n",
      "-------------------------------------------------------------------------------- \n",
      "epoch : 1500/2000 \n",
      "cost : 0.000057 \n",
      "accuracy : 1.00 \n",
      "\n",
      "-------------------------------------------------------------------------------- \n",
      "epoch : 1600/2000 \n",
      "cost : 0.000035 \n",
      "accuracy : 1.00 \n",
      "\n",
      "-------------------------------------------------------------------------------- \n",
      "epoch : 1700/2000 \n",
      "cost : 0.000022 \n",
      "accuracy : 1.00 \n",
      "\n",
      "-------------------------------------------------------------------------------- \n",
      "epoch : 1800/2000 \n",
      "cost : 0.000013 \n",
      "accuracy : 1.00 \n",
      "\n",
      "-------------------------------------------------------------------------------- \n",
      "epoch : 1900/2000 \n",
      "cost : 0.000008 \n",
      "accuracy : 1.00 \n",
      "\n",
      "-------------------------------------------------------------------------------- \n",
      "epoch : 2000/2000 \n",
      "cost : 0.000005 \n",
      "accuracy : 1.00 \n",
      "\n"
     ]
    },
    {
     "data": {
      "image/png": "[encoded data removed]",
      "text/plain": [
       "<Figure size 432x288 with 1 Axes>"
      ]
     },
     "metadata": {
      "needs_background": "light"
     },
     "output_type": "display_data"
    },
    {
     "data": {
      "image/png": "[encoded data removed]",
      "text/plain": [
       "<Figure size 432x288 with 1 Axes>"
      ]
     },
     "metadata": {
      "needs_background": "light"
     },
     "output_type": "display_data"
    },
    {
     "name": "stdout",
     "output_type": "stream",
     "text": [
      "\n",
      "W : \n",
      "    torch.Size([1]) tensor([1.9974])\n",
      "\n",
      "b : \n",
      "    torch.Size([1]) tensor([0.0060])\n",
      "\n"
     ]
    }
   ],
   "source": [
    "\n",
    "# 데이터\n",
    "x_train = torch.FloatTensor([[1], [2], [3]])\n",
    "y_train = torch.FloatTensor([[2], [4], [6]])\n",
    "# 모델 초기화\n",
    "W = torch.zeros(1, requires_grad=True)\n",
    "b = torch.zeros(1, requires_grad=True)\n",
    "# optimizer 설정\n",
    "optimizer = optim.SGD([W, b], lr=0.01)\n",
    "\n",
    "nb_epochs = 2000  # 원하는만큼 경사 하강법을 반복\n",
    "\n",
    "mu.plt_init()\n",
    "\n",
    "for epoch in range(nb_epochs + 1):\n",
    "\n",
    "    # H(x) 계산\n",
    "    hypothesis = x_train * W + b\n",
    "\n",
    "    # cost 계산\n",
    "    cost = torch.mean((hypothesis - y_train) ** 2)\n",
    "\n",
    "    # accuracy 계산\n",
    "    accuracy = mu.get_regression_accuracy(hypothesis, y_train)\n",
    "\n",
    "    # cost로 H(x) 개선\n",
    "    optimizer.zero_grad()\n",
    "    cost.backward()\n",
    "    optimizer.step()\n",
    "\n",
    "    # 100번마다 로그 출력\n",
    "    if epoch % 100 == 0:\n",
    "        mu.log_epoch(epoch, nb_epochs, cost, accuracy)\n",
    "\n",
    "mu.plt_show()\n",
    "mu.log(\"W\", W)\n",
    "mu.log(\"b\", b)\n",
    "\n"
   ]
  },
  {
   "cell_type": "markdown",
   "metadata": {},
   "source": [
    "--- \n",
    " optimizer.zero_grad()가 필요한 이유 \n"
   ]
  },
  {
   "cell_type": "code",
   "execution_count": 3,
   "metadata": {},
   "outputs": [
    {
     "name": "stdout",
     "output_type": "stream",
     "text": [
      "수식을 w로 미분한 값 : 2.0\n",
      "수식을 w로 미분한 값 : 4.0\n",
      "수식을 w로 미분한 값 : 6.0\n",
      "수식을 w로 미분한 값 : 8.0\n",
      "수식을 w로 미분한 값 : 10.0\n",
      "수식을 w로 미분한 값 : 12.0\n",
      "수식을 w로 미분한 값 : 14.0\n",
      "수식을 w로 미분한 값 : 16.0\n",
      "수식을 w로 미분한 값 : 18.0\n",
      "수식을 w로 미분한 값 : 20.0\n",
      "수식을 w로 미분한 값 : 22.0\n",
      "수식을 w로 미분한 값 : 24.0\n",
      "수식을 w로 미분한 값 : 26.0\n",
      "수식을 w로 미분한 값 : 28.0\n",
      "수식을 w로 미분한 값 : 30.0\n",
      "수식을 w로 미분한 값 : 32.0\n",
      "수식을 w로 미분한 값 : 34.0\n",
      "수식을 w로 미분한 값 : 36.0\n",
      "수식을 w로 미분한 값 : 38.0\n",
      "수식을 w로 미분한 값 : 40.0\n",
      "수식을 w로 미분한 값 : 42.0\n"
     ]
    }
   ],
   "source": [
    "\n",
    "import torch\n",
    "\n",
    "w = torch.tensor(2.0, requires_grad=True)\n",
    "\n",
    "nb_epochs = 20\n",
    "for epoch in range(nb_epochs + 1):\n",
    "    z = 2 * w\n",
    "\n",
    "    z.backward()\n",
    "    print('수식을 w로 미분한 값 : {}'.format(w.grad))\n",
    "\n"
   ]
  },
  {
   "cell_type": "markdown",
   "metadata": {},
   "source": [
    "--- \n",
    " torch.manual_seed()를 하는 이유 \n"
   ]
  },
  {
   "cell_type": "code",
   "execution_count": 4,
   "metadata": {},
   "outputs": [
    {
     "name": "stdout",
     "output_type": "stream",
     "text": [
      "랜덤 시드가 3일 때\n",
      "tensor([0.0043])\n",
      "tensor([0.1056])\n",
      "랜덤 시드가 5일 때\n",
      "tensor([0.8303])\n",
      "tensor([0.1261])\n",
      "랜덤 시드가 다시 3일 때\n",
      "tensor([0.0043])\n",
      "tensor([0.1056])\n"
     ]
    }
   ],
   "source": [
    "\n",
    "import torch\n",
    "\n",
    "torch.manual_seed(3)\n",
    "print('랜덤 시드가 3일 때')\n",
    "for i in range(1, 3):\n",
    "    print(torch.rand(1))\n",
    "\n",
    "torch.manual_seed(5)\n",
    "print('랜덤 시드가 5일 때')\n",
    "for i in range(1, 3):\n",
    "    print(torch.rand(1))\n",
    "\n",
    "torch.manual_seed(3)\n",
    "print('랜덤 시드가 다시 3일 때')\n",
    "for i in range(1, 3):\n",
    "    print(torch.rand(1))\n"
   ]
  }
 ],
 "metadata": {
  "kernelspec": {
   "display_name": "Python 3",
   "language": "python",
   "name": "python3"
  },
  "language_info": {
   "codemirror_mode": {
    "name": "ipython",
    "version": 3
   },
   "file_extension": ".py",
   "mimetype": "text/x-python",
   "name": "python",
   "nbconvert_exporter": "python",
   "pygments_lexer": "ipython3",
   "version": "3.8.2"
  }
 },
 "nbformat": 4,
 "nbformat_minor": 4
}

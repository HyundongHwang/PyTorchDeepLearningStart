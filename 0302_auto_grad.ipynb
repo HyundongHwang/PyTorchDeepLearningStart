{
 "cells": [
  {
   "cell_type": "code",
   "execution_count": 1,
   "metadata": {},
   "outputs": [],
   "source": [
    "import myutil as mu\n",
    "import torch\n",
    "\n"
   ]
  },
  {
   "cell_type": "markdown",
   "metadata": {},
   "source": [
    "--- \n",
    " 자동 미분(Autograd) 실습하기 자동 미분에 대해서 실습을 통해 이해해봅시다. 임의로 2w2+5라는 식을 세워보고, w에 대해 미분해보겠습니다."
   ]
  },
  {
   "cell_type": "code",
   "execution_count": 2,
   "metadata": {},
   "outputs": [
    {
     "name": "stdout",
     "output_type": "stream",
     "text": [
      "수식을 w로 미분한 값 : 8.0\n"
     ]
    }
   ],
   "source": [
    "\n",
    "w = torch.tensor(2.0, requires_grad=True)\n",
    "y = w ** 2\n",
    "z = 2 * y + 5\n",
    "z.backward()\n",
    "print('수식을 w로 미분한 값 : {}'.format(w.grad))\n"
   ]
  }
 ],
 "metadata": {
  "kernelspec": {
   "display_name": "Python 3",
   "language": "python",
   "name": "python3"
  },
  "language_info": {
   "codemirror_mode": {
    "name": "ipython",
    "version": 3
   },
   "file_extension": ".py",
   "mimetype": "text/x-python",
   "name": "python",
   "nbconvert_exporter": "python",
   "pygments_lexer": "ipython3",
   "version": "3.8.2"
  }
 },
 "nbformat": 4,
 "nbformat_minor": 4
}

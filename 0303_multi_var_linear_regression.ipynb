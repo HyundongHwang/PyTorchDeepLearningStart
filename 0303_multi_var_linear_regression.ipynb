{
 "cells": [
  {
   "cell_type": "markdown",
   "metadata": {},
   "source": [
    "--- \n",
    " 다중 선형 회귀(Multivariable Linear regression) \n"
   ]
  },
  {
   "cell_type": "code",
   "execution_count": 1,
   "metadata": {},
   "outputs": [
    {
     "name": "stdout",
     "output_type": "stream",
     "text": [
      "-------------------------------------------------------------------------------- \n",
      "epoch :    0/1000 \n",
      "cost : 29661.800781 \n",
      "accuracy : 0.00 \n",
      "\n",
      "-------------------------------------------------------------------------------- \n",
      "epoch :  100/1000 \n",
      "cost : 1.563628 \n",
      "accuracy : 0.99 \n",
      "\n",
      "-------------------------------------------------------------------------------- \n",
      "epoch :  200/1000 \n",
      "cost : 1.497595 \n",
      "accuracy : 0.99 \n",
      "\n",
      "-------------------------------------------------------------------------------- \n",
      "epoch :  300/1000 \n",
      "cost : 1.435044 \n",
      "accuracy : 0.99 \n",
      "\n",
      "-------------------------------------------------------------------------------- \n",
      "epoch :  400/1000 \n",
      "cost : 1.375726 \n",
      "accuracy : 0.99 \n",
      "\n",
      "-------------------------------------------------------------------------------- \n",
      "epoch :  500/1000 \n",
      "cost : 1.319497 \n",
      "accuracy : 0.99 \n",
      "\n",
      "-------------------------------------------------------------------------------- \n",
      "epoch :  600/1000 \n",
      "cost : 1.266215 \n",
      "accuracy : 0.99 \n",
      "\n",
      "-------------------------------------------------------------------------------- \n",
      "epoch :  700/1000 \n",
      "cost : 1.215703 \n",
      "accuracy : 0.99 \n",
      "\n",
      "-------------------------------------------------------------------------------- \n",
      "epoch :  800/1000 \n",
      "cost : 1.167810 \n",
      "accuracy : 0.99 \n",
      "\n",
      "-------------------------------------------------------------------------------- \n",
      "epoch :  900/1000 \n",
      "cost : 1.122429 \n",
      "accuracy : 0.99 \n",
      "\n",
      "-------------------------------------------------------------------------------- \n",
      "epoch : 1000/1000 \n",
      "cost : 1.079390 \n",
      "accuracy : 0.99 \n",
      "\n"
     ]
    },
    {
     "data": {
      "image/png": "[encoded data removed]",
      "text/plain": [
       "<Figure size 432x288 with 1 Axes>"
      ]
     },
     "metadata": {
      "needs_background": "light"
     },
     "output_type": "display_data"
    },
    {
     "data": {
      "image/png": "[encoded data removed]",
      "text/plain": [
       "<Figure size 432x288 with 1 Axes>"
      ]
     },
     "metadata": {
      "needs_background": "light"
     },
     "output_type": "display_data"
    },
    {
     "name": "stdout",
     "output_type": "stream",
     "text": [
      "\n",
      "w1 : \n",
      "    torch.Size([1]) tensor([0.7179])\n",
      "\n",
      "w2 : \n",
      "    torch.Size([1]) tensor([0.6125])\n",
      "\n",
      "w3 : \n",
      "    torch.Size([1]) tensor([0.6801])\n",
      "\n",
      "b : \n",
      "    torch.Size([1]) tensor([0.0092])\n",
      "\n"
     ]
    }
   ],
   "source": [
    "\n",
    "import myutil as mu\n",
    "import torch\n",
    "import torch.nn as nn\n",
    "import torch.nn.functional as F\n",
    "import torch.optim as optim\n",
    "\n",
    "torch.manual_seed(1)\n",
    "\n",
    "# 훈련 데이터\n",
    "x1_train = torch.FloatTensor([[73], [93], [89], [96], [73]])\n",
    "x2_train = torch.FloatTensor([[80], [88], [91], [98], [66]])\n",
    "x3_train = torch.FloatTensor([[75], [93], [90], [100], [70]])\n",
    "y_train = torch.FloatTensor([[152], [185], [180], [196], [142]])\n",
    "\n",
    "# 가중치 w와 편향 b 초기화\n",
    "w1 = torch.zeros(1, requires_grad=True)\n",
    "w2 = torch.zeros(1, requires_grad=True)\n",
    "w3 = torch.zeros(1, requires_grad=True)\n",
    "b = torch.zeros(1, requires_grad=True)\n",
    "\n",
    "# optimizer 설정\n",
    "optimizer = optim.SGD([w1, w2, w3, b], lr=1e-5)\n",
    "nb_epochs = 1000\n",
    "mu.plt_init()\n",
    "\n",
    "for epoch in range(nb_epochs + 1):\n",
    "    # H(x) 계산\n",
    "    hypothesis = x1_train * w1 + x2_train * w2 + x3_train * w3 + b\n",
    "\n",
    "    # cost 계산\n",
    "    cost = torch.mean((hypothesis - y_train) ** 2)\n",
    "\n",
    "    # accuracy 계산\n",
    "    accuracy = mu.get_regression_accuracy(hypothesis, y_train)\n",
    "\n",
    "    # cost로 H(x) 개선\n",
    "    optimizer.zero_grad()\n",
    "    cost.backward()\n",
    "    optimizer.step()\n",
    "\n",
    "    # 100번마다 로그 출력\n",
    "    if epoch % 100 == 0:\n",
    "        mu.log_epoch(epoch, nb_epochs, cost, accuracy)\n",
    "\n",
    "mu.plt_show()\n",
    "mu.log(\"w1\", w1)\n",
    "mu.log(\"w2\", w2)\n",
    "mu.log(\"w3\", w3)\n",
    "mu.log(\"b\", b)\n",
    "\n"
   ]
  },
  {
   "cell_type": "markdown",
   "metadata": {},
   "source": [
    "--- \n",
    " 벡터와 행렬 연산으로 바꾸기 \n"
   ]
  },
  {
   "cell_type": "code",
   "execution_count": 2,
   "metadata": {},
   "outputs": [
    {
     "name": "stdout",
     "output_type": "stream",
     "text": [
      "x_train.shape : torch.Size([5, 3])\n",
      "y_train.shape : torch.Size([5, 1])\n",
      "-------------------------------------------------------------------------------- \n",
      "epoch :    0/1000 \n",
      "cost : 29661.800781 \n",
      "accuracy : 0.00 \n",
      "\n",
      "-------------------------------------------------------------------------------- \n",
      "epoch :  100/1000 \n",
      "cost : 1.563628 \n",
      "accuracy : 0.99 \n",
      "\n",
      "-------------------------------------------------------------------------------- \n",
      "epoch :  200/1000 \n",
      "cost : 1.497595 \n",
      "accuracy : 0.99 \n",
      "\n",
      "-------------------------------------------------------------------------------- \n",
      "epoch :  300/1000 \n",
      "cost : 1.435044 \n",
      "accuracy : 0.99 \n",
      "\n",
      "-------------------------------------------------------------------------------- \n",
      "epoch :  400/1000 \n",
      "cost : 1.375726 \n",
      "accuracy : 0.99 \n",
      "\n",
      "-------------------------------------------------------------------------------- \n",
      "epoch :  500/1000 \n",
      "cost : 1.319507 \n",
      "accuracy : 0.99 \n",
      "\n",
      "-------------------------------------------------------------------------------- \n",
      "epoch :  600/1000 \n",
      "cost : 1.266222 \n",
      "accuracy : 0.99 \n",
      "\n",
      "-------------------------------------------------------------------------------- \n",
      "epoch :  700/1000 \n",
      "cost : 1.215703 \n",
      "accuracy : 0.99 \n",
      "\n",
      "-------------------------------------------------------------------------------- \n",
      "epoch :  800/1000 \n",
      "cost : 1.167810 \n",
      "accuracy : 0.99 \n",
      "\n",
      "-------------------------------------------------------------------------------- \n",
      "epoch :  900/1000 \n",
      "cost : 1.122429 \n",
      "accuracy : 0.99 \n",
      "\n",
      "-------------------------------------------------------------------------------- \n",
      "epoch : 1000/1000 \n",
      "cost : 1.079390 \n",
      "accuracy : 0.99 \n",
      "\n"
     ]
    },
    {
     "data": {
      "image/png": "[encoded data removed]",
      "text/plain": [
       "<Figure size 432x288 with 1 Axes>"
      ]
     },
     "metadata": {
      "needs_background": "light"
     },
     "output_type": "display_data"
    },
    {
     "data": {
      "image/png": "[encoded data removed]",
      "text/plain": [
       "<Figure size 432x288 with 1 Axes>"
      ]
     },
     "metadata": {
      "needs_background": "light"
     },
     "output_type": "display_data"
    },
    {
     "name": "stdout",
     "output_type": "stream",
     "text": [
      "\n",
      "W : \n",
      "    torch.Size([3, 1]) tensor([[0.7179],\n",
      "            [0.6125],\n",
      "            [0.6801]])\n",
      "\n",
      "b : \n",
      "    torch.Size([1]) tensor([0.0092])\n",
      "\n"
     ]
    }
   ],
   "source": [
    "\n",
    "x_train = torch.FloatTensor([[73, 80, 75],\n",
    "                             [93, 88, 93],\n",
    "                             [89, 91, 90],\n",
    "                             [96, 98, 100],\n",
    "                             [73, 66, 70]])\n",
    "\n",
    "y_train = torch.FloatTensor([[152], [185], [180], [196], [142]])\n",
    "\n",
    "mu.log(\"x_train.shape\", x_train.shape)\n",
    "mu.log(\"y_train.shape\", y_train.shape)\n",
    "\n",
    "W = torch.zeros((3, 1), requires_grad=True)\n",
    "b = torch.zeros(1, requires_grad=True)\n",
    "\n",
    "hypothesis = x_train.matmul(W) + b\n",
    "\n",
    "x_train = torch.FloatTensor([[73, 80, 75],\n",
    "                             [93, 88, 93],\n",
    "                             [89, 91, 90],\n",
    "                             [96, 98, 100],\n",
    "                             [73, 66, 70]])\n",
    "y_train = torch.FloatTensor([[152], [185], [180], [196], [142]])\n",
    "\n",
    "# 모델 초기화\n",
    "W = torch.zeros((3, 1), requires_grad=True)\n",
    "b = torch.zeros(1, requires_grad=True)\n",
    "# optimizer 설정\n",
    "optimizer = optim.SGD([W, b], lr=1e-5)\n",
    "\n",
    "mu.plt_init()\n",
    "\n",
    "nb_epochs = 1000\n",
    "for epoch in range(nb_epochs + 1):\n",
    "\n",
    "    # H(x) 계산\n",
    "    # 편향 b는 브로드 캐스팅되어 각 샘플에 더해집니다.\n",
    "    hypothesis = x_train.matmul(W) + b\n",
    "\n",
    "    # cost 계산\n",
    "    cost = torch.mean((hypothesis - y_train) ** 2)\n",
    "\n",
    "    # accuracy 계산\n",
    "    accuracy = mu.get_regression_accuracy(hypothesis, y_train)\n",
    "\n",
    "    # cost로 H(x) 개선\n",
    "    optimizer.zero_grad()\n",
    "    cost.backward()\n",
    "    optimizer.step()\n",
    "\n",
    "    # 100번마다 로그 출력\n",
    "    if epoch % 100 == 0:\n",
    "        mu.log_epoch(epoch, nb_epochs, cost, accuracy)\n",
    "\n",
    "mu.plt_show()\n",
    "mu.log(\"W\", W)\n",
    "mu.log(\"b\", b)\n"
   ]
  }
 ],
 "metadata": {
  "kernelspec": {
   "display_name": "Python 3",
   "language": "python",
   "name": "python3"
  },
  "language_info": {
   "codemirror_mode": {
    "name": "ipython",
    "version": 3
   },
   "file_extension": ".py",
   "mimetype": "text/x-python",
   "name": "python",
   "nbconvert_exporter": "python",
   "pygments_lexer": "ipython3",
   "version": "3.8.2"
  }
 },
 "nbformat": 4,
 "nbformat_minor": 4
}

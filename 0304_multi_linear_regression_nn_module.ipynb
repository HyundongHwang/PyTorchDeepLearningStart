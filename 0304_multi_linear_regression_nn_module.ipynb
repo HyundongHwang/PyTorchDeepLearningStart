{
 "cells": [
  {
   "cell_type": "markdown",
   "metadata": {},
   "source": [
    "--- \n",
    " - 다중 선형 회귀 \n",
    "   - 이제 데이터를 선언합니다. \n",
    "   - 아래 데이터는 y=2x를 가정된 상태에서 만들어진 데이터로 우리는 이미 정답이 W=2, b=0임을 알고 있는 사태입니다. \n",
    "   - 모델이 이 두 W와 b의 값을 제대로 찾아내도록 하는 것이 목표입니다. \n"
   ]
  },
  {
   "cell_type": "code",
   "execution_count": 1,
   "metadata": {},
   "outputs": [
    {
     "name": "stdout",
     "output_type": "stream",
     "text": [
      "\n",
      "model : \n",
      "    Linear(in_features=1, out_features=1, bias=True) \n",
      "    weight    torch.Size([1, 1])\n",
      "        tensor([[0.5153]])\n",
      "    bias    torch.Size([1])\n",
      "        tensor([-0.4414])\n",
      "\n",
      "-------------------------------------------------------------------------------- \n",
      "epoch :    0/2000 \n",
      "cost : 13.103541 \n",
      "accuracy : 0.12 \n",
      "\n",
      "-------------------------------------------------------------------------------- \n",
      "epoch :  100/2000 \n",
      "cost : 0.002791 \n",
      "accuracy : 0.98 \n",
      "\n",
      "-------------------------------------------------------------------------------- \n",
      "epoch :  200/2000 \n",
      "cost : 0.001724 \n",
      "accuracy : 0.99 \n",
      "\n",
      "-------------------------------------------------------------------------------- \n",
      "epoch :  300/2000 \n",
      "cost : 0.001066 \n",
      "accuracy : 0.99 \n",
      "\n",
      "-------------------------------------------------------------------------------- \n",
      "epoch :  400/2000 \n",
      "cost : 0.000658 \n",
      "accuracy : 0.99 \n",
      "\n",
      "-------------------------------------------------------------------------------- \n",
      "epoch :  500/2000 \n",
      "cost : 0.000407 \n",
      "accuracy : 0.99 \n",
      "\n",
      "-------------------------------------------------------------------------------- \n",
      "epoch :  600/2000 \n",
      "cost : 0.000251 \n",
      "accuracy : 0.99 \n",
      "\n",
      "-------------------------------------------------------------------------------- \n",
      "epoch :  700/2000 \n",
      "cost : 0.000155 \n",
      "accuracy : 1.00 \n",
      "\n",
      "-------------------------------------------------------------------------------- \n",
      "epoch :  800/2000 \n",
      "cost : 0.000096 \n",
      "accuracy : 1.00 \n",
      "\n",
      "-------------------------------------------------------------------------------- \n",
      "epoch :  900/2000 \n",
      "cost : 0.000059 \n",
      "accuracy : 1.00 \n",
      "\n",
      "-------------------------------------------------------------------------------- \n",
      "epoch : 1000/2000 \n",
      "cost : 0.000037 \n",
      "accuracy : 1.00 \n",
      "\n",
      "-------------------------------------------------------------------------------- \n",
      "epoch : 1100/2000 \n",
      "cost : 0.000023 \n",
      "accuracy : 1.00 \n",
      "\n",
      "-------------------------------------------------------------------------------- \n",
      "epoch : 1200/2000 \n",
      "cost : 0.000014 \n",
      "accuracy : 1.00 \n",
      "\n",
      "-------------------------------------------------------------------------------- \n",
      "epoch : 1300/2000 \n",
      "cost : 0.000009 \n",
      "accuracy : 1.00 \n",
      "\n",
      "-------------------------------------------------------------------------------- \n",
      "epoch : 1400/2000 \n",
      "cost : 0.000005 \n",
      "accuracy : 1.00 \n",
      "\n",
      "-------------------------------------------------------------------------------- \n",
      "epoch : 1500/2000 \n",
      "cost : 0.000003 \n",
      "accuracy : 1.00 \n",
      "\n",
      "-------------------------------------------------------------------------------- \n",
      "epoch : 1600/2000 \n",
      "cost : 0.000002 \n",
      "accuracy : 1.00 \n",
      "\n",
      "-------------------------------------------------------------------------------- \n",
      "epoch : 1700/2000 \n",
      "cost : 0.000001 \n",
      "accuracy : 1.00 \n",
      "\n",
      "-------------------------------------------------------------------------------- \n",
      "epoch : 1800/2000 \n",
      "cost : 0.000001 \n",
      "accuracy : 1.00 \n",
      "\n",
      "-------------------------------------------------------------------------------- \n",
      "epoch : 1900/2000 \n",
      "cost : 0.000000 \n",
      "accuracy : 1.00 \n",
      "\n",
      "-------------------------------------------------------------------------------- \n",
      "epoch : 2000/2000 \n",
      "cost : 0.000000 \n",
      "accuracy : 1.00 \n",
      "\n"
     ]
    },
    {
     "data": {
      "image/png": "[encoded data removed]",
      "text/plain": [
       "<Figure size 432x288 with 1 Axes>"
      ]
     },
     "metadata": {
      "needs_background": "light"
     },
     "output_type": "display_data"
    },
    {
     "data": {
      "image/png": "[encoded data removed]",
      "text/plain": [
       "<Figure size 432x288 with 1 Axes>"
      ]
     },
     "metadata": {
      "needs_background": "light"
     },
     "output_type": "display_data"
    }
   ],
   "source": [
    "\n",
    "import myutil as mu\n",
    "import torch\n",
    "import torch.nn as nn\n",
    "import torch.nn.functional as F\n",
    "import torch.optim as optim\n",
    "\n",
    "torch.manual_seed(1)\n",
    "\n",
    "# 데이터\n",
    "x_train = torch.FloatTensor([[1], [2], [3]])\n",
    "y_train = torch.FloatTensor([[2], [4], [6]])\n",
    "\n",
    "model = nn.Linear(in_features=1, out_features=1)\n",
    "mu.log(\"model\", model)\n",
    "optimizer = optim.SGD(model.parameters(), lr=0.01)\n",
    "nb_epochs = 2000\n",
    "mu.plt_init()\n",
    "\n",
    "for epoch in range(nb_epochs + 1):\n",
    "    hypothesis = model(x_train)\n",
    "    cost = F.mse_loss(hypothesis, y_train)\n",
    "    \n",
    "    # accuracy 계산\n",
    "    accuracy = mu.get_regression_accuracy(hypothesis, y_train)\n",
    "\n",
    "    optimizer.zero_grad()\n",
    "    cost.backward()\n",
    "    optimizer.step()\n",
    "\n",
    "    if epoch % 100 == 0:\n",
    "        mu.log_epoch(epoch, nb_epochs, cost, accuracy)\n",
    "\n",
    "mu.plt_show()\n",
    "\n"
   ]
  },
  {
   "cell_type": "markdown",
   "metadata": {},
   "source": [
    "--- \n",
    " - 학습이 완료되었습니다. Cost의 값이 매우 작습니다. \n",
    " - W와 b의 값도 최적화가 되었는지 확인해봅시다. \n",
    " - x에 임의의 값 4를 넣어 모델이 예측하는 y의 값을 확인해보겠습니다. \n",
    " - 사실 이 문제의 정답은 y=2x가 정답이므로 y값이 8에 가까우면 W와 b의 값이 어느정도 최적화가 된 것으로 볼 수 있습니다. \n",
    " - 실제로 예측된 y값은 7.9989로 8에 매우 가깝습니다. \n",
    " - 이제 학습 후의 W와 b의 값을 출력해보겠습니다. \n",
    " - W의 값이 2에 가깝고, b의 값이 0에 가까운 것을 볼 수 있습니다. \n"
   ]
  },
  {
   "cell_type": "code",
   "execution_count": 2,
   "metadata": {},
   "outputs": [
    {
     "name": "stdout",
     "output_type": "stream",
     "text": [
      "model : \n",
      "    Linear(in_features=1, out_features=1, bias=True) \n",
      "    weight    torch.Size([1, 1])\n",
      "        tensor([[1.9994]])\n",
      "    bias    torch.Size([1])\n",
      "        tensor([0.0014])\n",
      "\n",
      "new_var.item() : 4.0\n",
      "pred_y.item() : 7.99890661239624\n"
     ]
    }
   ],
   "source": [
    "\n",
    "mu.log(\"model\", model)\n",
    "new_var = torch.FloatTensor([[4.0]])\n",
    "pred_y = model(new_var)\n",
    "mu.log(\"new_var.item()\", new_var.item())\n",
    "mu.log(\"pred_y.item()\", pred_y.item())\n"
   ]
  }
 ],
 "metadata": {
  "kernelspec": {
   "display_name": "Python 3",
   "language": "python",
   "name": "python3"
  },
  "language_info": {
   "codemirror_mode": {
    "name": "ipython",
    "version": 3
   },
   "file_extension": ".py",
   "mimetype": "text/x-python",
   "name": "python",
   "nbconvert_exporter": "python",
   "pygments_lexer": "ipython3",
   "version": "3.8.2"
  }
 },
 "nbformat": 4,
 "nbformat_minor": 4
}

{
 "cells": [
  {
   "cell_type": "markdown",
   "metadata": {},
   "source": [
    "--- \n",
    " - 다중 선형 회귀 \n",
    "   - 이제 데이터를 선언합니다. \n",
    "   - 아래 데이터는 y=2x를 가정된 상태에서 만들어진 데이터로 우리는 이미 정답이 W=2, b=0임을 알고 있는 사태입니다. \n",
    "   - 모델이 이 두 W와 b의 값을 제대로 찾아내도록 하는 것이 목표입니다. \n"
   ]
  },
  {
   "cell_type": "code",
   "execution_count": 1,
   "metadata": {},
   "outputs": [
    {
     "name": "stdout",
     "output_type": "stream",
     "text": [
      "\n",
      "model : \n",
      "    0.5152631998062134\n",
      "    -0.44137823581695557\n",
      "\n",
      "epoch    0/2000 cost : 13.103541 model : [0.671494, -0.373161, ]\n",
      "epoch  100/2000 cost : 0.002791 model : [1.938784, 0.139133, ]\n",
      "epoch  200/2000 cost : 0.001724 model : [1.951886, 0.109375, ]\n",
      "epoch  300/2000 cost : 0.001066 model : [1.962178, 0.085978, ]\n",
      "epoch  400/2000 cost : 0.000658 model : [1.970268, 0.067587, ]\n",
      "epoch  500/2000 cost : 0.000407 model : [1.976628, 0.053129, ]\n",
      "epoch  600/2000 cost : 0.000251 model : [1.981628, 0.041765, ]\n",
      "epoch  700/2000 cost : 0.000155 model : [1.985558, 0.032831, ]\n",
      "epoch  800/2000 cost : 0.000096 model : [1.988647, 0.025808, ]\n",
      "epoch  900/2000 cost : 0.000059 model : [1.991076, 0.020287, ]\n",
      "epoch 1000/2000 cost : 0.000037 model : [1.992985, 0.015948, ]\n",
      "epoch 1100/2000 cost : 0.000023 model : [1.994485, 0.012536, ]\n",
      "epoch 1200/2000 cost : 0.000014 model : [1.995665, 0.009855, ]\n",
      "epoch 1300/2000 cost : 0.000009 model : [1.996592, 0.007747, ]\n",
      "epoch 1400/2000 cost : 0.000005 model : [1.997321, 0.006090, ]\n",
      "epoch 1500/2000 cost : 0.000003 model : [1.997894, 0.004787, ]\n",
      "epoch 1600/2000 cost : 0.000002 model : [1.998345, 0.003763, ]\n",
      "epoch 1700/2000 cost : 0.000001 model : [1.998698, 0.002959, ]\n",
      "epoch 1800/2000 cost : 0.000001 model : [1.998977, 0.002326, ]\n",
      "epoch 1900/2000 cost : 0.000000 model : [1.999195, 0.001829, ]\n",
      "epoch 2000/2000 cost : 0.000000 model : [1.999367, 0.001438, ]\n",
      "\n",
      "model : \n",
      "    1.999367117881775\n",
      "    0.001438319799490273\n",
      "\n",
      "new_var.item() : 4.0\n",
      "pred_y.item() : 7.99890661239624\n"
     ]
    }
   ],
   "source": [
    "\n",
    "import myutil as mu\n",
    "import torch\n",
    "import torch.nn as nn\n",
    "import torch.nn.functional as F\n",
    "import torch.optim as optim\n",
    "\n",
    "torch.manual_seed(1)\n",
    "\n",
    "# 데이터\n",
    "x_train = torch.FloatTensor([[1], [2], [3]])\n",
    "y_train = torch.FloatTensor([[2], [4], [6]])\n",
    "\n",
    "model = nn.Linear(1, 1)\n",
    "mu.log_model(\"model\", model)\n",
    "optimizer = optim.SGD(model.parameters(), lr=0.01)\n",
    "nb_epochs = 2000\n",
    "\n",
    "for epoch in range(nb_epochs + 1):\n",
    "    hyperthesis = model(x_train)\n",
    "    cost = F.mse_loss(hyperthesis, y_train)\n",
    "\n",
    "    optimizer.zero_grad()\n",
    "    cost.backward()\n",
    "    optimizer.step()\n",
    "\n",
    "    if epoch % 100 == 0:\n",
    "        print(\"epoch {:4d}/{} cost : {:.6f} model : {}\".format(\n",
    "            epoch,\n",
    "            nb_epochs,\n",
    "            cost.item(),\n",
    "            mu.model_to_str(model)\n",
    "        ))\n",
    "\n",
    "mu.log_model(\"model\", model)\n",
    "new_var = torch.FloatTensor([[4.0]])\n",
    "pred_y = model(new_var)\n",
    "mu.log(\"new_var.item()\", new_var.item())\n",
    "mu.log(\"pred_y.item()\", pred_y.item())\n"
   ]
  }
 ],
 "metadata": {
  "kernelspec": {
   "display_name": "Python 3",
   "language": "python",
   "name": "python3"
  },
  "language_info": {
   "codemirror_mode": {
    "name": "ipython",
    "version": 3
   },
   "file_extension": ".py",
   "mimetype": "text/x-python",
   "name": "python",
   "nbconvert_exporter": "python",
   "pygments_lexer": "ipython3",
   "version": "3.8.2"
  }
 },
 "nbformat": 4,
 "nbformat_minor": 4
}

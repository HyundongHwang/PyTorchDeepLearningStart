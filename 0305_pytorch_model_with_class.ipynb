{
 "cells": [
  {
   "cell_type": "code",
   "execution_count": 1,
   "metadata": {},
   "outputs": [],
   "source": [
    "import myutil as mu\n",
    "import torch\n",
    "import torch.nn as nn\n",
    "import torch.nn.functional as F\n",
    "import torch.optim as optim\n",
    "\n"
   ]
  },
  {
   "cell_type": "markdown",
   "metadata": {},
   "source": [
    "--- \n",
    " - 단순 선형 회귀 클래스로 구현하기 \n",
    "   - 이제 모델을 클래스로 구현한 코드를 보겠습니다. 달라진 점은 모델을 클래스로 구현했다는 점 뿐입니다. 다른 코드는 전부 동일합니다. \n",
    "   - 클래스(class) 형태의 모델은 nn.Module 을 상속받습니다. \n",
    "   - 그리고 __init__()에서 모델의 구조와 동적을 정의하는 생성자를 정의합니다. \n",
    "   - 이는 파이썬에서 객체가 갖는 속성값을 초기화하는 역할로, 객체가 생성될 때 자동으호 호출됩니다. \n",
    "   - super() 함수를 부르면 여기서 만든 클래스는 nn.Module 클래스의 속성들을 가지고 초기화 됩니다. \n",
    "   - foward() 함수는 모델이 학습데이터를 입력받아서 forward 연산을 진행시키는 함수입니다. \n",
    "   - 이 forward() 함수는 model 객체를 데이터와 함께 호출하면 자동으로 실행이됩니다. \n",
    "   - 예를 들어 model이란 이름의 객체를 생성 후, model(입력 데이터)와 같은 형식으로 객체를 호출하면 자동으로 forward 연산이 수행됩니다. \n",
    "   - H(x) 식에 입력 x로부터 예측된 y를 얻는 것을 forward 연산이라고 합니다. \n"
   ]
  },
  {
   "cell_type": "code",
   "execution_count": 2,
   "metadata": {},
   "outputs": [
    {
     "name": "stdout",
     "output_type": "stream",
     "text": [
      "-------------------------------------------------------------------------------- \n",
      "epoch :    0/2000 \n",
      "cost : 25.381737 \n",
      "accuracy : 0.00 \n",
      "\n",
      "-------------------------------------------------------------------------------- \n",
      "epoch :  100/2000 \n",
      "cost : 0.010823 \n",
      "accuracy : 0.97 \n",
      "\n",
      "-------------------------------------------------------------------------------- \n",
      "epoch :  200/2000 \n",
      "cost : 0.006688 \n",
      "accuracy : 0.97 \n",
      "\n",
      "-------------------------------------------------------------------------------- \n",
      "epoch :  300/2000 \n",
      "cost : 0.004133 \n",
      "accuracy : 0.98 \n",
      "\n",
      "-------------------------------------------------------------------------------- \n",
      "epoch :  400/2000 \n",
      "cost : 0.002554 \n",
      "accuracy : 0.98 \n",
      "\n",
      "-------------------------------------------------------------------------------- \n",
      "epoch :  500/2000 \n",
      "cost : 0.001578 \n",
      "accuracy : 0.99 \n",
      "\n",
      "-------------------------------------------------------------------------------- \n",
      "epoch :  600/2000 \n",
      "cost : 0.000975 \n",
      "accuracy : 0.99 \n",
      "\n",
      "-------------------------------------------------------------------------------- \n",
      "epoch :  700/2000 \n",
      "cost : 0.000603 \n",
      "accuracy : 0.99 \n",
      "\n",
      "-------------------------------------------------------------------------------- \n",
      "epoch :  800/2000 \n",
      "cost : 0.000372 \n",
      "accuracy : 0.99 \n",
      "\n",
      "-------------------------------------------------------------------------------- \n",
      "epoch :  900/2000 \n",
      "cost : 0.000230 \n",
      "accuracy : 1.00 \n",
      "\n",
      "-------------------------------------------------------------------------------- \n",
      "epoch : 1000/2000 \n",
      "cost : 0.000142 \n",
      "accuracy : 1.00 \n",
      "\n",
      "-------------------------------------------------------------------------------- \n",
      "epoch : 1100/2000 \n",
      "cost : 0.000088 \n",
      "accuracy : 1.00 \n",
      "\n",
      "-------------------------------------------------------------------------------- \n",
      "epoch : 1200/2000 \n",
      "cost : 0.000054 \n",
      "accuracy : 1.00 \n",
      "\n",
      "-------------------------------------------------------------------------------- \n",
      "epoch : 1300/2000 \n",
      "cost : 0.000034 \n",
      "accuracy : 1.00 \n",
      "\n",
      "-------------------------------------------------------------------------------- \n",
      "epoch : 1400/2000 \n",
      "cost : 0.000021 \n",
      "accuracy : 1.00 \n",
      "\n",
      "-------------------------------------------------------------------------------- \n",
      "epoch : 1500/2000 \n",
      "cost : 0.000013 \n",
      "accuracy : 1.00 \n",
      "\n",
      "-------------------------------------------------------------------------------- \n",
      "epoch : 1600/2000 \n",
      "cost : 0.000008 \n",
      "accuracy : 1.00 \n",
      "\n",
      "-------------------------------------------------------------------------------- \n",
      "epoch : 1700/2000 \n",
      "cost : 0.000005 \n",
      "accuracy : 1.00 \n",
      "\n",
      "-------------------------------------------------------------------------------- \n",
      "epoch : 1800/2000 \n",
      "cost : 0.000003 \n",
      "accuracy : 1.00 \n",
      "\n",
      "-------------------------------------------------------------------------------- \n",
      "epoch : 1900/2000 \n",
      "cost : 0.000002 \n",
      "accuracy : 1.00 \n",
      "\n",
      "-------------------------------------------------------------------------------- \n",
      "epoch : 2000/2000 \n",
      "cost : 0.000001 \n",
      "accuracy : 1.00 \n",
      "\n"
     ]
    },
    {
     "data": {
      "image/png": "[encoded data removed]",
      "text/plain": [
       "<Figure size 432x288 with 1 Axes>"
      ]
     },
     "metadata": {
      "needs_background": "light"
     },
     "output_type": "display_data"
    },
    {
     "data": {
      "image/png": "[encoded data removed]",
      "text/plain": [
       "<Figure size 432x288 with 1 Axes>"
      ]
     },
     "metadata": {
      "needs_background": "light"
     },
     "output_type": "display_data"
    },
    {
     "name": "stdout",
     "output_type": "stream",
     "text": [
      "\n",
      "model : \n",
      "    LinealRegressionModel(\n",
      "      (linear): Linear(in_features=1, out_features=1, bias=True)\n",
      "    ) \n",
      "    linear.weight    torch.Size([1, 1])\n",
      "        tensor([[1.9988]])\n",
      "    linear.bias    torch.Size([1])\n",
      "        tensor([0.0028])\n",
      "\n"
     ]
    }
   ],
   "source": [
    "\n",
    "class LinealRegressionModel(nn.Module):\n",
    "    def __init__(self):\n",
    "        super().__init__()\n",
    "        self.linear = nn.Linear(1, 1)\n",
    "\n",
    "    def forward(self, x):\n",
    "        return self.linear(x)\n",
    "\n",
    "model = LinealRegressionModel()\n",
    "optimizer = optim.SGD(model.parameters(), lr=0.01)\n",
    "nb_epoches = 2000\n",
    "\n",
    "# 훈련 데이터\n",
    "x_train = torch.FloatTensor([[1], [2], [3]])\n",
    "y_train = torch.FloatTensor([[2], [4], [6]])\n",
    "\n",
    "mu.plt_init()\n",
    "\n",
    "for epoch in range(nb_epoches + 1):\n",
    "    predication = model(x_train)\n",
    "    cost = F.mse_loss(predication, y_train)\n",
    "    accuracy = mu.get_regression_accuracy(predication, y_train)\n",
    "\n",
    "    optimizer.zero_grad()\n",
    "    cost.backward()\n",
    "    optimizer.step()\n",
    "\n",
    "    if epoch % 100 == 0 :\n",
    "        mu.log_epoch(epoch, nb_epoches, cost, accuracy)\n",
    "\n",
    "mu.plt_show()\n",
    "mu.log(\"model\", model)\n"
   ]
  }
 ],
 "metadata": {
  "kernelspec": {
   "display_name": "Python 3",
   "language": "python",
   "name": "python3"
  },
  "language_info": {
   "codemirror_mode": {
    "name": "ipython",
    "version": 3
   },
   "file_extension": ".py",
   "mimetype": "text/x-python",
   "name": "python",
   "nbconvert_exporter": "python",
   "pygments_lexer": "ipython3",
   "version": "3.8.2"
  }
 },
 "nbformat": 4,
 "nbformat_minor": 4
}

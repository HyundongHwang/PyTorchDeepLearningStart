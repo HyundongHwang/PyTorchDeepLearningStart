{
 "cells": [
  {
   "cell_type": "code",
   "execution_count": 1,
   "metadata": {},
   "outputs": [],
   "source": [
    "import myutil as mu\n",
    "import torch\n",
    "import torch.nn as nn\n",
    "import torch.nn.functional as F\n",
    "import torch.optim as optim\n",
    "from torch.utils.data import TensorDataset  # 텐서데이터셋\n",
    "from torch.utils.data import DataLoader  # 데이터로더\n",
    "from torch.utils.data import Dataset\n",
    "\n"
   ]
  },
  {
   "cell_type": "markdown",
   "metadata": {},
   "source": [
    "--- \n",
    " - 로지스틱 회귀(Logistic Regression) \n",
    "   - 일상 속 풀고자하는 많은 문제 중에서는 두 개의 선택지 중에서 정답을 고르는 문제가 많습니다. \n",
    "   - 예를 들어 시험을 봤는데 이 시험 점수가 합격인지 불합격인지가 궁금할 수도 있고, 어떤 메일을 받았을 때 이게 정상 메일인지 스팸 메일인지를 분류하는 문제도 그렇습니다. 이렇게 둘 중 하나를 결정하는 문제를 이진 분류(Binary Classification)라고 합니다. 그리고 이진 분류를 풀기 위한 대표적인 알고리즘으로 로지스틱 회귀(Logistic Regression)가 있습니다. \n",
    "   - 로지스틱 회귀는 알고리즘의 이름은 회귀이지만 실제로는 분류(Classification) 작업에 사용할 수 있습니다. \n"
   ]
  },
  {
   "cell_type": "code",
   "execution_count": 0,
   "metadata": {},
   "outputs": [],
   "source": [
    "\n",
    "\n"
   ]
  },
  {
   "cell_type": "markdown",
   "metadata": {},
   "source": [
    "--- \n",
    " - 시그모이드 함수(Sigmoid function) \n",
    "   - 위와 같이 S자 형태로 그래프를 그려주는 시그모이드 함수의 방정식은 아래와 같습니다. \n",
    " ![](https://render.githubusercontent.com/render/math?math=H%28x%29%20%3D%20sigmoid%28Wx%20%2B%20b%29%20%3D%20%5Cfrac%20%7B1%7D%20%7B1%20%2B%20e%5E%7B-%28Wx%20%2B%20b%29%7D%7D%20%3D%20%5Csigma%20%28Wx%20%2B%20b%29) \n",
    "   - 선형 회귀에서는 최적의 W와 b를 찾는 것이 목표였습니다. \n",
    "   - 여기서도 마찬가지입니다. \n",
    "   - 선형 회귀에서는 W가 직선의 기울기, b가 y절편을 의미했습니다. \n",
    "   - 그렇다면 여기에서는 W와 b가 함수의 그래프에 어떤 영향을 주는지 직접 그래프를 그려서 알아보겠습니다. \n"
   ]
  },
  {
   "cell_type": "code",
   "execution_count": 2,
   "metadata": {},
   "outputs": [
    {
     "data": {
      "image/png": "[encoded data removed]",
      "text/plain": [
       "<Figure size 432x288 with 1 Axes>"
      ]
     },
     "metadata": {
      "needs_background": "light"
     },
     "output_type": "display_data"
    }
   ],
   "source": [
    "\n",
    "\n",
    "# %matplotlib inline\n",
    "import numpy as np  # 넘파이 사용\n",
    "import matplotlib.pyplot as plt  # 맷플롯립사용\n",
    "\n",
    "\n",
    "def sigmoid(x):\n",
    "    res = 1 / (1 + np.exp(-x))\n",
    "    return res\n",
    "\n",
    "\n",
    "x = np.arange(-5.0, 5.0, 0.1)\n",
    "y = sigmoid(x)\n",
    "\n",
    "plt.plot(x, y, \"g\")\n",
    "plt.plot([0, 0], [1, 0], \":\")\n",
    "plt.title(\"sigmoid function\")\n",
    "plt.show()\n",
    "\n"
   ]
  },
  {
   "cell_type": "markdown",
   "metadata": {},
   "source": [
    "--- \n",
    " - 비용 함수(Cost function) \n",
    "   - y 의 실제값이 1일 때 −logH(x) 그래프를 사용하고 \n",
    "   - y의 실제값이 0일 때 −log(1−H(X)) 그래프를 사용해야 합니다. \n",
    "   - 이는 다음과 같이 하나의 식으로 통합할 수 있습니다. \n",
    " ![](https://render.githubusercontent.com/render/math?math=cost(W) = -\\frac{1}{n} \\sum_{i=1}^{n} [y^{(i)}logH(x^{(i)}) %2B (1-y^{(i)})log(1-H(x^{(i)}))]) \n"
   ]
  },
  {
   "cell_type": "code",
   "execution_count": 3,
   "metadata": {},
   "outputs": [
    {
     "name": "stdout",
     "output_type": "stream",
     "text": [
      "\n",
      "hypothesis : \n",
      "    torch.Size([6, 1]) tensor([[0.5000],\n",
      "            [0.5000],\n",
      "            [0.5000],\n",
      "            [0.5000],\n",
      "            [0.5000],\n",
      "            [0 ...\n",
      "\n",
      "y_train : \n",
      "    torch.Size([6, 1]) tensor([[0.],\n",
      "            [0.],\n",
      "            [0.],\n",
      "            [1.],\n",
      "            [1.],\n",
      "            [1.]])\n",
      "\n",
      "hypothesis : \n",
      "    torch.Size([6, 1]) tensor([[0.5000],\n",
      "            [0.5000],\n",
      "            [0.5000],\n",
      "            [0.5000],\n",
      "            [0.5000],\n",
      "            [0 ...\n",
      "\n",
      "y_train : \n",
      "    torch.Size([6, 1]) tensor([[0.],\n",
      "            [0.],\n",
      "            [0.],\n",
      "            [1.],\n",
      "            [1.],\n",
      "            [1.]])\n",
      "\n",
      "losses : \n",
      "    torch.Size([6, 1]) tensor([[-0.6931],\n",
      "            [-0.6931],\n",
      "            [-0.6931],\n",
      "            [ 0.6931],\n",
      "            [ 0.6931],\n",
      "          ...\n",
      "\n",
      "cost : \n",
      "    torch.Size([]) 0.0\n",
      "\n",
      "loss.item() : 0.6931471824645996\n"
     ]
    }
   ],
   "source": [
    "\n",
    "\n",
    "torch.manual_seed(1)\n",
    "\n",
    "x_data = [[1, 2], [2, 3], [3, 1], [4, 3], [5, 3], [6, 2]]\n",
    "y_data = [[0], [0], [0], [1], [1], [1]]\n",
    "x_train = torch.FloatTensor(x_data)\n",
    "y_train = torch.FloatTensor(y_data)\n",
    "\n",
    "W = torch.zeros((2, 1), requires_grad=True)\n",
    "b = torch.zeros(1, requires_grad=True)\n",
    "hypothesis = 1 / (1 + torch.exp(-(x_train.matmul(W) + b)))\n",
    "mu.log(\"hypothesis\", hypothesis)\n",
    "mu.log(\"y_train\", y_train)\n",
    "\n",
    "hypothesis = torch.sigmoid(x_train.matmul(W) + b)\n",
    "mu.log(\"hypothesis\", hypothesis)\n",
    "mu.log(\"y_train\", y_train)\n",
    "\n",
    "losses = -(y_train * torch.log(hypothesis)) + (1 - y_train) * torch.log(1 - hypothesis)\n",
    "cost = losses.mean()\n",
    "mu.log(\"losses\", losses)\n",
    "mu.log(\"cost\", cost)\n",
    "\n",
    "loss = F.binary_cross_entropy(hypothesis, y_train)\n",
    "mu.log(\"loss.item()\", loss.item())\n",
    "\n"
   ]
  },
  {
   "cell_type": "markdown",
   "metadata": {},
   "source": [
    "--- \n",
    " 모델의 훈련 과정까지 추가한 전체 코드는 아래와 같습니다. \n"
   ]
  },
  {
   "cell_type": "code",
   "execution_count": 4,
   "metadata": {},
   "outputs": [
    {
     "name": "stdout",
     "output_type": "stream",
     "text": [
      "-------------------------------------------------------------------------------- \n",
      "epoch :    0/1000 \n",
      "cost : 0.693147 \n",
      "accuracy : 0.25 \n",
      "\n",
      "-------------------------------------------------------------------------------- \n",
      "epoch :  100/1000 \n",
      "cost : 0.134722 \n",
      "accuracy : 0.45 \n",
      "\n",
      "-------------------------------------------------------------------------------- \n",
      "epoch :  200/1000 \n",
      "cost : 0.080643 \n",
      "accuracy : 0.47 \n",
      "\n",
      "-------------------------------------------------------------------------------- \n",
      "epoch :  300/1000 \n",
      "cost : 0.057900 \n",
      "accuracy : 0.48 \n",
      "\n",
      "-------------------------------------------------------------------------------- \n",
      "epoch :  400/1000 \n",
      "cost : 0.045300 \n",
      "accuracy : 0.48 \n",
      "\n",
      "-------------------------------------------------------------------------------- \n",
      "epoch :  500/1000 \n",
      "cost : 0.037261 \n",
      "accuracy : 0.49 \n",
      "\n",
      "-------------------------------------------------------------------------------- \n",
      "epoch :  600/1000 \n",
      "cost : 0.031673 \n",
      "accuracy : 0.49 \n",
      "\n",
      "-------------------------------------------------------------------------------- \n",
      "epoch :  700/1000 \n",
      "cost : 0.027556 \n",
      "accuracy : 0.49 \n",
      "\n",
      "-------------------------------------------------------------------------------- \n",
      "epoch :  800/1000 \n",
      "cost : 0.024394 \n",
      "accuracy : 0.49 \n",
      "\n",
      "-------------------------------------------------------------------------------- \n",
      "epoch :  900/1000 \n",
      "cost : 0.021888 \n",
      "accuracy : 0.49 \n",
      "\n",
      "-------------------------------------------------------------------------------- \n",
      "epoch : 1000/1000 \n",
      "cost : 0.019852 \n",
      "accuracy : 0.49 \n",
      "\n"
     ]
    },
    {
     "data": {
      "image/png": "[encoded data removed]",
      "text/plain": [
       "<Figure size 432x288 with 1 Axes>"
      ]
     },
     "metadata": {
      "needs_background": "light"
     },
     "output_type": "display_data"
    },
    {
     "data": {
      "image/png": "[encoded data removed]",
      "text/plain": [
       "<Figure size 432x288 with 1 Axes>"
      ]
     },
     "metadata": {
      "needs_background": "light"
     },
     "output_type": "display_data"
    },
    {
     "name": "stdout",
     "output_type": "stream",
     "text": [
      "\n",
      "W : \n",
      "    torch.Size([2, 1]) tensor([[3.2530],\n",
      "            [1.5179]])\n",
      "\n",
      "b : \n",
      "    torch.Size([1]) tensor([-14.4819])\n",
      "\n",
      "prediction : \n",
      "    torch.Size([6, 1]) tensor([[False],\n",
      "            [False],\n",
      "            [False],\n",
      "            [ True],\n",
      "            [ True],\n",
      "            [ True] ...\n",
      "\n",
      "y_data : [[0], [0], [0], [1], [1], [1]]\n"
     ]
    }
   ],
   "source": [
    "\n",
    "x_data = [[1, 2], [2, 3], [3, 1], [4, 3], [5, 3], [6, 2]]\n",
    "y_data = [[0], [0], [0], [1], [1], [1]]\n",
    "x_train = torch.FloatTensor(x_data)\n",
    "y_train = torch.FloatTensor(y_data)\n",
    "\n",
    "W = torch.zeros((2, 1), requires_grad=True)\n",
    "b = torch.zeros(1, requires_grad=True)\n",
    "optimizer = optim.SGD([W, b], lr=1)\n",
    "nb_epoches = 1000\n",
    "mu.plt_init()\n",
    "\n",
    "for epoch in range(nb_epoches + 1):\n",
    "    hypothesis = torch.sigmoid(x_train.matmul(W) + b)\n",
    "    cost = -(y_train * torch.log(hypothesis) + (1 - y_train) * torch.log(1 - hypothesis)).mean()\n",
    "    accuracy = mu.get_regression_accuracy(hypothesis, y_train)\n",
    "    optimizer.zero_grad()\n",
    "    cost.backward()\n",
    "    optimizer.step()\n",
    "\n",
    "    if epoch % 100 == 0:\n",
    "        mu.log_epoch(epoch, nb_epoches, cost, accuracy)\n",
    "\n",
    "mu.plt_show()\n",
    "mu.log(\"W\", W)\n",
    "mu.log(\"b\", b)\n",
    "\n",
    "prediction = hypothesis >= torch.FloatTensor([0.5])\n",
    "mu.log(\"prediction\", prediction)\n",
    "mu.log(\"y_data\", y_data)\n"
   ]
  }
 ],
 "metadata": {
  "kernelspec": {
   "display_name": "Python 3",
   "language": "python",
   "name": "python3"
  },
  "language_info": {
   "codemirror_mode": {
    "name": "ipython",
    "version": 3
   },
   "file_extension": ".py",
   "mimetype": "text/x-python",
   "name": "python",
   "nbconvert_exporter": "python",
   "pygments_lexer": "ipython3",
   "version": "3.8.2"
  }
 },
 "nbformat": 4,
 "nbformat_minor": 4
}

{
 "cells": [
  {
   "cell_type": "code",
   "execution_count": 1,
   "metadata": {},
   "outputs": [],
   "source": [
    "import myutil as mu\n",
    "import torch\n",
    "import torch.nn as nn\n",
    "import torch.nn.functional as F\n",
    "import torch.optim as optim\n",
    "from torch.utils.data import TensorDataset  # 텐서데이터셋\n",
    "from torch.utils.data import DataLoader  # 데이터로더\n",
    "from torch.utils.data import Dataset\n",
    "\n"
   ]
  },
  {
   "cell_type": "markdown",
   "metadata": {},
   "source": [
    "--- \n",
    " - nn.Module로 구현하는 로지스틱 회귀 \n",
    " \n",
    " - 잠깐만 복습을 해보면 선형 회귀 모델의 가설식은 H(x)=Wx+b이었습니다. \n",
    " - 그리고 이 가설식을 구현하기 위해서 파이토치의 nn.Linear()를 사용했습니다. \n",
    " - 그리고 로지스틱 회귀의 가설식은 H(x)=sigmoid(Wx+b)입니다. \n"
   ]
  },
  {
   "cell_type": "code",
   "execution_count": 2,
   "metadata": {},
   "outputs": [
    {
     "name": "stdout",
     "output_type": "stream",
     "text": [
      "\n",
      "model : \n",
      "    Sequential(\n",
      "      (0): Linear(in_features=2, out_features=1, bias=True)\n",
      "      (1): Sigmoid()\n",
      "    ) \n",
      "    0.weight    torch.Size([1, 2])\n",
      "        tensor([[ 0.3643, -0.3121]])\n",
      "    0.bias    torch.Size([1])\n",
      "        tensor([-0.1371])\n",
      "\n",
      "model(x_train) : \n",
      "    torch.Size([6, 1]) tensor([[0.4020],\n",
      "            [0.4147],\n",
      "            [0.6556],\n",
      "            [0.5948],\n",
      "            [0.6788],\n",
      "            [0 ...\n",
      "\n",
      "-------------------------------------------------------------------------------- \n",
      "epoch :    0/1000 \n",
      "cost : 0.539713 \n",
      "accuracy : 0.83 \n",
      "\n",
      "-------------------------------------------------------------------------------- \n",
      "epoch :  100/1000 \n",
      "cost : 0.134272 \n",
      "accuracy : 1.00 \n",
      "\n",
      "-------------------------------------------------------------------------------- \n",
      "epoch :  200/1000 \n",
      "cost : 0.080486 \n",
      "accuracy : 1.00 \n",
      "\n",
      "-------------------------------------------------------------------------------- \n",
      "epoch :  300/1000 \n",
      "cost : 0.057820 \n",
      "accuracy : 1.00 \n",
      "\n",
      "-------------------------------------------------------------------------------- \n",
      "epoch :  400/1000 \n",
      "cost : 0.045251 \n",
      "accuracy : 1.00 \n",
      "\n",
      "-------------------------------------------------------------------------------- \n",
      "epoch :  500/1000 \n",
      "cost : 0.037228 \n",
      "accuracy : 1.00 \n",
      "\n",
      "-------------------------------------------------------------------------------- \n",
      "epoch :  600/1000 \n",
      "cost : 0.031649 \n",
      "accuracy : 1.00 \n",
      "\n",
      "-------------------------------------------------------------------------------- \n",
      "epoch :  700/1000 \n",
      "cost : 0.027538 \n",
      "accuracy : 1.00 \n",
      "\n",
      "-------------------------------------------------------------------------------- \n",
      "epoch :  800/1000 \n",
      "cost : 0.024381 \n",
      "accuracy : 1.00 \n",
      "\n",
      "-------------------------------------------------------------------------------- \n",
      "epoch :  900/1000 \n",
      "cost : 0.021877 \n",
      "accuracy : 1.00 \n",
      "\n",
      "-------------------------------------------------------------------------------- \n",
      "epoch : 1000/1000 \n",
      "cost : 0.019843 \n",
      "accuracy : 1.00 \n",
      "\n"
     ]
    },
    {
     "data": {
      "image/png": "[encoded data removed]",
      "text/plain": [
       "<Figure size 432x288 with 1 Axes>"
      ]
     },
     "metadata": {
      "needs_background": "light"
     },
     "output_type": "display_data"
    },
    {
     "data": {
      "image/png": "[encoded data removed]",
      "text/plain": [
       "<Figure size 432x288 with 1 Axes>"
      ]
     },
     "metadata": {
      "needs_background": "light"
     },
     "output_type": "display_data"
    }
   ],
   "source": [
    "\n",
    "# - 파이토치에서는 nn.Sigmoid()를 통해서 시그모이드 함수를 구현하므로\n",
    "# - 결과적으로 nn.Linear()의 결과를 nn.Sigmoid()를 거치게하면\n",
    "# - 로지스틱 회귀의 가설식이 됩니다.\n",
    "#\n",
    "# - 파이토치를 통해 이를 구현해봅시다.\n",
    "\n",
    "multi_lines = \"\"\"\n",
    "# - 파이토치에서는 nn.Sigmoid()를 통해서 시그모이드 함수를 구현하므로\n",
    "# - 결과적으로 nn.Linear()의 결과를 nn.Sigmoid()를 거치게하면\n",
    "# - 로지스틱 회귀의 가설식이 됩니다.\n",
    "\"\"\"\n",
    "\n",
    "lineArray = multi_lines.splitlines()\n",
    "\n",
    "torch.manual_seed(1)\n",
    "\n",
    "x_data = [[1, 2], [2, 3], [3, 1], [4, 3], [5, 3], [6, 2]]\n",
    "y_data = [[0], [0], [0], [1], [1], [1]]\n",
    "x_train = torch.FloatTensor(x_data)\n",
    "y_train = torch.FloatTensor(y_data)\n",
    "\n",
    "model = nn.Sequential(\n",
    "    nn.Linear(2, 1),\n",
    "    nn.Sigmoid()\n",
    ")\n",
    "\n",
    "mu.log(\"model\", model)\n",
    "mu.log(\"model(x_train)\", model(x_train))\n",
    "\n",
    "optimizer = optim.SGD(model.parameters(), lr=1)\n",
    "nb_epoches = 1000\n",
    "\n",
    "plt_epoch = []\n",
    "plt_accuracy = []\n",
    "mu.plt_init()\n",
    "\n",
    "for epoch in range(nb_epoches + 1):\n",
    "    hypothesis = model(x_train)\n",
    "    cost = F.binary_cross_entropy(hypothesis, y_train)\n",
    "    optimizer.zero_grad()\n",
    "    cost.backward()\n",
    "    optimizer.step()\n",
    "\n",
    "    if epoch % 100 == 0:\n",
    "        accuracy = mu.get_binary_classification_accuracy(hypothesis, y_train)\n",
    "        mu.log_epoch(epoch, nb_epoches, cost, accuracy)\n",
    "        plt_epoch.append(epoch)\n",
    "        plt_accuracy.append(accuracy)\n",
    "\n",
    "mu.plt_show()"
   ]
  }
 ],
 "metadata": {
  "kernelspec": {
   "display_name": "Python 3",
   "language": "python",
   "name": "python3"
  },
  "language_info": {
   "codemirror_mode": {
    "name": "ipython",
    "version": 3
   },
   "file_extension": ".py",
   "mimetype": "text/x-python",
   "name": "python",
   "nbconvert_exporter": "python",
   "pygments_lexer": "ipython3",
   "version": "3.8.2"
  }
 },
 "nbformat": 4,
 "nbformat_minor": 4
}

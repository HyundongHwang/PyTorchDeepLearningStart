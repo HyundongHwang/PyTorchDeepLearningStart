{
 "cells": [
  {
   "cell_type": "code",
   "execution_count": 1,
   "metadata": {},
   "outputs": [],
   "source": [
    "import myutil as mu\n",
    "import torch\n",
    "import torch.nn as nn\n",
    "import torch.nn.functional as F\n",
    "import torch.optim as optim\n",
    "from torch.utils.data import TensorDataset  # 텐서데이터셋\n",
    "from torch.utils.data import DataLoader  # 데이터로더\n",
    "from torch.utils.data import Dataset\n",
    "import matplotlib.pyplot as plt  # 맷플롯립사용\n",
    "import torchvision.datasets as dsets\n",
    "import torchvision.transforms as transforms\n",
    "from torch.utils.data import DataLoader\n",
    "import random\n",
    "\n"
   ]
  },
  {
   "cell_type": "markdown",
   "metadata": {},
   "source": [
    "--- \n",
    " - 소프트맥스 회귀로 MNIST 데이터 분류하기 \n",
    "   - 이번 챕터에서는 MNIST 데이터에 대해서 이해하고, \n",
    "   - 파이토치(PyTorch)로 소프트맥스 회귀를 구현하여 MNIST 데이터를 분류하는 실습을 진행해봅시다. \n"
   ]
  },
  {
   "cell_type": "code",
   "execution_count": 0,
   "metadata": {},
   "outputs": [],
   "source": [
    "\n",
    "\n"
   ]
  },
  {
   "cell_type": "markdown",
   "metadata": {},
   "source": [
    "--- \n",
    " 현재 환경에서 GPU 연산이 가능하다면 GPU 연산을 하고, 그렇지 않다면 CPU 연산을 하도록 합니다. \n"
   ]
  },
  {
   "cell_type": "code",
   "execution_count": 2,
   "metadata": {},
   "outputs": [
    {
     "name": "stdout",
     "output_type": "stream",
     "text": [
      "device : cpu\n"
     ]
    }
   ],
   "source": [
    "\n",
    "USE_CUDA = torch.cuda.is_available()\n",
    "device = torch.device(\"cuda\" if USE_CUDA else \"cpu\")\n",
    "mu.log(\"device\", device)\n",
    "\n",
    "random.seed(777)\n",
    "torch.manual_seed(777)\n",
    "\n",
    "if device == \"cuda\":\n",
    "    torch.cuda.manual_seed_all(777)\n",
    "\n"
   ]
  },
  {
   "cell_type": "markdown",
   "metadata": {},
   "source": [
    "--- \n",
    " - 하이퍼파라미터를 변수로 둡니다. \n"
   ]
  },
  {
   "cell_type": "code",
   "execution_count": 3,
   "metadata": {},
   "outputs": [],
   "source": [
    "\n",
    "traning_epochs = 15\n",
    "batch_size = 100\n",
    "\n"
   ]
  },
  {
   "cell_type": "markdown",
   "metadata": {},
   "source": [
    "--- \n",
    " - MNIST 분류기 구현하기 \n",
    "   - torchvision.datasets.dsets.MNIST를 사용하여 MNIST 데이터셋을 불러올 수 있습니다. \n",
    "   - drop_last를 하는 이유를 이해하기 위해서 1,000개의 데이터가 있다고 했을 때, 배치 크기가 128이라고 해봅시다. \n",
    "   - 1,000을 128로 나누면 총 7개가 나오고 나머지로 104개가 남습니다. \n",
    "   - 이때 104개를 마지막 배치로 한다고 하였을 때 128개를 충족하지 못하였으므로 104개를 그냥 버릴 수도 있습니다. \n",
    "   - 이때 마지막 배치를 버리려면 drop_last=True를 해주면 됩니다. \n",
    "   - 이는 다른 미니 배치보다 개수가 적은 마지막 배치를 경사 하강법에 사용하여 마지막 배치가 상대적으로 과대 평가되는 현상을 막아줍니다. \n"
   ]
  },
  {
   "cell_type": "code",
   "execution_count": 4,
   "metadata": {},
   "outputs": [],
   "source": [
    "\n",
    "\n",
    "mnist_train = dsets.MNIST(root=\"MNIST_data/\",\n",
    "                          train=True,\n",
    "                          transform=transforms.ToTensor(),\n",
    "                          download=True)\n",
    "\n",
    "mnist_test = dsets.MNIST(root=\"MNIST_data/\",\n",
    "                         train=False,\n",
    "                         transform=transforms.ToTensor(),\n",
    "                         download=True)\n",
    "\n",
    "data_loader = DataLoader(dataset=mnist_train,\n",
    "                         batch_size=batch_size,\n",
    "                         shuffle=True,\n",
    "                         drop_last=True)\n",
    "\n"
   ]
  },
  {
   "cell_type": "markdown",
   "metadata": {},
   "source": [
    "--- \n",
    " - 이제 모델을 설계합니다. \n",
    " - input_dim은 784이고, output_dim은 10입니다. \n",
    " - to() 함수는 연산을 어디서 수행할지를 정합니다. \n",
    " - to() 함수는 모델의 매개변수를 지정한 장치의 메모리로 보냅니다. \n",
    " - CPU를 사용할 경우에는 필요가 없지만, GPU를 사용하려면 to('cuda')를 해 줄 필요가 있습니다. \n",
    " - 아무것도 지정하지 않은 경우에는 CPU 연산이라고 보면 됩니다. \n",
    " - bias는 편향 b를 사용할 것인지를 나타냅니다. \n",
    " - 기본값은 True이므로 굳이 할 필요는 없지만 명시적으로 True를 해주었습니다. \n"
   ]
  },
  {
   "cell_type": "code",
   "execution_count": 5,
   "metadata": {},
   "outputs": [],
   "source": [
    "\n",
    "model = nn.Linear(784, 10, bias=True).to(device)\n",
    "\n",
    "\n"
   ]
  },
  {
   "cell_type": "markdown",
   "metadata": {},
   "source": [
    "--- \n",
    " - 이제 비용 함수와 옵티마이저를 정의합니다. \n",
    "   - 앞서 소프트맥스 회귀를 배울 때는 torch.nn.functional.cross_entropy()를 사용하였으나 \n",
    "   - 여기서는 torch.nn.CrossEntropyLoss()을 사용하고 있습니다. \n",
    "   - 둘 다 파이토치에서 제공하는 크로스 엔트로피 함수로 둘 다 소프트맥스 함수를 포함하고 있습니다. \n"
   ]
  },
  {
   "cell_type": "code",
   "execution_count": 6,
   "metadata": {},
   "outputs": [
    {
     "name": "stdout",
     "output_type": "stream",
     "text": [
      "total_batch : 600\n",
      "-------------------------------------------------------------------------------- \n",
      "epoch :    0/15 \n",
      "cost : 0.535469 \n",
      "accuracy : 0.93 \n",
      "\n",
      "-------------------------------------------------------------------------------- \n",
      "epoch :    1/15 \n",
      "cost : 0.359274 \n",
      "accuracy : 0.85 \n",
      "\n",
      "-------------------------------------------------------------------------------- \n",
      "epoch :    2/15 \n",
      "cost : 0.331188 \n",
      "accuracy : 0.93 \n",
      "\n",
      "-------------------------------------------------------------------------------- \n",
      "epoch :    3/15 \n",
      "cost : 0.316578 \n",
      "accuracy : 0.92 \n",
      "\n",
      "-------------------------------------------------------------------------------- \n",
      "epoch :    4/15 \n",
      "cost : 0.307158 \n",
      "accuracy : 0.88 \n",
      "\n",
      "-------------------------------------------------------------------------------- \n",
      "epoch :    5/15 \n",
      "cost : 0.300181 \n",
      "accuracy : 0.88 \n",
      "\n",
      "-------------------------------------------------------------------------------- \n",
      "epoch :    6/15 \n",
      "cost : 0.295130 \n",
      "accuracy : 0.94 \n",
      "\n",
      "-------------------------------------------------------------------------------- \n",
      "epoch :    7/15 \n",
      "cost : 0.290852 \n",
      "accuracy : 0.94 \n",
      "\n",
      "-------------------------------------------------------------------------------- \n",
      "epoch :    8/15 \n",
      "cost : 0.287417 \n",
      "accuracy : 0.88 \n",
      "\n",
      "-------------------------------------------------------------------------------- \n",
      "epoch :    9/15 \n",
      "cost : 0.284380 \n",
      "accuracy : 0.90 \n",
      "\n",
      "-------------------------------------------------------------------------------- \n",
      "epoch :   10/15 \n",
      "cost : 0.281825 \n",
      "accuracy : 0.92 \n",
      "\n",
      "-------------------------------------------------------------------------------- \n",
      "epoch :   11/15 \n",
      "cost : 0.279801 \n",
      "accuracy : 0.91 \n",
      "\n",
      "-------------------------------------------------------------------------------- \n",
      "epoch :   12/15 \n",
      "cost : 0.277809 \n",
      "accuracy : 0.91 \n",
      "\n",
      "-------------------------------------------------------------------------------- \n",
      "epoch :   13/15 \n",
      "cost : 0.276154 \n",
      "accuracy : 0.91 \n",
      "\n",
      "-------------------------------------------------------------------------------- \n",
      "epoch :   14/15 \n",
      "cost : 0.274441 \n",
      "accuracy : 0.90 \n",
      "\n"
     ]
    },
    {
     "data": {
      "image/png": "[encoded data removed]",
      "text/plain": [
       "<Figure size 432x288 with 1 Axes>"
      ]
     },
     "metadata": {
      "needs_background": "light"
     },
     "output_type": "display_data"
    },
    {
     "data": {
      "image/png": "[encoded data removed]",
      "text/plain": [
       "<Figure size 432x288 with 1 Axes>"
      ]
     },
     "metadata": {
      "needs_background": "light"
     },
     "output_type": "display_data"
    }
   ],
   "source": [
    "\n",
    "criterion = nn.CrossEntropyLoss().to(device)\n",
    "optimizer = torch.optim.SGD(model.parameters(), lr=0.1)\n",
    "total_batch = len(data_loader)\n",
    "mu.log(\"total_batch\", total_batch)\n",
    "mu.plt_init()\n",
    "\n",
    "for epoch in range(traning_epochs):\n",
    "    avg_cost = 0\n",
    "\n",
    "    for X, Y in data_loader:\n",
    "        X = X.view(-1, 28 * 28).to(device)\n",
    "        Y = Y.to(device)\n",
    "        hypothesis = model(X)\n",
    "        cost = criterion(hypothesis, Y)\n",
    "        optimizer.zero_grad()\n",
    "        cost.backward()\n",
    "        optimizer.step()\n",
    "        avg_cost += cost / total_batch\n",
    "\n",
    "    accuracy = mu.get_cross_entropy_accuracy(hypothesis, Y)\n",
    "    mu.log_epoch(epoch, traning_epochs, avg_cost, accuracy)\n",
    "\n",
    "mu.plt_show()\n",
    "\n"
   ]
  },
  {
   "cell_type": "markdown",
   "metadata": {},
   "source": [
    "--- \n",
    " 학습은 끝나고, \n",
    " 평가데이타를 이용하여 정확도 평가 \n"
   ]
  },
  {
   "cell_type": "code",
   "execution_count": 7,
   "metadata": {},
   "outputs": [
    {
     "name": "stdout",
     "output_type": "stream",
     "text": [
      "accuracy : 0.8863\n"
     ]
    },
    {
     "name": "stderr",
     "output_type": "stream",
     "text": [
      "/usr/local/lib/python3.8/dist-packages/torchvision/datasets/mnist.py:60: UserWarning: test_data has been renamed data\n",
      "  warnings.warn(\"test_data has been renamed data\")\n",
      "/usr/local/lib/python3.8/dist-packages/torchvision/datasets/mnist.py:50: UserWarning: test_labels has been renamed targets\n",
      "  warnings.warn(\"test_labels has been renamed targets\")\n"
     ]
    }
   ],
   "source": [
    "\n",
    "with torch.no_grad():\n",
    "    X_test = mnist_test.test_data.view(-1, 28 * 28).float().to(device)\n",
    "    Y_test = mnist_test.test_labels.to(device)\n",
    "    prediction = model(X_test)\n",
    "    accuracy = mu.get_cross_entropy_accuracy(prediction, Y_test)\n",
    "    mu.log(\"accuracy\", accuracy)\n",
    "\n"
   ]
  },
  {
   "cell_type": "markdown",
   "metadata": {},
   "source": [
    "--- \n",
    " 무작위로 5개의 데이타만 선택해서 이미지를 출력하면서 화면으로 확인해 봄. \n"
   ]
  },
  {
   "cell_type": "code",
   "execution_count": 8,
   "metadata": {},
   "outputs": [
    {
     "name": "stdout",
     "output_type": "stream",
     "text": [
      "--------------------------------------------------------------------------------\n",
      "r : 3757\n",
      "X_single_data.shape : torch.Size([1, 784])\n",
      "\n",
      "Y_single_data : \n",
      "    torch.Size([1]) tensor([8])\n",
      "\n",
      "single_prediction : \n",
      "    torch.Size([1, 10]) tensor([[ -522.8351,   341.9146,   416.3286,  1050.5326,  -618.2287,  -305.8233,\n",
      "             -1141.5387 ...\n",
      "\n",
      "single_prediction_res : 3\n"
     ]
    },
    {
     "data": {
      "image/png": "[encoded data removed]",
      "text/plain": [
       "<Figure size 432x288 with 1 Axes>"
      ]
     },
     "metadata": {
      "needs_background": "light"
     },
     "output_type": "display_data"
    },
    {
     "name": "stdout",
     "output_type": "stream",
     "text": [
      "--------------------------------------------------------------------------------\n",
      "r : 7304\n",
      "X_single_data.shape : torch.Size([1, 784])\n",
      "\n",
      "Y_single_data : \n",
      "    torch.Size([1]) tensor([5])\n",
      "\n",
      "single_prediction : \n",
      "    torch.Size([1, 10]) tensor([[ 7.8717e+01,  7.8787e-01, -4.7460e+01,  1.4906e+03, -1.7955e+03,\n",
      "              1.0965e+03,  1.5 ...\n",
      "\n",
      "single_prediction_res : 3\n"
     ]
    },
    {
     "data": {
      "image/png": "[encoded data removed]",
      "text/plain": [
       "<Figure size 432x288 with 1 Axes>"
      ]
     },
     "metadata": {
      "needs_background": "light"
     },
     "output_type": "display_data"
    },
    {
     "name": "stdout",
     "output_type": "stream",
     "text": [
      "--------------------------------------------------------------------------------\n",
      "r : 7300\n",
      "X_single_data.shape : torch.Size([1, 784])\n",
      "\n",
      "Y_single_data : \n",
      "    torch.Size([1]) tensor([7])\n",
      "\n",
      "single_prediction : \n",
      "    torch.Size([1, 10]) tensor([[   49.4661, -2223.2407, -1341.2944,   440.9692,  -144.3791,    18.7647,\n",
      "             -2174.0474 ...\n",
      "\n",
      "single_prediction_res : 7\n"
     ]
    },
    {
     "data": {
      "image/png": "[encoded data removed]",
      "text/plain": [
       "<Figure size 432x288 with 1 Axes>"
      ]
     },
     "metadata": {
      "needs_background": "light"
     },
     "output_type": "display_data"
    },
    {
     "name": "stdout",
     "output_type": "stream",
     "text": [
      "--------------------------------------------------------------------------------\n",
      "r : 6039\n",
      "X_single_data.shape : torch.Size([1, 784])\n",
      "\n",
      "Y_single_data : \n",
      "    torch.Size([1]) tensor([9])\n",
      "\n",
      "single_prediction : \n",
      "    torch.Size([1, 10]) tensor([[-1714.9358,  -239.3423,  -784.4327,   489.2284,   817.8240,   -69.3186,\n",
      "             -1087.9860 ...\n",
      "\n",
      "single_prediction_res : 9\n"
     ]
    },
    {
     "data": {
      "image/png": "[encoded data removed]",
      "text/plain": [
       "<Figure size 432x288 with 1 Axes>"
      ]
     },
     "metadata": {
      "needs_background": "light"
     },
     "output_type": "display_data"
    },
    {
     "name": "stdout",
     "output_type": "stream",
     "text": [
      "--------------------------------------------------------------------------------\n",
      "r : 9429\n",
      "X_single_data.shape : torch.Size([1, 784])\n",
      "\n",
      "Y_single_data : \n",
      "    torch.Size([1]) tensor([3])\n",
      "\n",
      "single_prediction : \n",
      "    torch.Size([1, 10]) tensor([[ -880.2283, -1532.4091,   628.1683,  2202.3574,  -457.8350,   484.4172,\n",
      "             -1265.1261 ...\n",
      "\n",
      "single_prediction_res : 3\n"
     ]
    },
    {
     "data": {
      "image/png": "[encoded data removed]",
      "text/plain": [
       "<Figure size 432x288 with 1 Axes>"
      ]
     },
     "metadata": {
      "needs_background": "light"
     },
     "output_type": "display_data"
    }
   ],
   "source": [
    "\n",
    "for _ in range(5):\n",
    "    print(\"-\" * 80)\n",
    "    r = random.randint(0, len(mnist_test) - 1)\n",
    "    mu.log(\"r\", r)\n",
    "    X_single_data = mnist_test.test_data[r:r + 1].view(-1, 28 * 28).float().to(device)\n",
    "    mu.log(\"X_single_data.shape\", X_single_data.shape)\n",
    "    Y_single_data = mnist_test.test_labels[r:r + 1].to(device)\n",
    "    mu.log(\"Y_single_data\", Y_single_data)\n",
    "    single_prediction = model(X_single_data)\n",
    "    mu.log(\"single_prediction\", single_prediction)\n",
    "    single_prediction_res = torch.argmax(single_prediction, 1).item()\n",
    "    mu.log(\"single_prediction_res\", single_prediction_res)\n",
    "    mu.plt_img_show(mnist_test.test_data[r:r + 1], 28, 28)\n"
   ]
  }
 ],
 "metadata": {
  "kernelspec": {
   "display_name": "Python 3",
   "language": "python",
   "name": "python3"
  },
  "language_info": {
   "codemirror_mode": {
    "name": "ipython",
    "version": 3
   },
   "file_extension": ".py",
   "mimetype": "text/x-python",
   "name": "python",
   "nbconvert_exporter": "python",
   "pygments_lexer": "ipython3",
   "version": "3.8.2"
  }
 },
 "nbformat": 4,
 "nbformat_minor": 4
}

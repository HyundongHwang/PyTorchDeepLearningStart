{
 "cells": [
  {
   "cell_type": "code",
   "execution_count": 1,
   "metadata": {},
   "outputs": [],
   "source": [
    "import myutil as mu\n",
    "import torch\n",
    "import torch.nn as nn\n",
    "import torch.nn.functional as F\n",
    "import torch.optim as optim\n",
    "from torch.utils.data import TensorDataset  # 텐서데이터셋\n",
    "from torch.utils.data import DataLoader  # 데이터로더\n",
    "from torch.utils.data import Dataset\n",
    "import matplotlib.pyplot as plt  # 맷플롯립사용\n",
    "import torchvision.datasets as dsets\n",
    "import torchvision.transforms as transforms\n",
    "from torch.utils.data import DataLoader\n",
    "import random\n",
    "\n"
   ]
  },
  {
   "cell_type": "markdown",
   "metadata": {},
   "source": [
    "--- \n",
    " - XOR 문제 - 단층 퍼셉트론 구현하기 \n",
    "   - 이번 챕터에서는 파이토치를 사용해서 단층 퍼셉트론을 구현하여 XOR 문제를 풀어보는 것을 시도해보겠습니다 \n"
   ]
  },
  {
   "cell_type": "code",
   "execution_count": 2,
   "metadata": {},
   "outputs": [
    {
     "name": "stdout",
     "output_type": "stream",
     "text": [
      "\n",
      "model : \n",
      "    Sequential(\n",
      "      (0): Linear(in_features=2, out_features=1, bias=True)\n",
      "      (1): Sigmoid()\n",
      "    ) \n",
      "    0.weight    torch.Size([1, 2])\n",
      "        tensor([[-0.5913, -0.0125]])\n",
      "    0.bias    torch.Size([1])\n",
      "        tensor([-0.1368])\n",
      "\n",
      "-------------------------------------------------------------------------------- \n",
      "epoch :    0/1000 \n",
      "cost : 0.727397 \n",
      "accuracy : 0.50 \n",
      "\n",
      "-------------------------------------------------------------------------------- \n",
      "epoch :  100/1000 \n",
      "cost : 0.693148 \n",
      "accuracy : 0.50 \n",
      "\n",
      "-------------------------------------------------------------------------------- \n",
      "epoch :  200/1000 \n",
      "cost : 0.693147 \n",
      "accuracy : 0.75 \n",
      "\n",
      "-------------------------------------------------------------------------------- \n",
      "epoch :  300/1000 \n",
      "cost : 0.693147 \n",
      "accuracy : 0.75 \n",
      "\n",
      "-------------------------------------------------------------------------------- \n",
      "epoch :  400/1000 \n",
      "cost : 0.693147 \n",
      "accuracy : 0.50 \n",
      "\n",
      "-------------------------------------------------------------------------------- \n",
      "epoch :  500/1000 \n",
      "cost : 0.693147 \n",
      "accuracy : 0.50 \n",
      "\n",
      "-------------------------------------------------------------------------------- \n",
      "epoch :  600/1000 \n",
      "cost : 0.693147 \n",
      "accuracy : 0.50 \n",
      "\n",
      "-------------------------------------------------------------------------------- \n",
      "epoch :  700/1000 \n",
      "cost : 0.693147 \n",
      "accuracy : 0.50 \n",
      "\n",
      "-------------------------------------------------------------------------------- \n",
      "epoch :  800/1000 \n",
      "cost : 0.693147 \n",
      "accuracy : 0.50 \n",
      "\n",
      "-------------------------------------------------------------------------------- \n",
      "epoch :  900/1000 \n",
      "cost : 0.693147 \n",
      "accuracy : 0.50 \n",
      "\n",
      "-------------------------------------------------------------------------------- \n",
      "epoch : 1000/1000 \n",
      "cost : 0.693147 \n",
      "accuracy : 0.50 \n",
      "\n"
     ]
    },
    {
     "data": {
      "image/png": "[encoded data removed]",
      "text/plain": [
       "<Figure size 432x288 with 1 Axes>"
      ]
     },
     "metadata": {
      "needs_background": "light"
     },
     "output_type": "display_data"
    },
    {
     "data": {
      "image/png": "[encoded data removed]",
      "text/plain": [
       "<Figure size 432x288 with 1 Axes>"
      ]
     },
     "metadata": {
      "needs_background": "light"
     },
     "output_type": "display_data"
    },
    {
     "name": "stdout",
     "output_type": "stream",
     "text": [
      "model : \n",
      "    Sequential(\n",
      "      (0): Linear(in_features=2, out_features=1, bias=True)\n",
      "      (1): Sigmoid()\n",
      "    ) \n",
      "    0.weight    torch.Size([1, 2])\n",
      "        tensor([[-1.1921e-07, -1.1921e-07]])\n",
      "    0.bias    torch.Size([1])\n",
      "        tensor([8.9407e-08])\n",
      "\n"
     ]
    }
   ],
   "source": [
    "\n",
    "\n",
    "device = \"cuda\" if torch.cuda.is_available() else \"cpu\"\n",
    "torch.manual_seed(777)\n",
    "\n",
    "if device == \"cuda\":\n",
    "    torch.cuda.manual_seed_all(777)\n",
    "\n",
    "X = torch.FloatTensor([[0, 0], [0, 1], [1, 0], [1, 1]]).to(device)\n",
    "Y = torch.FloatTensor([[0], [1], [1], [0]]).to(device)\n",
    "\n",
    "model = nn.Sequential(\n",
    "    nn.Linear(2, 1, bias=True),\n",
    "    nn.Sigmoid()\n",
    ").to(device)\n",
    "\n",
    "mu.log(\"model\", model)\n",
    "nb_epochs = 1000\n",
    "mu.plt_init()\n",
    "criterion = nn.BCELoss().to(device)\n",
    "optimizer = optim.SGD(model.parameters(), lr=1)\n",
    "\n",
    "for epoch in range(nb_epochs + 1):\n",
    "    hypothesis = model(X)\n",
    "    cost = criterion(hypothesis, Y)\n",
    "    optimizer.zero_grad()\n",
    "    cost.backward()\n",
    "    optimizer.step()\n",
    "\n",
    "    if epoch % 100 == 0:\n",
    "        accuracy = mu.get_binary_classification_accuracy(hypothesis, Y)\n",
    "        mu.log_epoch(epoch, nb_epochs, cost, accuracy)\n",
    "\n",
    "mu.plt_show()\n",
    "mu.log(\"model\", model)\n",
    "\n"
   ]
  },
  {
   "cell_type": "markdown",
   "metadata": {},
   "source": [
    "--- \n",
    " - 학습된 단층 퍼셉트론의 예측값 확인하기 \n",
    "   - 총 10,001회 학습한 단층 퍼셉트론의 예측값도 확인해보겠습니다. \n"
   ]
  },
  {
   "cell_type": "code",
   "execution_count": 3,
   "metadata": {},
   "outputs": [
    {
     "name": "stdout",
     "output_type": "stream",
     "text": [
      "hypothesis : \n",
      "    torch.Size([4, 1]) tensor([[0.5000],\n",
      "            [0.5000],\n",
      "            [0.5000],\n",
      "            [0.5000]])\n",
      "\n",
      "predicted : \n",
      "    torch.Size([4, 1]) tensor([[0.],\n",
      "            [0.],\n",
      "            [0.],\n",
      "            [0.]])\n",
      "\n",
      "Y : \n",
      "    torch.Size([4, 1]) tensor([[0.],\n",
      "            [1.],\n",
      "            [1.],\n",
      "            [0.]])\n",
      "\n",
      "accuracy : \n",
      "    torch.Size([]) 0.5\n",
      "\n"
     ]
    }
   ],
   "source": [
    "\n",
    "\n",
    "with torch.no_grad():\n",
    "    hypothesis = model(X)\n",
    "    mu.log(\"hypothesis\", hypothesis)\n",
    "    predicted = (hypothesis > 0.5).float()\n",
    "    mu.log(\"predicted\", predicted)\n",
    "    accuracy = (predicted == Y).float().mean()\n",
    "    mu.log(\"Y\", Y)\n",
    "    mu.log(\"accuracy\", accuracy)\n"
   ]
  }
 ],
 "metadata": {
  "kernelspec": {
   "display_name": "Python 3",
   "language": "python",
   "name": "python3"
  },
  "language_info": {
   "codemirror_mode": {
    "name": "ipython",
    "version": 3
   },
   "file_extension": ".py",
   "mimetype": "text/x-python",
   "name": "python",
   "nbconvert_exporter": "python",
   "pygments_lexer": "ipython3",
   "version": "3.8.2"
  }
 },
 "nbformat": 4,
 "nbformat_minor": 4
}

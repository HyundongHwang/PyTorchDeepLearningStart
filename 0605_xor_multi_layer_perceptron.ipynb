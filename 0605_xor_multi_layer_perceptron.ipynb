{
 "cells": [
  {
   "cell_type": "code",
   "execution_count": 1,
   "metadata": {},
   "outputs": [],
   "source": [
    "import myutil as mu\n",
    "import torch\n",
    "import torch.nn as nn\n",
    "import torch.nn.functional as F\n",
    "import torch.optim as optim\n",
    "from torch.utils.data import TensorDataset  # 텐서데이터셋\n",
    "from torch.utils.data import DataLoader  # 데이터로더\n",
    "from torch.utils.data import Dataset\n",
    "import matplotlib.pyplot as plt  # 맷플롯립사용\n",
    "import torchvision.datasets as dsets\n",
    "import torchvision.transforms as transforms\n",
    "from torch.utils.data import DataLoader\n",
    "import random\n",
    "\n"
   ]
  },
  {
   "cell_type": "markdown",
   "metadata": {},
   "source": [
    "--- \n",
    " - XOR 문제 - 다층 퍼셉트론 구현하기 \n",
    "   - 이번 챕터에서는 파이토치를 사용해서 다층 퍼셉트론을 구현하여 XOR 문제를 풀어보는 것을 시도해보겠습니다. \n",
    "   - 파이토치에서는 앞에서 배운 역전파가 아래의 두 줄의 코드로서 구현됩니다. \n"
   ]
  },
  {
   "cell_type": "code",
   "execution_count": 2,
   "metadata": {},
   "outputs": [],
   "source": [
    "\n",
    "\n",
    "device = \"cuda\" if torch.cuda.is_available() else \"cpu\"\n",
    "torch.manual_seed(777)\n",
    "\n",
    "if device == \"cuda\":\n",
    "    torch.cuda.manual_seed_all(777)\n",
    "\n",
    "X = torch.FloatTensor([[0, 0], [0, 1], [1, 0], [1, 1]]).to(device)\n",
    "Y = torch.FloatTensor([[0], [1], [1], [0]]).to(device)\n",
    "\n"
   ]
  },
  {
   "cell_type": "markdown",
   "metadata": {},
   "source": [
    "--- \n",
    " ![image](https://user-images.githubusercontent.com/5696570/88937137-b295c380-d2be-11ea-87ee-be04e741164f.png) \n"
   ]
  },
  {
   "cell_type": "code",
   "execution_count": 3,
   "metadata": {},
   "outputs": [
    {
     "name": "stdout",
     "output_type": "stream",
     "text": [
      "\n",
      "model : \n",
      "    Sequential(\n",
      "      (0): Linear(in_features=2, out_features=10, bias=True)\n",
      "      (1): Sigmoid()\n",
      "      (2): Linear(in_features=10, out_features=10, bias=True)\n",
      "      (3): Sigmoid()\n",
      "      (4): Linear(in_features=10, out_features=10, bias=True)\n",
      "      (5): Sigmoid()\n",
      "      (6): Linear(in_features=10, out_features=1, bias=True)\n",
      "      (7): Sigmoid()\n",
      "    ) \n",
      "    torch.Size([10, 2]) tensor([[-0.5913, -0.0125],\n",
      "            [-0.1368, -0.1613],\n",
      "            [ 0.5393,  0.5390],\n",
      "            [ 0.3171,  0.0046],\n",
      "            [ 0.4594, -0.3346],\n",
      "            [-0.2669,  0.1340],\n",
      "            [-0.5527,  0.1716],\n",
      "            [ 0.3324,  0.6927],\n",
      "            [ 0.5890, -0.2480],\n",
      "            [ 0.5254,  0.5479]])\n",
      "    torch.Size([10]) tensor([ 0.5707, -0.3955, -0.1420, -0.3777,  0.6238,  0.5911,  0.5589, -0.0933,\n",
      "            -0.4917, -0.2611])\n",
      "    torch.Size([10, 10]) tensor([[-0.0777,  0.0738,  0.0224,  0.3143, -0.0773,  0.2872,  0.2076,  0.0923,\n",
      "              0.0344, -0.0821],\n",
      "            [-0.2722, -0.0715,  0.1450,  0.2572, -0.3125, -0.3003, -0.0319, -0.1804,\n",
      "             -0.0675,  0.0084],\n",
      "            [ 0.3156, -0.2212, -0.1146,  0.2555,  0.1888,  0.2235, -0.2769,  0.0965,\n",
      "              0.3159,  0.0272],\n",
      "            [ 0.1234, -0.2545, -0.1167, -0.2079,  0.1486,  0.2773,  0.1240, -0.2649,\n",
      "             -0.0943,  0.0560],\n",
      "            [-0.0586, -0.1496, -0.2094, -0.2899, -0.0971,  0.2965, -0.2563, -0.1580,\n",
      "             -0.0316, -0.1502],\n",
      "            [ 0.1539, -0.2662,  0.1126,  0.2373,  0.2475, -0.2837,  0.0983,  0.3138,\n",
      "              0.2481,  0.2438],\n",
      "            [-0.2798, -0.2589,  0.1985,  0.2978,  0.3157,  0.1937,  0.2465,  0.2458,\n",
      "              0.1408,  0.1556],\n",
      "            [ 0.0025, -0.1962, -0.0545, -0.0346,  0.1628,  0.1492, -0.2419, -0.3122,\n",
      "             -0.2677,  0.0732],\n",
      "            [ 0.2512, -0.0675, -0.1243,  0.1797, -0.2585, -0.1294, -0.0957,  0.0928,\n",
      "              0.1083, -0.2885],\n",
      "            [-0.2064,  0.1919,  0.3060,  0.1519,  0.2671, -0.1669, -0.2014,  0.2997,\n",
      "              0.2143,  0.2301]])\n",
      "    torch.Size([10]) tensor([-0.1248,  0.1241, -0.3153, -0.1469,  0.0800,  0.2347, -0.1352,  0.1177,\n",
      "             0.3027, -0.2231])\n",
      "    torch.Size([10, 10]) tensor([[ 0.0952,  0.1791, -0.2050,  0.1988, -0.2998, -0.2906,  0.0454, -0.1574,\n",
      "             -0.2643, -0.0569],\n",
      "            [-0.1207, -0.1112,  0.3120, -0.1217, -0.1758,  0.1247, -0.0648, -0.2217,\n",
      "             -0.0454,  0.0514],\n",
      "            [-0.0784,  0.3065,  0.1264, -0.1396,  0.0246,  0.1650, -0.0993, -0.2992,\n",
      "              0.0964, -0.1028],\n",
      "            [ 0.2476,  0.0810, -0.0717,  0.2636,  0.1547,  0.2223,  0.1090,  0.0931,\n",
      "              0.0914, -0.1598],\n",
      "            [ 0.0675, -0.2526, -0.2661, -0.2203,  0.2449,  0.2706, -0.0972,  0.2440,\n",
      "              0.2966,  0.3113],\n",
      "            [-0.2503, -0.0777,  0.0976,  0.2015,  0.2178,  0.1283, -0.2894,  0.0542,\n",
      "             -0.2351,  0.1046],\n",
      "            [ 0.0155,  0.1961, -0.0499,  0.0653,  0.2778,  0.1966, -0.3148, -0.2040,\n",
      "              0.1474, -0.2360],\n",
      "            [-0.1470,  0.2806, -0.2647,  0.0157, -0.2051, -0.0361,  0.2542, -0.2678,\n",
      "             -0.0864,  0.0862],\n",
      "            [-0.2048,  0.2181, -0.1797,  0.1794, -0.2646,  0.2256,  0.2015,  0.0332,\n",
      "             -0.0673,  0.0264],\n",
      "            [-0.3048, -0.1401, -0.2578, -0.1693, -0.2927,  0.2796,  0.0776, -0.1052,\n",
      "             -0.2282, -0.0927]])\n",
      "    torch.Size([10]) tensor([-0.0038, -0.1206,  0.1326, -0.1841, -0.0424,  0.2300, -0.1502,  0.0165,\n",
      "            -0.1110,  0.2981])\n",
      "    torch.Size([1, 10]) tensor([[-0.1914, -0.1145,  0.2970,  0.3002,  0.0523,  0.0495, -0.0763, -0.1931,\n",
      "             -0.0942, -0.2033]])\n",
      "    torch.Size([1]) tensor([-0.1208])\n",
      "\n"
     ]
    }
   ],
   "source": [
    "\n",
    "model = nn.Sequential(\n",
    "    nn.Linear(2, 10, bias=True),  # input_layer = 2, hidden_layer1 = 10\n",
    "    nn.Sigmoid(),\n",
    "    nn.Linear(10, 10, bias=True),  # hidden_layer1 = 10, hidden_layer2 = 10\n",
    "    nn.Sigmoid(),\n",
    "    nn.Linear(10, 10, bias=True),  # hidden_layer2 = 10, hidden_layer3 = 10\n",
    "    nn.Sigmoid(),\n",
    "    nn.Linear(10, 1, bias=True),  # hidden_layer3 = 10, output_layer = 1\n",
    "    nn.Sigmoid()\n",
    ").to(device)\n",
    "\n",
    "mu.log(\"model\", model)\n",
    "\n"
   ]
  },
  {
   "cell_type": "markdown",
   "metadata": {},
   "source": [
    "--- \n",
    " - 이제 비용 함수와 옵타마이저를 선언합니다. \n",
    " - nn.BCELoss()는 이진 분류에서 사용하는 크로스엔트로피 함수입니다. \n"
   ]
  },
  {
   "cell_type": "code",
   "execution_count": 4,
   "metadata": {},
   "outputs": [
    {
     "name": "stdout",
     "output_type": "stream",
     "text": [
      "-------------------------------------------------------------------------------- \n",
      "epoch :    0/10000 \n",
      "cost : 0.694898 \n",
      "\n",
      "-------------------------------------------------------------------------------- \n",
      "epoch : 1000/10000 \n",
      "cost : 0.693138 \n",
      "\n",
      "-------------------------------------------------------------------------------- \n",
      "epoch : 2000/10000 \n",
      "cost : 0.693117 \n",
      "\n",
      "-------------------------------------------------------------------------------- \n",
      "epoch : 3000/10000 \n",
      "cost : 0.693076 \n",
      "\n",
      "-------------------------------------------------------------------------------- \n",
      "epoch : 4000/10000 \n",
      "cost : 0.692910 \n",
      "\n",
      "-------------------------------------------------------------------------------- \n",
      "epoch : 5000/10000 \n",
      "cost : 0.682082 \n",
      "\n",
      "-------------------------------------------------------------------------------- \n",
      "epoch : 6000/10000 \n",
      "cost : 0.001303 \n",
      "\n",
      "-------------------------------------------------------------------------------- \n",
      "epoch : 7000/10000 \n",
      "cost : 0.000484 \n",
      "\n",
      "-------------------------------------------------------------------------------- \n",
      "epoch : 8000/10000 \n",
      "cost : 0.000289 \n",
      "\n",
      "-------------------------------------------------------------------------------- \n",
      "epoch : 9000/10000 \n",
      "cost : 0.000204 \n",
      "\n"
     ]
    },
    {
     "data": {
      "image/png": "[encoded data removed]",
      "text/plain": [
       "<Figure size 432x288 with 1 Axes>"
      ]
     },
     "metadata": {
      "needs_background": "light"
     },
     "output_type": "display_data"
    }
   ],
   "source": [
    "\n",
    "criterion = nn.BCELoss().to(device)\n",
    "optimizer = optim.SGD(model.parameters(), lr=1)\n",
    "nb_epochs = 10000\n",
    "mu.plt_init()\n",
    "\n",
    "for epoch in range(nb_epochs):\n",
    "    hypothesis = model(X)\n",
    "    cost = criterion(hypothesis, Y)\n",
    "    optimizer.zero_grad()\n",
    "    cost.backward()\n",
    "    optimizer.step()\n",
    "\n",
    "    if epoch % 1000 == 0:\n",
    "        mu.log_epoch(epoch, nb_epochs, cost)\n",
    "\n",
    "mu.plt_show()\n",
    "\n"
   ]
  },
  {
   "cell_type": "markdown",
   "metadata": {},
   "source": [
    "--- \n",
    " - 다층 퍼셉트론의 예측값 확인하기 \n",
    "   - 이제 모델이 XOR 문제를 풀 수 있는지 테스트 해봅시다. \n"
   ]
  },
  {
   "cell_type": "code",
   "execution_count": 5,
   "metadata": {},
   "outputs": [
    {
     "name": "stdout",
     "output_type": "stream",
     "text": [
      "hypothesis : \n",
      "    torch.Size([4, 1]) tensor([[1.1176e-04],\n",
      "            [9.9983e-01],\n",
      "            [9.9984e-01],\n",
      "            [1.8542e-04]])\n",
      "\n",
      "predicted : \n",
      "    torch.Size([4, 1]) tensor([[0.],\n",
      "            [1.],\n",
      "            [1.],\n",
      "            [0.]])\n",
      "\n",
      "Y : \n",
      "    torch.Size([4, 1]) tensor([[0.],\n",
      "            [1.],\n",
      "            [1.],\n",
      "            [0.]])\n",
      "\n",
      "accuracy : \n",
      "    torch.Size([]) 1.0\n",
      "\n"
     ]
    }
   ],
   "source": [
    "\n",
    "\n",
    "with torch.no_grad():\n",
    "    hypothesis = model(X)\n",
    "    mu.log(\"hypothesis\", hypothesis)\n",
    "    predicted = (hypothesis > 0.5).float()\n",
    "    mu.log(\"predicted\", predicted)\n",
    "    accuracy = (predicted == Y).float().mean()\n",
    "    mu.log(\"Y\", Y)\n",
    "    mu.log(\"accuracy\", accuracy)\n"
   ]
  }
 ],
 "metadata": {
  "kernelspec": {
   "display_name": "Python 3",
   "language": "python",
   "name": "python3"
  },
  "language_info": {
   "codemirror_mode": {
    "name": "ipython",
    "version": 3
   },
   "file_extension": ".py",
   "mimetype": "text/x-python",
   "name": "python",
   "nbconvert_exporter": "python",
   "pygments_lexer": "ipython3",
   "version": "3.8.2"
  }
 },
 "nbformat": 4,
 "nbformat_minor": 4
}

{
 "cells": [
  {
   "cell_type": "code",
   "execution_count": 1,
   "metadata": {},
   "outputs": [],
   "source": [
    "import myutil as mu\n",
    "import torch\n",
    "import torch.nn as nn\n",
    "import torch.nn.functional as F\n",
    "import torch.optim as optim\n",
    "from torch.utils.data import TensorDataset  # 텐서데이터셋\n",
    "from torch.utils.data import DataLoader  # 데이터로더\n",
    "from torch.utils.data import Dataset\n",
    "import matplotlib.pyplot as plt  # 맷플롯립사용\n",
    "import torchvision.datasets as dsets\n",
    "import torchvision.transforms as transforms\n",
    "from torch.utils.data import DataLoader\n",
    "import random\n",
    "\n"
   ]
  },
  {
   "cell_type": "markdown",
   "metadata": {},
   "source": [
    "--- \n",
    " - XOR 문제 - 다층 퍼셉트론 구현하기 \n",
    "   - 이번 챕터에서는 파이토치를 사용해서 다층 퍼셉트론을 구현하여 XOR 문제를 풀어보는 것을 시도해보겠습니다. \n",
    "   - 파이토치에서는 앞에서 배운 역전파가 아래의 두 줄의 코드로서 구현됩니다. \n"
   ]
  },
  {
   "cell_type": "code",
   "execution_count": 2,
   "metadata": {},
   "outputs": [],
   "source": [
    "\n",
    "\n",
    "device = \"cuda\" if torch.cuda.is_available() else \"cpu\"\n",
    "torch.manual_seed(777)\n",
    "\n",
    "if device == \"cuda\":\n",
    "    torch.cuda.manual_seed_all(777)\n",
    "\n",
    "X = torch.FloatTensor([[0, 0], [0, 1], [1, 0], [1, 1]]).to(device)\n",
    "Y = torch.FloatTensor([[0], [1], [1], [0]]).to(device)\n",
    "\n"
   ]
  },
  {
   "cell_type": "markdown",
   "metadata": {},
   "source": [
    "--- \n",
    " ![image](https://user-images.githubusercontent.com/5696570/88937137-b295c380-d2be-11ea-87ee-be04e741164f.png) \n"
   ]
  },
  {
   "cell_type": "code",
   "execution_count": 3,
   "metadata": {},
   "outputs": [
    {
     "name": "stdout",
     "output_type": "stream",
     "text": [
      "\n",
      "model : \n",
      "    Sequential(\n",
      "      (0): Linear(in_features=2, out_features=10, bias=True)\n",
      "      (1): Sigmoid()\n",
      "      (2): Linear(in_features=10, out_features=10, bias=True)\n",
      "      (3): Sigmoid()\n",
      "      (4): Linear(in_features=10, out_features=10, bias=True)\n",
      "      (5): Sigmoid()\n",
      "      (6): Linear(in_features=10, out_features=1, bias=True)\n",
      "      (7): Sigmoid()\n",
      "    ) \n",
      "    0.weight    torch.Size([10, 2])\n",
      "        tensor([[-0.5913, -0.0125],\n",
      "            [-0.1368, -0.1613],\n",
      "            [ 0.5393,  0.5390],\n",
      "            [ 0.3171 ...\n",
      "    0.bias    torch.Size([10])\n",
      "        tensor([ 0.5707, -0.3955, -0.1420, -0.3777,  0.6238,  0.5911,  0.5589, -0.0933,\n",
      "            -0.4917, -0. ...\n",
      "    2.weight    torch.Size([10, 10])\n",
      "        tensor([[-0.0777,  0.0738,  0.0224,  0.3143, -0.0773,  0.2872,  0.2076,  0.0923,\n",
      "              0.0344, - ...\n",
      "    2.bias    torch.Size([10])\n",
      "        tensor([-0.1248,  0.1241, -0.3153, -0.1469,  0.0800,  0.2347, -0.1352,  0.1177,\n",
      "             0.3027, -0. ...\n",
      "    4.weight    torch.Size([10, 10])\n",
      "        tensor([[ 0.0952,  0.1791, -0.2050,  0.1988, -0.2998, -0.2906,  0.0454, -0.1574,\n",
      "             -0.2643, - ...\n",
      "    4.bias    torch.Size([10])\n",
      "        tensor([-0.0038, -0.1206,  0.1326, -0.1841, -0.0424,  0.2300, -0.1502,  0.0165,\n",
      "            -0.1110,  0. ...\n",
      "    6.weight    torch.Size([1, 10])\n",
      "        tensor([[-0.1914, -0.1145,  0.2970,  0.3002,  0.0523,  0.0495, -0.0763, -0.1931,\n",
      "             -0.0942, - ...\n",
      "    6.bias    torch.Size([1])\n",
      "        tensor([-0.1208])\n",
      "\n"
     ]
    }
   ],
   "source": [
    "\n",
    "model = nn.Sequential(\n",
    "    nn.Linear(2, 10, bias=True),  # input_layer = 2, hidden_layer1 = 10\n",
    "    nn.Sigmoid(),\n",
    "    nn.Linear(10, 10, bias=True),  # hidden_layer1 = 10, hidden_layer2 = 10\n",
    "    nn.Sigmoid(),\n",
    "    nn.Linear(10, 10, bias=True),  # hidden_layer2 = 10, hidden_layer3 = 10\n",
    "    nn.Sigmoid(),\n",
    "    nn.Linear(10, 1, bias=True),  # hidden_layer3 = 10, output_layer = 1\n",
    "    nn.Sigmoid()\n",
    ").to(device)\n",
    "\n",
    "mu.log(\"model\", model)\n",
    "\n"
   ]
  },
  {
   "cell_type": "markdown",
   "metadata": {},
   "source": [
    "--- \n",
    " - 이제 비용 함수와 옵타마이저를 선언합니다. \n",
    " - nn.BCELoss()는 이진 분류에서 사용하는 크로스엔트로피 함수입니다. \n"
   ]
  },
  {
   "cell_type": "code",
   "execution_count": 4,
   "metadata": {},
   "outputs": [
    {
     "name": "stdout",
     "output_type": "stream",
     "text": [
      "-------------------------------------------------------------------------------- \n",
      "epoch :    0/10000 \n",
      "cost : 0.694898 \n",
      "accuracy : 0.50 \n",
      "\n",
      "-------------------------------------------------------------------------------- \n",
      "epoch : 1000/10000 \n",
      "cost : 0.693138 \n",
      "accuracy : 0.50 \n",
      "\n",
      "-------------------------------------------------------------------------------- \n",
      "epoch : 2000/10000 \n",
      "cost : 0.693117 \n",
      "accuracy : 0.50 \n",
      "\n",
      "-------------------------------------------------------------------------------- \n",
      "epoch : 3000/10000 \n",
      "cost : 0.693076 \n",
      "accuracy : 0.50 \n",
      "\n",
      "-------------------------------------------------------------------------------- \n",
      "epoch : 4000/10000 \n",
      "cost : 0.692910 \n",
      "accuracy : 0.50 \n",
      "\n",
      "-------------------------------------------------------------------------------- \n",
      "epoch : 5000/10000 \n",
      "cost : 0.682082 \n",
      "accuracy : 0.75 \n",
      "\n",
      "-------------------------------------------------------------------------------- \n",
      "epoch : 6000/10000 \n",
      "cost : 0.001303 \n",
      "accuracy : 1.00 \n",
      "\n",
      "-------------------------------------------------------------------------------- \n",
      "epoch : 7000/10000 \n",
      "cost : 0.000484 \n",
      "accuracy : 1.00 \n",
      "\n",
      "-------------------------------------------------------------------------------- \n",
      "epoch : 8000/10000 \n",
      "cost : 0.000289 \n",
      "accuracy : 1.00 \n",
      "\n",
      "-------------------------------------------------------------------------------- \n",
      "epoch : 9000/10000 \n",
      "cost : 0.000204 \n",
      "accuracy : 1.00 \n",
      "\n"
     ]
    },
    {
     "data": {
      "image/png": "[encoded data removed]",
      "text/plain": [
       "<Figure size 432x288 with 1 Axes>"
      ]
     },
     "metadata": {
      "needs_background": "light"
     },
     "output_type": "display_data"
    },
    {
     "data": {
      "image/png": "[encoded data removed]",
      "text/plain": [
       "<Figure size 432x288 with 1 Axes>"
      ]
     },
     "metadata": {
      "needs_background": "light"
     },
     "output_type": "display_data"
    },
    {
     "name": "stdout",
     "output_type": "stream",
     "text": [
      "model : \n",
      "    Sequential(\n",
      "      (0): Linear(in_features=2, out_features=10, bias=True)\n",
      "      (1): Sigmoid()\n",
      "      (2): Linear(in_features=10, out_features=10, bias=True)\n",
      "      (3): Sigmoid()\n",
      "      (4): Linear(in_features=10, out_features=10, bias=True)\n",
      "      (5): Sigmoid()\n",
      "      (6): Linear(in_features=10, out_features=1, bias=True)\n",
      "      (7): Sigmoid()\n",
      "    ) \n",
      "    0.weight    torch.Size([10, 2])\n",
      "        tensor([[-1.3072, -0.6914],\n",
      "            [-0.4731, -0.5731],\n",
      "            [ 0.8906,  0.9914],\n",
      "            [ 0.5454 ...\n",
      "    0.bias    torch.Size([10])\n",
      "        tensor([ 1.0630, -0.3166, -1.0371, -0.7043,  0.9435,  0.1707,  0.5974, -1.7878,\n",
      "            -0.8443, -2. ...\n",
      "    2.weight    torch.Size([10, 10])\n",
      "        tensor([[-0.0245,  0.0714, -0.2017,  0.1644, -0.6267,  0.1006, -0.1566,  0.4931,\n",
      "              0.2377, - ...\n",
      "    2.bias    torch.Size([10])\n",
      "        tensor([-0.3367,  0.1928, -0.4037, -0.0721,  0.0857, -0.3197, -0.3240,  0.1586,\n",
      "             0.2449, -0. ...\n",
      "    4.weight    torch.Size([10, 10])\n",
      "        tensor([[-0.1354,  0.9144, -1.1064,  2.9159, -0.9135, -2.4225,  0.5148,  1.5040,\n",
      "             -2.1068, - ...\n",
      "    4.bias    torch.Size([10])\n",
      "        tensor([ 0.5524, -0.1570, -0.3198, -0.4481, -0.3633,  0.1708, -0.2025,  0.2143,\n",
      "            -0.0704,  0. ...\n",
      "    6.weight    torch.Size([1, 10])\n",
      "        tensor([[-5.5447,  0.9486,  5.2448,  2.3652,  3.8916, -1.3293, -0.8197, -2.3476,\n",
      "             -1.6631, - ...\n",
      "    6.bias    torch.Size([1])\n",
      "        tensor([-0.0850])\n",
      "\n"
     ]
    }
   ],
   "source": [
    "\n",
    "criterion = nn.BCELoss().to(device)\n",
    "optimizer = optim.SGD(model.parameters(), lr=1)\n",
    "nb_epochs = 10000\n",
    "mu.plt_init()\n",
    "\n",
    "for epoch in range(nb_epochs):\n",
    "    hypothesis = model(X)\n",
    "    cost = criterion(hypothesis, Y)\n",
    "    optimizer.zero_grad()\n",
    "    cost.backward()\n",
    "    optimizer.step()\n",
    "\n",
    "    if epoch % 1000 == 0:\n",
    "        accuracy = mu.get_binary_classification_accuracy(hypothesis, Y)\n",
    "        mu.log_epoch(epoch, nb_epochs, cost, accuracy)\n",
    "\n",
    "mu.plt_show()\n",
    "mu.log(\"model\", model)\n",
    "\n"
   ]
  },
  {
   "cell_type": "markdown",
   "metadata": {},
   "source": [
    "--- \n",
    " - 다층 퍼셉트론의 예측값 확인하기 \n",
    "   - 이제 모델이 XOR 문제를 풀 수 있는지 테스트 해봅시다. \n"
   ]
  },
  {
   "cell_type": "code",
   "execution_count": 5,
   "metadata": {},
   "outputs": [
    {
     "name": "stdout",
     "output_type": "stream",
     "text": [
      "accuracy : 1.0\n"
     ]
    }
   ],
   "source": [
    "\n",
    "\n",
    "with torch.no_grad():\n",
    "    hypothesis = model(X)\n",
    "    accuracy = mu.get_binary_classification_accuracy(hypothesis, Y)\n",
    "    mu.log(\"accuracy\", accuracy)\n"
   ]
  }
 ],
 "metadata": {
  "kernelspec": {
   "display_name": "Python 3",
   "language": "python",
   "name": "python3"
  },
  "language_info": {
   "codemirror_mode": {
    "name": "ipython",
    "version": 3
   },
   "file_extension": ".py",
   "mimetype": "text/x-python",
   "name": "python",
   "nbconvert_exporter": "python",
   "pygments_lexer": "ipython3",
   "version": "3.8.2"
  }
 },
 "nbformat": 4,
 "nbformat_minor": 4
}

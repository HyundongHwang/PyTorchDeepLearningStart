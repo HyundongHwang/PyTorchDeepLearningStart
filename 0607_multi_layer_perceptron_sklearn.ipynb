{
 "cells": [
  {
   "cell_type": "code",
   "execution_count": 1,
   "metadata": {},
   "outputs": [],
   "source": [
    "import myutil as mu\n",
    "import torch\n",
    "import torch.nn as nn\n",
    "import torch.nn.functional as F\n",
    "import torch.optim as optim\n",
    "from torch.utils.data import TensorDataset  # 텐서데이터셋\n",
    "from torch.utils.data import DataLoader  # 데이터로더\n",
    "from torch.utils.data import Dataset\n",
    "import matplotlib.pyplot as plt  # 맷플롯립사용\n",
    "import torchvision.datasets as dsets\n",
    "import torchvision.transforms as transforms\n",
    "from torch.utils.data import DataLoader\n",
    "import random\n",
    "from sklearn.datasets import load_digits\n",
    "\n"
   ]
  },
  {
   "cell_type": "markdown",
   "metadata": {},
   "source": [
    "--- \n",
    " - 다층 퍼셉트론으로 손글씨 분류하기 \n",
    "   - 이번 챕터에서는 다층 퍼셉트론을 구현하고, 딥 러닝을 통해서 숫자 필기 데이터를 분류해봅시다. \n",
    "   - MNIST 데이터랑 다른 데이터입니다. \n"
   ]
  },
  {
   "cell_type": "code",
   "execution_count": 0,
   "metadata": {},
   "outputs": [],
   "source": [
    "\n"
   ]
  },
  {
   "cell_type": "markdown",
   "metadata": {},
   "source": [
    "--- \n",
    " - 숫자 필기 데이터 소개 \n",
    "   - 숫자 필기 데이터는 사이킷런 패키지에서 제공하는 분류용 예제 데이터입니다. \n",
    "   - 0부터 9까지의 숫자를 손으로 쓴 이미지 데이터로 load_digits() 명령으로 로드할 수 있습니다. \n",
    "   - 각 이미지는 0부터 15까지의 명암을 가지는 8 × 8 = 64 픽셀 해상도의 흑백 이미지입니다. \n",
    "   - 그리고 해당 이미지가 1,797개가 있습니다. \n",
    "   - load_digits()를 통해 이미지 데이터를 로드할 수 있습니다. \n",
    "   - 로드한 전체 데이터를 digits에 저장합니다. \n"
   ]
  },
  {
   "cell_type": "code",
   "execution_count": 2,
   "metadata": {},
   "outputs": [
    {
     "name": "stdout",
     "output_type": "stream",
     "text": [
      "len(digits.images) : 1797\n"
     ]
    },
    {
     "data": {
      "image/png": "[encoded data removed]",
      "text/plain": [
       "<Figure size 432x288 with 20 Axes>"
      ]
     },
     "metadata": {
      "needs_background": "light"
     },
     "output_type": "display_data"
    }
   ],
   "source": [
    "\n",
    "\n",
    "digits = load_digits()\n",
    "mu.log(\"len(digits.images)\", len(digits.images))\n",
    "\n",
    "images_labels = list(zip(digits.images, digits.target))\n",
    "sub_sample_size = 20\n",
    "\n",
    "for i, (image, label) in enumerate(images_labels[:sub_sample_size]):\n",
    "    plt.subplot(4, 5, i + 1)\n",
    "    plt.axis(\"off\")\n",
    "    plt.imshow(image, cmap=plt.cm.gray_r, interpolation=\"nearest\")\n",
    "    plt.title(\"label : {}\".format(label))\n",
    "\n",
    "plt.show()\n",
    "\n"
   ]
  },
  {
   "cell_type": "markdown",
   "metadata": {},
   "source": [
    "--- \n",
    " - 다층 퍼셉트론 분류기 만들기 \n"
   ]
  },
  {
   "cell_type": "code",
   "execution_count": 3,
   "metadata": {},
   "outputs": [
    {
     "name": "stdout",
     "output_type": "stream",
     "text": [
      "\n",
      "model : \n",
      "    Sequential(\n",
      "      (0): Linear(in_features=64, out_features=32, bias=True)\n",
      "      (1): ReLU()\n",
      "      (2): Linear(in_features=32, out_features=16, bias=True)\n",
      "      (3): ReLU()\n",
      "      (4): Linear(in_features=16, out_features=10, bias=True)\n",
      "    ) \n",
      "    torch.Size([32, 64]) tensor([[ 0.0032,  0.0661, -0.0140,  ..., -0.0194, -0.0652,  0.0648],\n",
      "            [-0.0814,  0.0339, -0.0787,  ...,  0.1099, -0.0270, -0.0808],\n",
      "            [-0.0753,  0.1112,  0.0814,  ..., -0.0767, -0.1129, -0.0418],\n",
      "            ...,\n",
      "            [-0.0282,  0.0285,  0.0096,  ...,  0.0652, -0.0413,  0.0944],\n",
      "            [ 0.0728,  0.0187,  0.0978,  ..., -0.0986,  0.0010, -0.0578],\n",
      "            [ 0.1202, -0.0861, -0.0830,  ..., -0.0739, -0.1171,  0.0675]])\n",
      "    torch.Size([32]) tensor([-0.0441,  0.1111, -0.1065, -0.0940, -0.0701, -0.0344,  0.1085,  0.0262,\n",
      "             0.0809, -0.1119, -0.1131, -0.0510,  0.0844, -0.0986,  0.1203,  0.0620,\n",
      "            -0.0131,  0.0457,  0.0025, -0.1184,  0.1129, -0.0556, -0.0735, -0.0920,\n",
      "             0.0919, -0.0998,  0.0910,  0.0782,  0.0213, -0.0647, -0.0096, -0.0783])\n",
      "    torch.Size([16, 32]) tensor([[-0.0233, -0.0143, -0.1362,  0.1575,  0.1114,  0.0779,  0.1456, -0.1644,\n",
      "              0.0638,  0.0743, -0.0383,  0.0153, -0.1230,  0.0801,  0.0304, -0.0946,\n",
      "             -0.1196,  0.0221, -0.0950, -0.0226, -0.1430, -0.1096, -0.1469,  0.0843,\n",
      "             -0.1730, -0.0910, -0.0374, -0.0285,  0.0622,  0.1347, -0.0159,  0.0790],\n",
      "            [ 0.0960, -0.0228, -0.0088, -0.0756,  0.1445, -0.1754, -0.0129, -0.0757,\n",
      "              0.0655,  0.0327,  0.1613, -0.0756,  0.0363, -0.1623,  0.0680, -0.0709,\n",
      "             -0.1069, -0.1124,  0.0897, -0.1357,  0.1734, -0.0532, -0.0530, -0.0916,\n",
      "             -0.1367, -0.0639,  0.0551,  0.1333,  0.0476, -0.0615,  0.1083, -0.1321],\n",
      "            [ 0.0577, -0.1051,  0.0509,  0.1485,  0.1461,  0.1398,  0.0835, -0.1529,\n",
      "             -0.0320,  0.0747,  0.1230, -0.1397,  0.0322,  0.0613,  0.0479,  0.1654,\n",
      "             -0.0306, -0.1711, -0.1743, -0.0464, -0.1169,  0.1118, -0.1622, -0.1472,\n",
      "              0.0607,  0.0280,  0.1597,  0.0872,  0.1662, -0.1725,  0.0713,  0.0407],\n",
      "            [ 0.1457,  0.0202, -0.1392,  0.1417, -0.0607, -0.1180,  0.0463, -0.1612,\n",
      "             -0.1756,  0.0989,  0.1583,  0.0493,  0.1421, -0.1478, -0.1030, -0.1149,\n",
      "              0.1058,  0.0687,  0.1002, -0.0714, -0.1229, -0.0586,  0.0939,  0.1456,\n",
      "              0.0782, -0.0046, -0.1436,  0.1562, -0.1417,  0.0289,  0.0950, -0.1248],\n",
      "            [ 0.0189,  0.0749, -0.1494,  0.1055, -0.0686,  0.0454,  0.1408,  0.1039,\n",
      "             -0.0065, -0.1463,  0.0037,  0.1515, -0.1239, -0.0245, -0.0773, -0.1091,\n",
      "              0.0581, -0.0983,  0.1409, -0.1570,  0.1683, -0.0587, -0.1389, -0.0850,\n",
      "             -0.1725,  0.1180, -0.1756,  0.0292, -0.0442, -0.0680, -0.1733, -0.0035],\n",
      "            [ 0.0783,  0.1228,  0.1333,  0.0625,  0.1656,  0.0067, -0.0380, -0.0404,\n",
      "             -0.0916,  0.1527, -0.1558, -0.0782,  0.0287,  0.1250,  0.0816,  0.1462,\n",
      "              0.0221,  0.0275, -0.1373, -0.1072,  0.1363, -0.1175, -0.0086,  0.0570,\n",
      "             -0.1170, -0.0214, -0.1348,  0.0367, -0.1503, -0.1645,  0.0321,  0.1512],\n",
      "            [-0.0255,  0.1562, -0.1740,  0.0631,  0.0953, -0.0711, -0.1096,  0.0173,\n",
      "             -0.0959,  0.1446, -0.1188, -0.0703, -0.0612, -0.1412,  0.1009,  0.1337,\n",
      "              0.1081, -0.1617,  0.0664, -0.1615,  0.0882, -0.1235, -0.0242,  0.0498,\n",
      "              0.1673, -0.1137,  0.0266,  0.1748,  0.0587,  0.0186, -0.0779, -0.1689],\n",
      "            [-0.1389, -0.0142, -0.1263, -0.1288,  0.1643, -0.1008, -0.0546,  0.1111,\n",
      "              0.0026, -0.0050,  0.1613,  0.0536,  0.0675, -0.0572,  0.1054,  0.0163,\n",
      "             -0.0327,  0.0167, -0.0385,  0.0586, -0.1035, -0.0482,  0.0101,  0.1236,\n",
      "             -0.0878, -0.1081,  0.0024,  0.0959,  0.0358, -0.1674,  0.0877, -0.1756],\n",
      "            [ 0.0816,  0.1561, -0.1432, -0.1460,  0.1308,  0.1539,  0.1115,  0.0721,\n",
      "             -0.0856, -0.1591, -0.0772, -0.0626,  0.0765,  0.0588, -0.1254, -0.1693,\n",
      "             -0.0886,  0.0385,  0.0591,  0.0731, -0.0523,  0.1290, -0.1291,  0.1375,\n",
      "             -0.0214,  0.0997, -0.1581,  0.1661,  0.0824, -0.1374, -0.0846,  0.0213],\n",
      "            [-0.0386, -0.1622,  0.1505,  0.1442,  0.1184, -0.0023,  0.1624, -0.0204,\n",
      "              0.0933, -0.0897, -0.0573,  0.0671, -0.0145,  0.1494,  0.1516,  0.1130,\n",
      "             -0.0389,  0.0480,  0.0276,  0.1493,  0.0281,  0.1450, -0.0065, -0.0104,\n",
      "             -0.1487,  0.0849,  0.1287, -0.0765, -0.0135, -0.0364, -0.0918,  0.0985],\n",
      "            [ 0.0936, -0.0517, -0.0685, -0.0720,  0.0419,  0.1658, -0.0093, -0.0413,\n",
      "             -0.1045, -0.1442, -0.1510, -0.0782, -0.1318, -0.0508,  0.0595, -0.0666,\n",
      "              0.0134,  0.0615, -0.0585,  0.0648, -0.1405, -0.1099,  0.1314, -0.0449,\n",
      "              0.0859,  0.1189,  0.1375, -0.0528, -0.1204,  0.0814,  0.0448, -0.1129],\n",
      "            [-0.1533,  0.1082,  0.1199,  0.0866,  0.1711, -0.0778, -0.1159, -0.1144,\n",
      "             -0.0440, -0.1007, -0.0753,  0.1338,  0.1247,  0.0692, -0.1210, -0.0782,\n",
      "              0.0132,  0.0346, -0.1197,  0.0500, -0.1041,  0.1709, -0.0873,  0.0473,\n",
      "              0.0371,  0.0389, -0.0962,  0.0889, -0.1625,  0.0495, -0.1244,  0.1092],\n",
      "            [ 0.1054,  0.1128, -0.0803,  0.0092, -0.0495,  0.1126,  0.0270,  0.1522,\n",
      "              0.1409,  0.0656, -0.1546,  0.1336,  0.1244, -0.0338, -0.1623,  0.1641,\n",
      "             -0.0708,  0.1365, -0.1402, -0.1568, -0.1051, -0.0432, -0.0641, -0.0575,\n",
      "             -0.0839,  0.0069, -0.1476,  0.1195,  0.0451, -0.0344, -0.1302,  0.0146],\n",
      "            [ 0.1614,  0.1023, -0.1093,  0.1054, -0.0322,  0.0236,  0.0362, -0.0323,\n",
      "             -0.0689,  0.0009,  0.1289, -0.0875,  0.0357, -0.0467, -0.0607,  0.1093,\n",
      "             -0.1410,  0.1360, -0.0300,  0.1330,  0.0794,  0.1321,  0.0821,  0.1322,\n",
      "             -0.1073,  0.0205, -0.1170, -0.0689,  0.0006, -0.1345,  0.0912, -0.0017],\n",
      "            [-0.1595, -0.1509,  0.0382,  0.0260,  0.0195,  0.0918, -0.0544, -0.1419,\n",
      "              0.1212,  0.0442, -0.1115,  0.0368, -0.0887, -0.0357,  0.0109, -0.1761,\n",
      "              0.0108,  0.0629, -0.0090, -0.0683, -0.1568, -0.1292, -0.0173, -0.1705,\n",
      "             -0.1588,  0.0759, -0.0471,  0.0746,  0.1402, -0.1323,  0.0120, -0.0826],\n",
      "            [-0.0699, -0.0421, -0.0086, -0.1710,  0.0468, -0.1471,  0.1296, -0.0207,\n",
      "             -0.1219, -0.1638,  0.0699,  0.1346, -0.0996, -0.1380, -0.0643,  0.1343,\n",
      "             -0.0078,  0.1175,  0.0039,  0.0243, -0.0754,  0.0587,  0.0459,  0.0241,\n",
      "             -0.0446, -0.1558, -0.1656,  0.1699, -0.0260,  0.0949, -0.1410,  0.0894]])\n",
      "    torch.Size([16]) tensor([ 0.0978,  0.0423, -0.0229,  0.0187, -0.0135,  0.1376,  0.1629, -0.1574,\n",
      "            -0.0603,  0.0738, -0.0094,  0.0785, -0.0308, -0.0663, -0.0689, -0.0721])\n",
      "    torch.Size([10, 16]) tensor([[-0.0750,  0.1796, -0.2207,  0.1754, -0.2240, -0.2415, -0.0411,  0.2139,\n",
      "              0.2273, -0.0876,  0.0412, -0.1812, -0.0114, -0.0113,  0.0317, -0.2363],\n",
      "            [-0.1547, -0.1222, -0.1404,  0.2255, -0.2136,  0.2442, -0.0643,  0.0395,\n",
      "             -0.0658, -0.2492,  0.0358, -0.1068, -0.0361, -0.0805, -0.0796,  0.2460],\n",
      "            [ 0.1476, -0.2146, -0.0450,  0.0285,  0.0831,  0.0822,  0.0269,  0.0864,\n",
      "             -0.1815, -0.2177, -0.0079,  0.1793, -0.2278,  0.1702,  0.1414, -0.1392],\n",
      "            [ 0.0611,  0.2400, -0.0971, -0.0112, -0.1951,  0.1698,  0.0869, -0.1199,\n",
      "              0.2034, -0.1368, -0.0672, -0.1312,  0.0019,  0.0053, -0.1283,  0.0257],\n",
      "            [ 0.0901, -0.0409,  0.2152, -0.0255,  0.0378,  0.0486,  0.1717, -0.1372,\n",
      "              0.0179, -0.0540,  0.1236, -0.0814, -0.1285, -0.1214,  0.1569, -0.0008],\n",
      "            [-0.2391,  0.1791, -0.2092, -0.2227, -0.0358, -0.2167, -0.1141, -0.0225,\n",
      "              0.2022,  0.1056, -0.0734, -0.0713, -0.0933,  0.2454, -0.1430, -0.2288],\n",
      "            [-0.2272, -0.2261, -0.0499, -0.0539, -0.1640,  0.2287, -0.1395,  0.1497,\n",
      "              0.0475, -0.0336,  0.2214,  0.0255,  0.1649,  0.0102, -0.0377,  0.0330],\n",
      "            [ 0.2144,  0.2073,  0.0134, -0.1240, -0.0734,  0.2356, -0.1049,  0.0392,\n",
      "             -0.0308, -0.2293,  0.2344,  0.0284,  0.2086, -0.2115, -0.1625, -0.0605],\n",
      "            [-0.1552,  0.0694,  0.0434, -0.1668, -0.1241,  0.1976, -0.2239, -0.0488,\n",
      "              0.1022,  0.0290, -0.0767,  0.0299, -0.1617,  0.0122,  0.1020,  0.0995],\n",
      "            [-0.1407,  0.0843, -0.0246, -0.0177,  0.0551, -0.1240,  0.0331,  0.1087,\n",
      "              0.2149,  0.0610, -0.1679,  0.1280,  0.2239,  0.0424,  0.0091,  0.0862]])\n",
      "    torch.Size([10]) tensor([ 0.0360, -0.0129, -0.0325,  0.2031, -0.1400, -0.2297,  0.1204, -0.0990,\n",
      "             0.0096, -0.0271])\n",
      "\n",
      "len(X) : 1797\n",
      "X[0].shape : (64,)\n",
      "len(Y) : 1797\n",
      "Y[0].shape : ()\n",
      "-------------------------------------------------------------------------------- \n",
      "epoch :    0/100 \n",
      "cost : 2.296044 \n",
      "\n",
      "-------------------------------------------------------------------------------- \n",
      "epoch :   10/100 \n",
      "cost : 2.030663 \n",
      "\n",
      "-------------------------------------------------------------------------------- \n",
      "epoch :   20/100 \n",
      "cost : 1.696753 \n",
      "\n",
      "-------------------------------------------------------------------------------- \n",
      "epoch :   30/100 \n",
      "cost : 1.289907 \n",
      "\n",
      "-------------------------------------------------------------------------------- \n",
      "epoch :   40/100 \n",
      "cost : 0.916219 \n",
      "\n",
      "-------------------------------------------------------------------------------- \n",
      "epoch :   50/100 \n",
      "cost : 0.639753 \n",
      "\n",
      "-------------------------------------------------------------------------------- \n",
      "epoch :   60/100 \n",
      "cost : 0.460950 \n",
      "\n",
      "-------------------------------------------------------------------------------- \n",
      "epoch :   70/100 \n",
      "cost : 0.348592 \n",
      "\n",
      "-------------------------------------------------------------------------------- \n",
      "epoch :   80/100 \n",
      "cost : 0.276346 \n",
      "\n",
      "-------------------------------------------------------------------------------- \n",
      "epoch :   90/100 \n",
      "cost : 0.225839 \n",
      "\n",
      "-------------------------------------------------------------------------------- \n",
      "epoch :  100/100 \n",
      "cost : 0.187968 \n",
      "\n"
     ]
    },
    {
     "data": {
      "image/png": "[encoded data removed]",
      "text/plain": [
       "<Figure size 432x288 with 1 Axes>"
      ]
     },
     "metadata": {
      "needs_background": "light"
     },
     "output_type": "display_data"
    }
   ],
   "source": [
    "\n",
    "\n",
    "model = nn.Sequential(\n",
    "    nn.Linear(64, 32),  # input_layer = 64, hidden_layer1 = 32\n",
    "    nn.ReLU(),\n",
    "    nn.Linear(32, 16),  # hidden_layer2 = 32, hidden_layer3 = 16\n",
    "    nn.ReLU(),\n",
    "    nn.Linear(16, 10)  # hidden_layer3 = 16, output_layer = 10\n",
    ")\n",
    "\n",
    "mu.log(\"model\", model)\n",
    "\n",
    "X = digits.data  # 이미지. 즉, 특성 행렬\n",
    "Y = digits.target  # 각 이미지에 대한 레이블\n",
    "\n",
    "mu.log(\"len(X)\", len(X))\n",
    "mu.log(\"X[0].shape\", X[0].shape)\n",
    "mu.log(\"len(Y)\", len(Y))\n",
    "mu.log(\"Y[0].shape\", Y[0].shape)\n",
    "\n",
    "X = torch.tensor(X, dtype=torch.float32)\n",
    "Y = torch.tensor(Y, dtype=torch.int64)\n",
    "\n",
    "loss_fn = nn.CrossEntropyLoss()\n",
    "optimizer = optim.Adam(model.parameters())\n",
    "nb_epochs = 100\n",
    "mu.plt_init()\n",
    "\n",
    "for epoch in range(nb_epochs + 1):\n",
    "    y_pred = model(X)\n",
    "    loss = loss_fn(y_pred, Y)\n",
    "    optimizer.zero_grad()\n",
    "    loss.backward()\n",
    "    optimizer.step()\n",
    "\n",
    "    if epoch % 10 == 0:\n",
    "        mu.log_epoch(epoch, nb_epochs, loss)\n",
    "\n",
    "mu.plt_show()\n",
    "\n"
   ]
  },
  {
   "cell_type": "markdown",
   "metadata": {},
   "source": [
    "--- \n",
    " accuracy 측정 \n"
   ]
  },
  {
   "cell_type": "code",
   "execution_count": 4,
   "metadata": {},
   "outputs": [
    {
     "name": "stdout",
     "output_type": "stream",
     "text": [
      "\n",
      "accuracy : \n",
      "    torch.Size([]) 0.9521424770355225\n",
      "\n"
     ]
    }
   ],
   "source": [
    "\n",
    "\n",
    "with torch.no_grad():\n",
    "    prediction = model(X)\n",
    "    correct_prediction = torch.argmax(prediction, 1) == Y\n",
    "    accuracy = correct_prediction.float().mean()\n",
    "    mu.log(\"accuracy\", accuracy)\n",
    "\n"
   ]
  },
  {
   "cell_type": "markdown",
   "metadata": {},
   "source": [
    "--- \n",
    " 랜덤 5 항목 테스트 \n"
   ]
  },
  {
   "cell_type": "code",
   "execution_count": 5,
   "metadata": {},
   "outputs": [
    {
     "name": "stdout",
     "output_type": "stream",
     "text": [
      "--------------------------------------------------------------------------------\n",
      "r : 1542\n",
      "X_single_data.shape : torch.Size([1, 64])\n",
      "\n",
      "Y_single_data : \n",
      "    torch.Size([1]) tensor([8])\n",
      "\n",
      "single_prediction : \n",
      "    torch.Size([1, 10]) tensor([[-4.8552, -2.8179, -4.5502, -1.4480, -2.2460, -1.8032, -1.6843, -0.4846,\n",
      "              2.2484,  0.0360]])\n",
      "\n",
      "single_prediction_res : 8\n"
     ]
    },
    {
     "data": {
      "image/png": "[encoded data removed]",
      "text/plain": [
       "<Figure size 432x288 with 1 Axes>"
      ]
     },
     "metadata": {
      "needs_background": "light"
     },
     "output_type": "display_data"
    },
    {
     "name": "stdout",
     "output_type": "stream",
     "text": [
      "--------------------------------------------------------------------------------\n",
      "r : 780\n",
      "X_single_data.shape : torch.Size([1, 64])\n",
      "\n",
      "Y_single_data : \n",
      "    torch.Size([1]) tensor([4])\n",
      "\n",
      "single_prediction : \n",
      "    torch.Size([1, 10]) tensor([[ -1.5211,  -4.9357,  -2.9936, -10.0598,   2.8136,  -5.6555,   0.5482,\n",
      "              -3.2218,  -5.4876,  -6.7213]])\n",
      "\n",
      "single_prediction_res : 4\n"
     ]
    },
    {
     "data": {
      "image/png": "[encoded data removed]",
      "text/plain": [
       "<Figure size 432x288 with 1 Axes>"
      ]
     },
     "metadata": {
      "needs_background": "light"
     },
     "output_type": "display_data"
    },
    {
     "name": "stdout",
     "output_type": "stream",
     "text": [
      "--------------------------------------------------------------------------------\n",
      "r : 843\n",
      "X_single_data.shape : torch.Size([1, 64])\n",
      "\n",
      "Y_single_data : \n",
      "    torch.Size([1]) tensor([6])\n",
      "\n",
      "single_prediction : \n",
      "    torch.Size([1, 10]) tensor([[-2.0156, -3.9249, -4.9956, -6.8622, -0.1322, -6.1823,  0.4766, -5.3769,\n",
      "             -5.2737, -1.3806]])\n",
      "\n",
      "single_prediction_res : 6\n"
     ]
    },
    {
     "data": {
      "image/png": "[encoded data removed]",
      "text/plain": [
       "<Figure size 432x288 with 1 Axes>"
      ]
     },
     "metadata": {
      "needs_background": "light"
     },
     "output_type": "display_data"
    },
    {
     "name": "stdout",
     "output_type": "stream",
     "text": [
      "--------------------------------------------------------------------------------\n",
      "r : 9\n",
      "X_single_data.shape : torch.Size([1, 64])\n",
      "\n",
      "Y_single_data : \n",
      "    torch.Size([1]) tensor([9])\n",
      "\n",
      "single_prediction : \n",
      "    torch.Size([1, 10]) tensor([[-1.7606, -3.4041, -5.6082, -1.9121, -4.2323, -2.9229, -1.7616, -3.6270,\n",
      "             -0.5417,  2.1193]])\n",
      "\n",
      "single_prediction_res : 9\n"
     ]
    },
    {
     "data": {
      "image/png": "[encoded data removed]",
      "text/plain": [
       "<Figure size 432x288 with 1 Axes>"
      ]
     },
     "metadata": {
      "needs_background": "light"
     },
     "output_type": "display_data"
    },
    {
     "name": "stdout",
     "output_type": "stream",
     "text": [
      "--------------------------------------------------------------------------------\n",
      "r : 539\n",
      "X_single_data.shape : torch.Size([1, 64])\n",
      "\n",
      "Y_single_data : \n",
      "    torch.Size([1]) tensor([3])\n",
      "\n",
      "single_prediction : \n",
      "    torch.Size([1, 10]) tensor([[-3.4643,  0.3147,  0.1498,  1.6367, -4.2476, -0.7173, -2.0724, -5.4108,\n",
      "              2.4757,  0.4383]])\n",
      "\n",
      "single_prediction_res : 8\n"
     ]
    },
    {
     "data": {
      "image/png": "[encoded data removed]",
      "text/plain": [
       "<Figure size 432x288 with 1 Axes>"
      ]
     },
     "metadata": {
      "needs_background": "light"
     },
     "output_type": "display_data"
    }
   ],
   "source": [
    "\n",
    "\n",
    "for _ in range(5):\n",
    "    print(\"-\" * 80)\n",
    "    r = random.randint(0, len(X) - 1)\n",
    "    mu.log(\"r\", r)\n",
    "    X_single_data = X[r:r + 1]\n",
    "    mu.log(\"X_single_data.shape\", X_single_data.shape)\n",
    "    Y_single_data = Y[r:r + 1]\n",
    "    mu.log(\"Y_single_data\", Y_single_data)\n",
    "    single_prediction = model(X_single_data)\n",
    "    mu.log(\"single_prediction\", single_prediction)\n",
    "    single_prediction_res = torch.argmax(single_prediction, 1).item()\n",
    "    mu.log(\"single_prediction_res\", single_prediction_res)\n",
    "    mu.plt_img_show(X_single_data.view(8, 8))\n"
   ]
  }
 ],
 "metadata": {
  "kernelspec": {
   "display_name": "Python 3",
   "language": "python",
   "name": "python3"
  },
  "language_info": {
   "codemirror_mode": {
    "name": "ipython",
    "version": 3
   },
   "file_extension": ".py",
   "mimetype": "text/x-python",
   "name": "python",
   "nbconvert_exporter": "python",
   "pygments_lexer": "ipython3",
   "version": "3.8.2"
  }
 },
 "nbformat": 4,
 "nbformat_minor": 4
}

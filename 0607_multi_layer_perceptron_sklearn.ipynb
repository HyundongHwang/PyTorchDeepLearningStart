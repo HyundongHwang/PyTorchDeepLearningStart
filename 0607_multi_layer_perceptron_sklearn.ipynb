{
 "cells": [
  {
   "cell_type": "code",
   "execution_count": 1,
   "metadata": {},
   "outputs": [],
   "source": [
    "import myutil as mu\n",
    "import torch\n",
    "import torch.nn as nn\n",
    "import torch.nn.functional as F\n",
    "import torch.optim as optim\n",
    "from torch.utils.data import TensorDataset  # 텐서데이터셋\n",
    "from torch.utils.data import DataLoader  # 데이터로더\n",
    "from torch.utils.data import Dataset\n",
    "import matplotlib.pyplot as plt  # 맷플롯립사용\n",
    "import torchvision.datasets as dsets\n",
    "import torchvision.transforms as transforms\n",
    "from torch.utils.data import DataLoader\n",
    "import random\n",
    "from sklearn.datasets import load_digits\n",
    "\n"
   ]
  },
  {
   "cell_type": "markdown",
   "metadata": {},
   "source": [
    "--- \n",
    " - 다층 퍼셉트론으로 손글씨 분류하기 \n",
    "   - 이번 챕터에서는 다층 퍼셉트론을 구현하고, 딥 러닝을 통해서 숫자 필기 데이터를 분류해봅시다. \n",
    "   - MNIST 데이터랑 다른 데이터입니다. \n"
   ]
  },
  {
   "cell_type": "code",
   "execution_count": 0,
   "metadata": {},
   "outputs": [],
   "source": [
    "\n"
   ]
  },
  {
   "cell_type": "markdown",
   "metadata": {},
   "source": [
    "--- \n",
    " - 숫자 필기 데이터 소개 \n",
    "   - 숫자 필기 데이터는 사이킷런 패키지에서 제공하는 분류용 예제 데이터입니다. \n",
    "   - 0부터 9까지의 숫자를 손으로 쓴 이미지 데이터로 load_digits() 명령으로 로드할 수 있습니다. \n",
    "   - 각 이미지는 0부터 15까지의 명암을 가지는 8 × 8 = 64 픽셀 해상도의 흑백 이미지입니다. \n",
    "   - 그리고 해당 이미지가 1,797개가 있습니다. \n",
    "   - load_digits()를 통해 이미지 데이터를 로드할 수 있습니다. \n",
    "   - 로드한 전체 데이터를 digits에 저장합니다. \n"
   ]
  },
  {
   "cell_type": "code",
   "execution_count": 2,
   "metadata": {},
   "outputs": [
    {
     "name": "stdout",
     "output_type": "stream",
     "text": [
      "len(digits.images) : 1797\n"
     ]
    },
    {
     "data": {
      "image/png": "[encoded data removed]",
      "text/plain": [
       "<Figure size 432x288 with 20 Axes>"
      ]
     },
     "metadata": {
      "needs_background": "light"
     },
     "output_type": "display_data"
    }
   ],
   "source": [
    "\n",
    "\n",
    "digits = load_digits()\n",
    "mu.log(\"len(digits.images)\", len(digits.images))\n",
    "\n",
    "images_labels = list(zip(digits.images, digits.target))\n",
    "sub_sample_size = 20\n",
    "\n",
    "for i, (image, label) in enumerate(images_labels[:sub_sample_size]):\n",
    "    plt.subplot(4, 5, i + 1)\n",
    "    plt.axis(\"off\")\n",
    "    plt.imshow(image, cmap=plt.cm.gray_r, interpolation=\"nearest\")\n",
    "    plt.title(\"label : {}\".format(label))\n",
    "\n",
    "plt.show()\n",
    "\n"
   ]
  },
  {
   "cell_type": "markdown",
   "metadata": {},
   "source": [
    "--- \n",
    " - 다층 퍼셉트론 분류기 만들기 \n"
   ]
  },
  {
   "cell_type": "code",
   "execution_count": 3,
   "metadata": {},
   "outputs": [
    {
     "name": "stdout",
     "output_type": "stream",
     "text": [
      "\n",
      "model : \n",
      "    Sequential(\n",
      "      (0): Linear(in_features=64, out_features=32, bias=True)\n",
      "      (1): ReLU()\n",
      "      (2): Linear(in_features=32, out_features=16, bias=True)\n",
      "      (3): ReLU()\n",
      "      (4): Linear(in_features=16, out_features=10, bias=True)\n",
      "    ) \n",
      "    0.weight    torch.Size([32, 64])\n",
      "        tensor([[-0.0386,  0.0412,  0.1178,  ...,  0.0311, -0.0606, -0.0484],\n",
      "            [-0.0517, -0.0919, -0. ...\n",
      "    0.bias    torch.Size([32])\n",
      "        tensor([ 1.0912e-01, -1.9579e-03,  2.5450e-02, -8.0355e-02,  9.9445e-03,\n",
      "            -4.7600e-03,  2.334 ...\n",
      "    2.weight    torch.Size([16, 32])\n",
      "        tensor([[-0.0206, -0.0037, -0.1097,  0.0198,  0.1406, -0.0826, -0.1028,  0.1308,\n",
      "              0.0876, - ...\n",
      "    2.bias    torch.Size([16])\n",
      "        tensor([ 0.1531,  0.0892, -0.1316,  0.1750, -0.0848, -0.0073,  0.1031,  0.0524,\n",
      "            -0.1412,  0. ...\n",
      "    4.weight    torch.Size([10, 16])\n",
      "        tensor([[ 9.7835e-02, -5.0886e-02,  2.3669e-01, -2.1941e-01, -1.2871e-01,\n",
      "              2.4931e-02, -1.0 ...\n",
      "    4.bias    torch.Size([10])\n",
      "        tensor([-0.1643,  0.2073, -0.0160, -0.1632,  0.1115,  0.1696, -0.0179,  0.0291,\n",
      "             0.0872,  0. ...\n",
      "\n",
      "len(X) : 1797\n",
      "X[0].shape : (64,)\n",
      "len(Y) : 1797\n",
      "Y[0].shape : ()\n",
      "-------------------------------------------------------------------------------- \n",
      "epoch :    0/100 \n",
      "cost : 2.482126 \n",
      "accuracy : 0.09 \n",
      "\n",
      "-------------------------------------------------------------------------------- \n",
      "epoch :   10/100 \n",
      "cost : 2.165771 \n",
      "accuracy : 0.18 \n",
      "\n",
      "-------------------------------------------------------------------------------- \n",
      "epoch :   20/100 \n",
      "cost : 1.989110 \n",
      "accuracy : 0.26 \n",
      "\n",
      "-------------------------------------------------------------------------------- \n",
      "epoch :   30/100 \n",
      "cost : 1.757040 \n",
      "accuracy : 0.44 \n",
      "\n",
      "-------------------------------------------------------------------------------- \n",
      "epoch :   40/100 \n",
      "cost : 1.464250 \n",
      "accuracy : 0.62 \n",
      "\n",
      "-------------------------------------------------------------------------------- \n",
      "epoch :   50/100 \n",
      "cost : 1.140196 \n",
      "accuracy : 0.75 \n",
      "\n",
      "-------------------------------------------------------------------------------- \n",
      "epoch :   60/100 \n",
      "cost : 0.826243 \n",
      "accuracy : 0.84 \n",
      "\n",
      "-------------------------------------------------------------------------------- \n",
      "epoch :   70/100 \n",
      "cost : 0.587780 \n",
      "accuracy : 0.89 \n",
      "\n",
      "-------------------------------------------------------------------------------- \n",
      "epoch :   80/100 \n",
      "cost : 0.433696 \n",
      "accuracy : 0.90 \n",
      "\n",
      "-------------------------------------------------------------------------------- \n",
      "epoch :   90/100 \n",
      "cost : 0.338657 \n",
      "accuracy : 0.92 \n",
      "\n",
      "-------------------------------------------------------------------------------- \n",
      "epoch :  100/100 \n",
      "cost : 0.276691 \n",
      "accuracy : 0.93 \n",
      "\n"
     ]
    },
    {
     "data": {
      "image/png": "[encoded data removed]",
      "text/plain": [
       "<Figure size 432x288 with 1 Axes>"
      ]
     },
     "metadata": {
      "needs_background": "light"
     },
     "output_type": "display_data"
    },
    {
     "data": {
      "image/png": "[encoded data removed]",
      "text/plain": [
       "<Figure size 432x288 with 1 Axes>"
      ]
     },
     "metadata": {
      "needs_background": "light"
     },
     "output_type": "display_data"
    },
    {
     "name": "stdout",
     "output_type": "stream",
     "text": [
      "\n",
      "model : \n",
      "    Sequential(\n",
      "      (0): Linear(in_features=64, out_features=32, bias=True)\n",
      "      (1): ReLU()\n",
      "      (2): Linear(in_features=32, out_features=16, bias=True)\n",
      "      (3): ReLU()\n",
      "      (4): Linear(in_features=16, out_features=10, bias=True)\n",
      "    ) \n",
      "    0.weight    torch.Size([32, 64])\n",
      "        tensor([[-0.0386,  0.0424,  0.1427,  ...,  0.0882,  0.0122,  0.0200],\n",
      "            [-0.0517, -0.0193, -0. ...\n",
      "    0.bias    torch.Size([32])\n",
      "        tensor([ 0.1298,  0.0692,  0.1055, -0.0619,  0.0941,  0.0377,  0.0923,  0.0118,\n",
      "             0.0163, -0. ...\n",
      "    2.weight    torch.Size([16, 32])\n",
      "        tensor([[-4.3551e-02,  5.9417e-03, -1.4865e-01,  6.3159e-02,  2.0611e-01,\n",
      "             -1.2044e-01, -3.2 ...\n",
      "    2.bias    torch.Size([16])\n",
      "        tensor([ 0.2025,  0.1294, -0.1565,  0.2367, -0.0669,  0.0431,  0.1031,  0.0788,\n",
      "            -0.1556,  0. ...\n",
      "    4.weight    torch.Size([10, 16])\n",
      "        tensor([[ 0.1643, -0.0931,  0.2027, -0.3382, -0.1392,  0.0694, -0.1093,  0.0324,\n",
      "              0.1482,   ...\n",
      "    4.bias    torch.Size([10])\n",
      "        tensor([-0.1540,  0.1532,  0.0062, -0.2121,  0.0589,  0.2486,  0.0569,  0.0200,\n",
      "             0.1615,  0. ...\n",
      "\n"
     ]
    }
   ],
   "source": [
    "\n",
    "\n",
    "model = nn.Sequential(\n",
    "    nn.Linear(64, 32),  # input_layer = 64, hidden_layer1 = 32\n",
    "    nn.ReLU(),\n",
    "    nn.Linear(32, 16),  # hidden_layer2 = 32, hidden_layer3 = 16\n",
    "    nn.ReLU(),\n",
    "    nn.Linear(16, 10)  # hidden_layer3 = 16, output_layer = 10\n",
    ")\n",
    "\n",
    "mu.log(\"model\", model)\n",
    "\n",
    "X = digits.data  # 이미지. 즉, 특성 행렬\n",
    "Y = digits.target  # 각 이미지에 대한 레이블\n",
    "\n",
    "mu.log(\"len(X)\", len(X))\n",
    "mu.log(\"X[0].shape\", X[0].shape)\n",
    "mu.log(\"len(Y)\", len(Y))\n",
    "mu.log(\"Y[0].shape\", Y[0].shape)\n",
    "\n",
    "X = torch.tensor(X, dtype=torch.float32)\n",
    "Y = torch.tensor(Y, dtype=torch.int64)\n",
    "\n",
    "loss_fn = nn.CrossEntropyLoss()\n",
    "optimizer = optim.Adam(model.parameters())\n",
    "nb_epochs = 100\n",
    "mu.plt_init()\n",
    "\n",
    "for epoch in range(nb_epochs + 1):\n",
    "    y_pred = model(X)\n",
    "    loss = loss_fn(y_pred, Y)\n",
    "    optimizer.zero_grad()\n",
    "    loss.backward()\n",
    "    optimizer.step()\n",
    "\n",
    "    if epoch % 10 == 0:\n",
    "        accuracy = mu.get_cross_entropy_accuracy(y_pred, Y)\n",
    "        mu.log_epoch(epoch, nb_epochs, loss, accuracy)\n",
    "\n",
    "mu.plt_show()\n",
    "\n",
    "mu.log(\"model\", model)\n",
    "\n"
   ]
  },
  {
   "cell_type": "markdown",
   "metadata": {},
   "source": [
    "--- \n",
    " accuracy 측정 \n"
   ]
  },
  {
   "cell_type": "code",
   "execution_count": 4,
   "metadata": {},
   "outputs": [
    {
     "name": "stdout",
     "output_type": "stream",
     "text": [
      "accuracy : 0.9321090706733445\n"
     ]
    }
   ],
   "source": [
    "\n",
    "\n",
    "with torch.no_grad():\n",
    "    prediction = model(X)\n",
    "    accuracy = mu.get_cross_entropy_accuracy(prediction, Y)\n",
    "    mu.log(\"accuracy\", accuracy)\n",
    "\n"
   ]
  },
  {
   "cell_type": "markdown",
   "metadata": {},
   "source": [
    "--- \n",
    " 랜덤 5 항목 테스트 \n"
   ]
  },
  {
   "cell_type": "code",
   "execution_count": 5,
   "metadata": {},
   "outputs": [
    {
     "name": "stdout",
     "output_type": "stream",
     "text": [
      "--------------------------------------------------------------------------------\n",
      "r : 1202\n",
      "X_single_data.shape : torch.Size([1, 64])\n",
      "\n",
      "Y_single_data : \n",
      "    torch.Size([1]) tensor([3])\n",
      "\n",
      "single_prediction : \n",
      "    torch.Size([1, 10]) tensor([[-6.3239, -1.9480, -4.1830, -2.0641, -5.5043, -1.9496, -9.7209,  0.1770,\n",
      "             -4.0214, - ...\n",
      "\n",
      "single_prediction_res : 7\n"
     ]
    },
    {
     "data": {
      "image/png": "[encoded data removed]",
      "text/plain": [
       "<Figure size 432x288 with 1 Axes>"
      ]
     },
     "metadata": {
      "needs_background": "light"
     },
     "output_type": "display_data"
    },
    {
     "name": "stdout",
     "output_type": "stream",
     "text": [
      "--------------------------------------------------------------------------------\n",
      "r : 681\n",
      "X_single_data.shape : torch.Size([1, 64])\n",
      "\n",
      "Y_single_data : \n",
      "    torch.Size([1]) tensor([5])\n",
      "\n",
      "single_prediction : \n",
      "    torch.Size([1, 10]) tensor([[-2.6195, -4.5324, -7.3956, -2.4989, -1.1333,  1.4262, -6.8636, -0.8967,\n",
      "             -5.0274, - ...\n",
      "\n",
      "single_prediction_res : 5\n"
     ]
    },
    {
     "data": {
      "image/png": "[encoded data removed]",
      "text/plain": [
       "<Figure size 432x288 with 1 Axes>"
      ]
     },
     "metadata": {
      "needs_background": "light"
     },
     "output_type": "display_data"
    },
    {
     "name": "stdout",
     "output_type": "stream",
     "text": [
      "--------------------------------------------------------------------------------\n",
      "r : 726\n",
      "X_single_data.shape : torch.Size([1, 64])\n",
      "\n",
      "Y_single_data : \n",
      "    torch.Size([1]) tensor([1])\n",
      "\n",
      "single_prediction : \n",
      "    torch.Size([1, 10]) tensor([[-9.7471,  1.1683, -3.1973, -3.4741, -6.5825, -6.2609, -8.7387, -2.8321,\n",
      "             -2.7860, - ...\n",
      "\n",
      "single_prediction_res : 1\n"
     ]
    },
    {
     "data": {
      "image/png": "[encoded data removed]",
      "text/plain": [
       "<Figure size 432x288 with 1 Axes>"
      ]
     },
     "metadata": {
      "needs_background": "light"
     },
     "output_type": "display_data"
    },
    {
     "name": "stdout",
     "output_type": "stream",
     "text": [
      "--------------------------------------------------------------------------------\n",
      "r : 514\n",
      "X_single_data.shape : torch.Size([1, 64])\n",
      "\n",
      "Y_single_data : \n",
      "    torch.Size([1]) tensor([9])\n",
      "\n",
      "single_prediction : \n",
      "    torch.Size([1, 10]) tensor([[-3.2779e-03, -6.4367e+00, -5.2869e+00, -1.5466e+00, -6.5648e+00,\n",
      "             -3.0055e+00, -5.6 ...\n",
      "\n",
      "single_prediction_res : 9\n"
     ]
    },
    {
     "data": {
      "image/png": "[encoded data removed]",
      "text/plain": [
       "<Figure size 432x288 with 1 Axes>"
      ]
     },
     "metadata": {
      "needs_background": "light"
     },
     "output_type": "display_data"
    },
    {
     "name": "stdout",
     "output_type": "stream",
     "text": [
      "--------------------------------------------------------------------------------\n",
      "r : 1037\n",
      "X_single_data.shape : torch.Size([1, 64])\n",
      "\n",
      "Y_single_data : \n",
      "    torch.Size([1]) tensor([8])\n",
      "\n",
      "single_prediction : \n",
      "    torch.Size([1, 10]) tensor([[-4.1280, -3.5194, -2.5509, -3.2429, -4.0147, -5.5899, -6.5013, -2.0696,\n",
      "             -0.3554, - ...\n",
      "\n",
      "single_prediction_res : 8\n"
     ]
    },
    {
     "data": {
      "image/png": "[encoded data removed]",
      "text/plain": [
       "<Figure size 432x288 with 1 Axes>"
      ]
     },
     "metadata": {
      "needs_background": "light"
     },
     "output_type": "display_data"
    }
   ],
   "source": [
    "\n",
    "\n",
    "for _ in range(5):\n",
    "    print(\"-\" * 80)\n",
    "    r = random.randint(0, len(X) - 1)\n",
    "    mu.log(\"r\", r)\n",
    "    X_single_data = X[r:r + 1]\n",
    "    mu.log(\"X_single_data.shape\", X_single_data.shape)\n",
    "    Y_single_data = Y[r:r + 1]\n",
    "    mu.log(\"Y_single_data\", Y_single_data)\n",
    "    single_prediction = model(X_single_data)\n",
    "    mu.log(\"single_prediction\", single_prediction)\n",
    "    single_prediction_res = torch.argmax(single_prediction, 1).item()\n",
    "    mu.log(\"single_prediction_res\", single_prediction_res)\n",
    "    mu.plt_img_show(X_single_data.view(8, 8))\n"
   ]
  }
 ],
 "metadata": {
  "kernelspec": {
   "display_name": "Python 3",
   "language": "python",
   "name": "python3"
  },
  "language_info": {
   "codemirror_mode": {
    "name": "ipython",
    "version": 3
   },
   "file_extension": ".py",
   "mimetype": "text/x-python",
   "name": "python",
   "nbconvert_exporter": "python",
   "pygments_lexer": "ipython3",
   "version": "3.8.2"
  }
 },
 "nbformat": 4,
 "nbformat_minor": 4
}

{
 "cells": [
  {
   "cell_type": "code",
   "execution_count": 1,
   "metadata": {},
   "outputs": [],
   "source": [
    "import myutil as mu\n",
    "import torch\n",
    "import torch.nn as nn\n",
    "import torch.nn.functional as F\n",
    "import torch.optim as optim\n",
    "from torch.utils.data import TensorDataset  # 텐서데이터셋\n",
    "from torch.utils.data import DataLoader  # 데이터로더\n",
    "from torch.utils.data import Dataset\n",
    "import matplotlib.pyplot as plt  # 맷플롯립사용\n",
    "import torchvision.datasets as dsets\n",
    "import torchvision.transforms as transforms\n",
    "from torch.utils.data import DataLoader\n",
    "import random\n",
    "from sklearn.datasets import load_digits\n",
    "\n"
   ]
  },
  {
   "cell_type": "markdown",
   "metadata": {},
   "source": [
    "--- \n",
    " - 다층 퍼셉트론으로 손글씨 분류하기 \n",
    "   - 이번 챕터에서는 다층 퍼셉트론을 구현하고, 딥 러닝을 통해서 숫자 필기 데이터를 분류해봅시다. \n",
    "   - MNIST 데이터랑 다른 데이터입니다. \n"
   ]
  },
  {
   "cell_type": "code",
   "execution_count": 0,
   "metadata": {},
   "outputs": [],
   "source": [
    "\n"
   ]
  },
  {
   "cell_type": "markdown",
   "metadata": {},
   "source": [
    "--- \n",
    " - 숫자 필기 데이터 소개 \n",
    "   - 숫자 필기 데이터는 사이킷런 패키지에서 제공하는 분류용 예제 데이터입니다. \n",
    "   - 0부터 9까지의 숫자를 손으로 쓴 이미지 데이터로 load_digits() 명령으로 로드할 수 있습니다. \n",
    "   - 각 이미지는 0부터 15까지의 명암을 가지는 8 × 8 = 64 픽셀 해상도의 흑백 이미지입니다. \n",
    "   - 그리고 해당 이미지가 1,797개가 있습니다. \n",
    "   - load_digits()를 통해 이미지 데이터를 로드할 수 있습니다. \n",
    "   - 로드한 전체 데이터를 digits에 저장합니다. \n"
   ]
  },
  {
   "cell_type": "code",
   "execution_count": 2,
   "metadata": {},
   "outputs": [
    {
     "name": "stdout",
     "output_type": "stream",
     "text": [
      "len(digits.images) : 1797\n"
     ]
    },
    {
     "data": {
      "image/png": "[encoded data removed]",
      "text/plain": [
       "<Figure size 432x288 with 20 Axes>"
      ]
     },
     "metadata": {
      "needs_background": "light"
     },
     "output_type": "display_data"
    }
   ],
   "source": [
    "\n",
    "\n",
    "digits = load_digits()\n",
    "mu.log(\"len(digits.images)\", len(digits.images))\n",
    "\n",
    "images_labels = list(zip(digits.images, digits.target))\n",
    "sub_sample_size = 20\n",
    "\n",
    "for i, (image, label) in enumerate(images_labels[:sub_sample_size]):\n",
    "    plt.subplot(4, 5, i + 1)\n",
    "    plt.axis(\"off\")\n",
    "    plt.imshow(image, cmap=plt.cm.gray_r, interpolation=\"nearest\")\n",
    "    plt.title(\"label : {}\".format(label))\n",
    "\n",
    "plt.show()\n",
    "\n"
   ]
  },
  {
   "cell_type": "markdown",
   "metadata": {},
   "source": [
    "--- \n",
    " - 다층 퍼셉트론 분류기 만들기 \n"
   ]
  },
  {
   "cell_type": "code",
   "execution_count": 3,
   "metadata": {},
   "outputs": [
    {
     "name": "stdout",
     "output_type": "stream",
     "text": [
      "\n",
      "model : \n",
      "    Sequential(\n",
      "      (0): Linear(in_features=64, out_features=32, bias=True)\n",
      "      (1): ReLU()\n",
      "      (2): Linear(in_features=32, out_features=16, bias=True)\n",
      "      (3): ReLU()\n",
      "      (4): Linear(in_features=16, out_features=10, bias=True)\n",
      "    ) \n",
      "    0.weight    torch.Size([32, 64])\n",
      "        tensor([[ 0.0997,  0.0345, -0.0828,  ...,  0.0932,  0.0155,  0.0289],\n",
      "            [ 0.0426, -0.0340, -0. ...\n",
      "    0.bias    torch.Size([32])\n",
      "        tensor([ 0.0376,  0.0552, -0.1105, -0.0355,  0.1192, -0.1036, -0.0462, -0.0874,\n",
      "             0.0815, -0. ...\n",
      "    2.weight    torch.Size([16, 32])\n",
      "        tensor([[-0.0491,  0.0302, -0.0743,  0.1723,  0.1296, -0.1708, -0.1053,  0.1500,\n",
      "              0.0231,   ...\n",
      "    2.bias    torch.Size([16])\n",
      "        tensor([-0.0699,  0.1617, -0.0393,  0.0870, -0.1480,  0.1086,  0.1668, -0.0011,\n",
      "             0.0289, -0. ...\n",
      "    4.weight    torch.Size([10, 16])\n",
      "        tensor([[-0.2335, -0.0894, -0.0375, -0.1697, -0.1320, -0.0400,  0.1439, -0.0951,\n",
      "              0.0718, - ...\n",
      "    4.bias    torch.Size([10])\n",
      "        tensor([-0.0153,  0.1347, -0.2234, -0.2014, -0.0990,  0.0554,  0.1932,  0.0813,\n",
      "             0.0468, -0. ...\n",
      "\n",
      "len(X) : 1797\n",
      "X[0].shape : (64,)\n",
      "len(Y) : 1797\n",
      "Y[0].shape : ()\n",
      "-------------------------------------------------------------------------------- \n",
      "epoch :    0/100 \n",
      "cost : 2.864259 \n",
      "accuracy : 0.10 \n",
      "\n",
      "-------------------------------------------------------------------------------- \n",
      "epoch :   10/100 \n",
      "cost : 2.217955 \n",
      "accuracy : 0.17 \n",
      "\n",
      "-------------------------------------------------------------------------------- \n",
      "epoch :   20/100 \n",
      "cost : 2.066393 \n",
      "accuracy : 0.27 \n",
      "\n",
      "-------------------------------------------------------------------------------- \n",
      "epoch :   30/100 \n",
      "cost : 1.880605 \n",
      "accuracy : 0.35 \n",
      "\n",
      "-------------------------------------------------------------------------------- \n",
      "epoch :   40/100 \n",
      "cost : 1.680520 \n",
      "accuracy : 0.45 \n",
      "\n",
      "-------------------------------------------------------------------------------- \n",
      "epoch :   50/100 \n",
      "cost : 1.462988 \n",
      "accuracy : 0.57 \n",
      "\n",
      "-------------------------------------------------------------------------------- \n",
      "epoch :   60/100 \n",
      "cost : 1.232640 \n",
      "accuracy : 0.66 \n",
      "\n",
      "-------------------------------------------------------------------------------- \n",
      "epoch :   70/100 \n",
      "cost : 0.997866 \n",
      "accuracy : 0.71 \n",
      "\n",
      "-------------------------------------------------------------------------------- \n",
      "epoch :   80/100 \n",
      "cost : 0.776218 \n",
      "accuracy : 0.80 \n",
      "\n",
      "-------------------------------------------------------------------------------- \n",
      "epoch :   90/100 \n",
      "cost : 0.597938 \n",
      "accuracy : 0.87 \n",
      "\n",
      "-------------------------------------------------------------------------------- \n",
      "epoch :  100/100 \n",
      "cost : 0.467841 \n",
      "accuracy : 0.88 \n",
      "\n"
     ]
    },
    {
     "data": {
      "image/png": "[encoded data removed]",
      "text/plain": [
       "<Figure size 432x288 with 1 Axes>"
      ]
     },
     "metadata": {
      "needs_background": "light"
     },
     "output_type": "display_data"
    },
    {
     "data": {
      "image/png": "[encoded data removed]",
      "text/plain": [
       "<Figure size 432x288 with 1 Axes>"
      ]
     },
     "metadata": {
      "needs_background": "light"
     },
     "output_type": "display_data"
    },
    {
     "name": "stdout",
     "output_type": "stream",
     "text": [
      "\n",
      "model : \n",
      "    Sequential(\n",
      "      (0): Linear(in_features=64, out_features=32, bias=True)\n",
      "      (1): ReLU()\n",
      "      (2): Linear(in_features=32, out_features=16, bias=True)\n",
      "      (3): ReLU()\n",
      "      (4): Linear(in_features=16, out_features=10, bias=True)\n",
      "    ) \n",
      "    0.weight    torch.Size([32, 64])\n",
      "        tensor([[ 0.0997,  0.1295,  0.0040,  ...,  0.1901,  0.0295, -0.0690],\n",
      "            [ 0.0426, -0.1060,  0. ...\n",
      "    0.bias    torch.Size([32])\n",
      "        tensor([ 0.0975,  0.1103, -0.0637, -0.0516,  0.1063, -0.0336, -0.0405, -0.0708,\n",
      "             0.1299, -0. ...\n",
      "    2.weight    torch.Size([16, 32])\n",
      "        tensor([[-0.0597,  0.0599, -0.0134,  0.1578,  0.1164, -0.1427, -0.1426,  0.1501,\n",
      "             -0.0191,   ...\n",
      "    2.bias    torch.Size([16])\n",
      "        tensor([-0.0803,  0.1721,  0.0289,  0.0806, -0.1534,  0.0998,  0.1502, -0.0350,\n",
      "            -0.0094, -0. ...\n",
      "    4.weight    torch.Size([10, 16])\n",
      "        tensor([[-0.2424, -0.0088, -0.0053, -0.1640, -0.1544, -0.1191,  0.1416, -0.1292,\n",
      "              0.1836, - ...\n",
      "    4.bias    torch.Size([10])\n",
      "        tensor([ 0.0250,  0.0538, -0.1307, -0.1094, -0.0988, -0.0211,  0.1792,  0.1688,\n",
      "            -0.0109, -0. ...\n",
      "\n"
     ]
    }
   ],
   "source": [
    "\n",
    "\n",
    "model = nn.Sequential(\n",
    "    nn.Linear(64, 32),  # input_layer = 64, hidden_layer1 = 32\n",
    "    nn.ReLU(),\n",
    "    nn.Linear(32, 16),  # hidden_layer2 = 32, hidden_layer3 = 16\n",
    "    nn.ReLU(),\n",
    "    nn.Linear(16, 10)  # hidden_layer3 = 16, output_layer = 10\n",
    ")\n",
    "\n",
    "mu.log(\"model\", model)\n",
    "\n",
    "X = digits.data  # 이미지. 즉, 특성 행렬\n",
    "Y = digits.target  # 각 이미지에 대한 레이블\n",
    "\n",
    "mu.log(\"len(X)\", len(X))\n",
    "mu.log(\"X[0].shape\", X[0].shape)\n",
    "mu.log(\"len(Y)\", len(Y))\n",
    "mu.log(\"Y[0].shape\", Y[0].shape)\n",
    "\n",
    "X = torch.tensor(X, dtype=torch.float32)\n",
    "Y = torch.tensor(Y, dtype=torch.int64)\n",
    "\n",
    "loss_fn = nn.CrossEntropyLoss()\n",
    "optimizer = optim.Adam(model.parameters())\n",
    "nb_epochs = 100\n",
    "mu.plt_init()\n",
    "\n",
    "for epoch in range(nb_epochs + 1):\n",
    "    y_pred = model(X)\n",
    "    loss = loss_fn(y_pred, Y)\n",
    "    optimizer.zero_grad()\n",
    "    loss.backward()\n",
    "    optimizer.step()\n",
    "\n",
    "    if epoch % 10 == 0:\n",
    "        accuracy = mu.get_cross_entropy_accuracy(y_pred, Y)\n",
    "        mu.log_epoch(epoch, nb_epochs, loss, accuracy)\n",
    "\n",
    "mu.plt_show()\n",
    "\n",
    "mu.log(\"model\", model)\n",
    "\n"
   ]
  },
  {
   "cell_type": "markdown",
   "metadata": {},
   "source": [
    "--- \n",
    " accuracy 측정 \n"
   ]
  },
  {
   "cell_type": "code",
   "execution_count": 4,
   "metadata": {},
   "outputs": [
    {
     "name": "stdout",
     "output_type": "stream",
     "text": [
      "accuracy : 0.8881469115191987\n"
     ]
    }
   ],
   "source": [
    "\n",
    "\n",
    "with torch.no_grad():\n",
    "    prediction = model(X)\n",
    "    accuracy = mu.get_cross_entropy_accuracy(prediction, Y)\n",
    "    mu.log(\"accuracy\", accuracy)\n",
    "\n"
   ]
  },
  {
   "cell_type": "markdown",
   "metadata": {},
   "source": [
    "--- \n",
    " 랜덤 5 항목 테스트 \n"
   ]
  },
  {
   "cell_type": "code",
   "execution_count": 5,
   "metadata": {},
   "outputs": [
    {
     "name": "stdout",
     "output_type": "stream",
     "text": [
      "--------------------------------------------------------------------------------\n",
      "r : 525\n",
      "X_single_data.shape : torch.Size([1, 64])\n",
      "\n",
      "Y_single_data : \n",
      "    torch.Size([1]) tensor([9])\n",
      "\n",
      "single_prediction : \n",
      "    torch.Size([1, 10]) tensor([[ 1.1146, -3.5766, -2.0661, -1.3225, -6.1369, -2.4297, -6.9093, -2.7010,\n",
      "             -1.5607,   ...\n",
      "\n",
      "single_prediction_res : 0\n"
     ]
    },
    {
     "data": {
      "image/png": "[encoded data removed]",
      "text/plain": [
       "<Figure size 432x288 with 1 Axes>"
      ]
     },
     "metadata": {
      "needs_background": "light"
     },
     "output_type": "display_data"
    },
    {
     "name": "stdout",
     "output_type": "stream",
     "text": [
      "--------------------------------------------------------------------------------\n",
      "r : 479\n",
      "X_single_data.shape : torch.Size([1, 64])\n",
      "\n",
      "Y_single_data : \n",
      "    torch.Size([1]) tensor([1])\n",
      "\n",
      "single_prediction : \n",
      "    torch.Size([1, 10]) tensor([[-5.1507,  4.0638,  1.4524,  0.8814, -0.3493, -2.1505, -4.8154, -2.7690,\n",
      "              1.1666, - ...\n",
      "\n",
      "single_prediction_res : 1\n"
     ]
    },
    {
     "data": {
      "image/png": "[encoded data removed]",
      "text/plain": [
       "<Figure size 432x288 with 1 Axes>"
      ]
     },
     "metadata": {
      "needs_background": "light"
     },
     "output_type": "display_data"
    },
    {
     "name": "stdout",
     "output_type": "stream",
     "text": [
      "--------------------------------------------------------------------------------\n",
      "r : 680\n",
      "X_single_data.shape : torch.Size([1, 64])\n",
      "\n",
      "Y_single_data : \n",
      "    torch.Size([1]) tensor([6])\n",
      "\n",
      "single_prediction : \n",
      "    torch.Size([1, 10]) tensor([[-6.0806, -3.5214, -2.5325, -8.8002,  0.8262, -1.6200,  4.7416, -4.4065,\n",
      "             -1.2311, - ...\n",
      "\n",
      "single_prediction_res : 6\n"
     ]
    },
    {
     "data": {
      "image/png": "[encoded data removed]",
      "text/plain": [
       "<Figure size 432x288 with 1 Axes>"
      ]
     },
     "metadata": {
      "needs_background": "light"
     },
     "output_type": "display_data"
    },
    {
     "name": "stdout",
     "output_type": "stream",
     "text": [
      "--------------------------------------------------------------------------------\n",
      "r : 1605\n",
      "X_single_data.shape : torch.Size([1, 64])\n",
      "\n",
      "Y_single_data : \n",
      "    torch.Size([1]) tensor([3])\n",
      "\n",
      "single_prediction : \n",
      "    torch.Size([1, 10]) tensor([[-0.9508,  0.2779, -0.3369,  1.0143, -1.2535, -1.4012, -4.6985,  0.2857,\n",
      "              1.4545, - ...\n",
      "\n",
      "single_prediction_res : 8\n"
     ]
    },
    {
     "data": {
      "image/png": "[encoded data removed]",
      "text/plain": [
       "<Figure size 432x288 with 1 Axes>"
      ]
     },
     "metadata": {
      "needs_background": "light"
     },
     "output_type": "display_data"
    },
    {
     "name": "stdout",
     "output_type": "stream",
     "text": [
      "--------------------------------------------------------------------------------\n",
      "r : 1069\n",
      "X_single_data.shape : torch.Size([1, 64])\n",
      "\n",
      "Y_single_data : \n",
      "    torch.Size([1]) tensor([8])\n",
      "\n",
      "single_prediction : \n",
      "    torch.Size([1, 10]) tensor([[-2.1057, -1.5926, -0.0422,  0.3949, -3.4106, -2.9038, -5.7972, -2.0682,\n",
      "              1.9042, - ...\n",
      "\n",
      "single_prediction_res : 8\n"
     ]
    },
    {
     "data": {
      "image/png": "[encoded data removed]",
      "text/plain": [
       "<Figure size 432x288 with 1 Axes>"
      ]
     },
     "metadata": {
      "needs_background": "light"
     },
     "output_type": "display_data"
    }
   ],
   "source": [
    "\n",
    "\n",
    "for _ in range(5):\n",
    "    print(\"-\" * 80)\n",
    "    r = random.randint(0, len(X) - 1)\n",
    "    mu.log(\"r\", r)\n",
    "    X_single_data = X[r:r + 1]\n",
    "    mu.log(\"X_single_data.shape\", X_single_data.shape)\n",
    "    Y_single_data = Y[r:r + 1]\n",
    "    mu.log(\"Y_single_data\", Y_single_data)\n",
    "    single_prediction = model(X_single_data)\n",
    "    mu.log(\"single_prediction\", single_prediction)\n",
    "    single_prediction_res = torch.argmax(single_prediction, 1).item()\n",
    "    mu.log(\"single_prediction_res\", single_prediction_res)\n",
    "    mu.plt_img_show(X_single_data.view(8, 8))\n"
   ]
  }
 ],
 "metadata": {
  "kernelspec": {
   "display_name": "Python 3",
   "language": "python",
   "name": "python3"
  },
  "language_info": {
   "codemirror_mode": {
    "name": "ipython",
    "version": 3
   },
   "file_extension": ".py",
   "mimetype": "text/x-python",
   "name": "python",
   "nbconvert_exporter": "python",
   "pygments_lexer": "ipython3",
   "version": "3.8.2"
  }
 },
 "nbformat": 4,
 "nbformat_minor": 4
}

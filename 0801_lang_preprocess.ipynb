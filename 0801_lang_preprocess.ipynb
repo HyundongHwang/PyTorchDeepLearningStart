{
 "cells": [
  {
   "cell_type": "code",
   "execution_count": 1,
   "metadata": {},
   "outputs": [],
   "source": [
    "import myutil as mu\n",
    "\n"
   ]
  },
  {
   "cell_type": "markdown",
   "metadata": {},
   "source": [
    "--- \n",
    " - 자연어 처리 전처리 이해하기 \n",
    "   - 자연어 처리는 일반적으로 토큰화, 단어 집합 생성, 정수 인코딩, 패딩, 벡터화의 과정을 거칩니다. \n",
    "   - 이번 챕터에서는 이러한 전반적인 과정에 대해서 이해합니다. \n"
   ]
  },
  {
   "cell_type": "code",
   "execution_count": 0,
   "metadata": {},
   "outputs": [],
   "source": [
    "\n",
    "\n"
   ]
  },
  {
   "cell_type": "markdown",
   "metadata": {},
   "source": [
    "--- \n",
    " - spaCy 사용하기 \n",
    " \n",
    " ``` \n",
    " pip install spacy \n",
    " python3 -m spacy download en \n",
    " ``` \n"
   ]
  },
  {
   "cell_type": "code",
   "execution_count": 2,
   "metadata": {},
   "outputs": [
    {
     "name": "stdout",
     "output_type": "stream",
     "text": [
      "spacy_en : <spacy.lang.en.English object at 0x7f100ed8da30>\n",
      "tokenize(en_text) : ['A', 'Dog', 'Run', 'back', 'corner', 'near', 'spare', 'bedrooms']\n"
     ]
    }
   ],
   "source": [
    "\n",
    "import spacy\n",
    "\n",
    "en_text = \"A Dog Run back corner near spare bedrooms\"\n",
    "spacy_en = spacy.load(\"en\")\n",
    "mu.log(\"spacy_en\", spacy_en)\n",
    "\n",
    "\n",
    "def tokenize(en_text):\n",
    "    return [\n",
    "        tok.text\n",
    "        for tok in spacy_en.tokenizer(en_text)\n",
    "    ]\n",
    "\n",
    "\n",
    "mu.log(\"tokenize(en_text)\", tokenize(en_text))\n",
    "\n"
   ]
  },
  {
   "cell_type": "markdown",
   "metadata": {},
   "source": [
    "--- \n",
    " - NLTK 사용하기 \n",
    " \n",
    " ``` \n",
    " pip install nltk \n",
    " ``` \n",
    " \n"
   ]
  },
  {
   "cell_type": "code",
   "execution_count": 3,
   "metadata": {},
   "outputs": [
    {
     "name": "stdout",
     "output_type": "stream",
     "text": [
      "word_tokenize(en_text) : ['A', 'Dog', 'Run', 'back', 'corner', 'near', 'spare', 'bedrooms']\n"
     ]
    },
    {
     "name": "stderr",
     "output_type": "stream",
     "text": [
      "[nltk_data] Downloading package punkt to /home/hhd/nltk_data...\n",
      "[nltk_data]   Package punkt is already up-to-date!\n"
     ]
    }
   ],
   "source": [
    "\n",
    "import nltk\n",
    "from nltk.tokenize import word_tokenize\n",
    "\n",
    "nltk.download(\"punkt\")\n",
    "mu.log(\"word_tokenize(en_text)\", word_tokenize(en_text))\n",
    "\n"
   ]
  },
  {
   "cell_type": "markdown",
   "metadata": {},
   "source": [
    "--- \n",
    " - 띄어쓰기로 토큰화 \n"
   ]
  },
  {
   "cell_type": "code",
   "execution_count": 4,
   "metadata": {},
   "outputs": [
    {
     "name": "stdout",
     "output_type": "stream",
     "text": [
      "en_text.split() : ['A', 'Dog', 'Run', 'back', 'corner', 'near', 'spare', 'bedrooms']\n"
     ]
    }
   ],
   "source": [
    "\n",
    "mu.log(\"en_text.split()\", en_text.split())\n",
    "\n"
   ]
  },
  {
   "cell_type": "markdown",
   "metadata": {},
   "source": [
    "--- \n",
    " - 띄어쓰기로 토큰화 \n",
    "   - 위의 예제에서는 '사과'란 단어가 총 4번 등장했는데 \n",
    "   - 모두 '의', '를', '가', '랑' 등이 붙어있어 \n",
    "   - 이를 제거해주지 않으면 기계는 전부 다른 단어로 인식하게 됩니다. \n"
   ]
  },
  {
   "cell_type": "code",
   "execution_count": 5,
   "metadata": {},
   "outputs": [
    {
     "name": "stdout",
     "output_type": "stream",
     "text": [
      "kor_text.split() : ['사과의', '놀라운', '효능이라는', '글을', '봤어.', '그래서', '오늘', '사과를', '먹으려고', '했는데', '사과가', '썩어서', '슈퍼에', '가서', '사과랑', '오렌지', '사왔어']\n"
     ]
    }
   ],
   "source": [
    "\n",
    "kor_text = \"사과의 놀라운 효능이라는 글을 봤어. 그래서 오늘 사과를 먹으려고 했는데 사과가 썩어서 슈퍼에 가서 사과랑 오렌지 사왔어\"\n",
    "mu.log(\"kor_text.split()\", kor_text.split())\n",
    "\n"
   ]
  },
  {
   "cell_type": "markdown",
   "metadata": {},
   "source": [
    "--- \n",
    " - 형태소 토큰화 \n",
    "   - 위와 같은 상황을 방지하기 위해서 한국어는 보편적으로 '형태소 분석기'로 토큰화를 합니다. \n",
    "   - 여기서는 형태소 분석기 중에서 mecab을 사용해보겠습니다. \n",
    "   - 아래의 커맨드로 colab에서 mecab을 설치합니다. \n",
    "   - 앞선 예와 다르게 '의', '를', '가', '랑' 등이 전부 분리되어 기계는 '사과'라는 단어를 하나의 단어로 처리할 수 있습니다. \n",
    " \n",
    " ``` \n",
    " git clone https://github.com/SOMJANG/Mecab-ko-for-Google-Colab.git \n",
    " cd Mecab-ko-for-Google-Colab \n",
    " chmod u+x install_mecab-ko_on_colab190912.sh \n",
    " ./install_mecab-ko_on_colab190912.sh \n",
    " ``` \n"
   ]
  },
  {
   "cell_type": "code",
   "execution_count": 6,
   "metadata": {},
   "outputs": [
    {
     "name": "stdout",
     "output_type": "stream",
     "text": [
      "tokenizer.morphs(kor_text) : ['사과', '의', '놀라운', '효능', '이', '라는', '글', '을', '봤', '어', '.', '그래서', '오늘', '사과', '를', '먹', '으려고', '했', '는데', '사과', '가', '썩', '어서', '슈퍼', '에', '가', '서', '사과', '랑', '오렌지', '사', '왔', '어']\n"
     ]
    }
   ],
   "source": [
    "\n",
    "\n",
    "from konlpy.tag import Mecab\n",
    "\n",
    "tokenizer = Mecab()\n",
    "mu.log(\"tokenizer.morphs(kor_text)\", tokenizer.morphs(kor_text))\n",
    "\n"
   ]
  },
  {
   "cell_type": "markdown",
   "metadata": {},
   "source": [
    "--- \n",
    " - 단어 집합(Vocabulary) 생성 \n",
    "   - 단어 집합(vocabuary)이란 중복을 제거한 텍스트의 총 단어의 집합(set)을 의미합니다. \n",
    "   - 우선, 실습을 위해서 깃허브에서 '네이버 영화 리뷰 분류하기' 데이터를 다운로드하겠습니다. \n",
    "   - 네이버 영화 리뷰 데이터는 총 20만 개의 영화 리뷰를 긍정 1, 부정 0으로 레이블링한 데이터입니다. \n",
    " \n",
    " ``` \n",
    " pip3 install pandas \n",
    " ``` \n"
   ]
  },
  {
   "cell_type": "code",
   "execution_count": 7,
   "metadata": {},
   "outputs": [
    {
     "name": "stdout",
     "output_type": "stream",
     "text": [
      "len(data) : 200000\n",
      "\n",
      "data[:10] : \n",
      "             id                                           document  label\n",
      "    0   8112052                                어릴때보고 지금다시봐도 재밌어요ㅋㅋ      1\n",
      "    1   8132799  디자인을 배우는 학생으로, 외국디자이너와 그들이 일군 전통을 통해 발전해가는 문화산...      1\n",
      "    2   4655635               폴리스스토리 시리즈는 1부터 뉴까지 버릴께 하나도 없음.. 최고.      1\n",
      "    3   9251303  와.. 연기가 진짜 개쩔구나.. 지루할거라고 생각했는데 몰입해서 봤다.. 그래 이런...      1\n",
      "    4  10067386                        안개 자욱한 밤하늘에 떠 있는 초승달 같은 영화.      1\n",
      "    5   2190435                      사랑을 해본사람이라면 처음부터 끝까지 웃을수 있는영화      1\n",
      "    6   9279041                                   완전 감동입니다 다시봐도 감동      1\n",
      "    7   7865729                        개들의 전쟁2 나오나요? 나오면 1빠로 보고 싶음      1\n",
      "    8   7477618                                                  굿      1\n",
      "    9   9250537                                     바보가 아니라 병 쉰 인듯      1\n",
      "\n",
      "tokenized[:10] : [['어릴', '때', '보', '고', '지금', '다시', '봐도', '재밌', '어요', 'ㅋㅋ'], ['디자인', '을', '배우', '학생', ',', '외국', '디자이너', '그', '일군', '전통', '을', '통해', '발전', '해', '문화', '산업', '부러웠', '는데', '.', '사실', '우리', '나라', '에서', '그', '어려운', '시절', '끝', '까지', '열정', '을', '지킨', '노라노', '같', '전통', '있', '어', '저', '같', '사람', '꿈', '을', '꾸', '고', '이뤄나갈', '수', '있', '다는', '것', '감사', '합니다', '.'], ['폴리스', '스토리', '시리즈', '1', '부터', '뉴', '까지', '버릴', '께', '하나', '없', '음', '.', '.', '최고', '.'], ['.', '.', '연기', '진짜', '개', '쩔', '구나', '.', '.', '지루', '할거', '라고', '생각', '했', '는데', '몰입', '해서', '봤', '다', '.', '.', '그래', '이런', '게', '진짜', '영화', '지'], ['안개', '자욱', '밤하늘', '떠', '있', '초승달', '같', '영화', '.'], ['사랑', '을', '해', '본', '사람', '라면', '처음', '부터', '끝', '까지', '웃', '을', '수', '있', '영화'], ['완전', '감동', '입니다', '다시', '봐도', '감동'], ['개', '전쟁', '2', '나오', '나요', '?', '나오', '면', '1', '빠', '로', '보', '고', '싶', '음'], ['굿'], ['바보', '아니', '라', '병', '쉰', '인', '듯']]\n",
      "len(vocab) : 698\n",
      "vocab['재밌'] : 10\n"
     ]
    }
   ],
   "source": [
    "\n",
    "import urllib.request\n",
    "import pandas as pd\n",
    "from konlpy.tag import Mecab\n",
    "from nltk import FreqDist\n",
    "import numpy as np\n",
    "import matplotlib.pyplot as plt\n",
    "\n",
    "urllib.request.urlretrieve(\n",
    "    url=\"https://raw.githubusercontent.com/e9t/nsmc/master/ratings.txt\",\n",
    "    filename=\"ratings.txt\"\n",
    ")\n",
    "\n",
    "data = pd.read_table(\"ratings.txt\")\n",
    "mu.log(\"len(data)\", len(data))\n",
    "mu.log(\"data[:10]\", data[:10])\n",
    "sample_data = data[:100]\n",
    "\n",
    "# 불용어 정의\n",
    "stopwords = ['의', '가', '이', '은', '들', '는', '좀', '잘', '걍', '과', '도', '를', '으로', '자', '에', '와', '한', '하다']\n",
    "tokenized = []\n",
    "\n",
    "for sentence in sample_data[\"document\"]:\n",
    "    temp = []\n",
    "    temp = tokenizer.morphs(sentence)\n",
    "\n",
    "    temp = [\n",
    "        word\n",
    "        for word in temp\n",
    "        if not word in stopwords\n",
    "    ]\n",
    "\n",
    "    tokenized.append(temp)\n",
    "\n",
    "mu.log(\"tokenized[:10]\", tokenized[:10])\n",
    "\n",
    "vocab = FreqDist(np.hstack(tokenized))\n",
    "mu.log(\"len(vocab)\", len(vocab))\n",
    "mu.log(\"vocab['재밌']\", vocab['재밌'])\n",
    "\n"
   ]
  },
  {
   "cell_type": "markdown",
   "metadata": {},
   "source": [
    "--- \n",
    " - 각 단어에 고유한 정수 부여 \n",
    "   - enumerate()는 순서가 있는 자료형(list, set, tuple, dictionary, string)을 입력으로 받아 \n",
    "   - 인덱스를 순차적으로 함께 리턴한다는 특징이 있습니다. \n",
    "   - 인덱스 0과 1은 다른 용도로 남겨두고 나머지 단어들은 2부터 501까지 순차적으로 인덱스를 부여해봅시다. \n"
   ]
  },
  {
   "cell_type": "code",
   "execution_count": 8,
   "metadata": {},
   "outputs": [
    {
     "name": "stdout",
     "output_type": "stream",
     "text": [
      "len(word_to_index) : 368\n",
      "len(encoded) : 100\n",
      "encoded[:10] : [[1, 594, 626, 267, 1, 1, 1, 1, 1, 1], [1, 6, 1, 1, 19, 1, 1, 623, 1, 1, 6, 1, 1, 164, 1, 1, 1, 1, 30, 1, 1, 1, 1, 623, 1, 1, 126, 1, 1, 6, 1, 1, 21, 1, 8, 650, 543, 21, 1, 214, 6, 215, 267, 1, 584, 8, 1, 37, 1, 1, 30], [1, 1, 1, 599, 1, 220, 1, 1, 222, 1, 424, 184, 30, 30, 1, 30], [30, 30, 1, 1, 128, 223, 1, 30, 30, 1, 1, 1, 1, 638, 1, 1, 1, 17, 681, 30, 30, 1, 1, 9, 1, 1, 225], [1, 1, 1, 232, 8, 1, 21, 1, 30], [1, 6, 164, 577, 1, 1, 1, 1, 126, 1, 685, 6, 584, 8, 1], [1, 1, 1, 1, 1, 1], [128, 1, 652, 1, 1, 29, 1, 92, 599, 582, 530, 626, 267, 51, 184], [61], [1, 1, 596, 239, 240, 429, 95]]\n"
     ]
    }
   ],
   "source": [
    "\n",
    "word_to_index = {\n",
    "    word[0]: index + 2\n",
    "    for index, word in enumerate(vocab)\n",
    "}\n",
    "\n",
    "word_to_index[\"pad\"] = 0\n",
    "word_to_index[\"unk\"] = 1\n",
    "mu.log(\"len(word_to_index)\", len(word_to_index))\n",
    "\n",
    "encoded = []\n",
    "\n",
    "for line in tokenized:\n",
    "    temp = []\n",
    "    for w in line:\n",
    "        try:\n",
    "            temp.append(word_to_index[w])\n",
    "        except:\n",
    "            temp.append(word_to_index[\"unk\"])\n",
    "    encoded.append(temp)\n",
    "\n",
    "mu.log(\"len(encoded)\", len(encoded))\n",
    "mu.log(\"encoded[:10]\", encoded[:10])\n",
    "\n"
   ]
  },
  {
   "cell_type": "markdown",
   "metadata": {},
   "source": [
    "--- \n",
    " - 길이가 다른 문장들을 모두 동일한 길이로 바꿔주는 패딩(padding) \n",
    "   - 이제 길이가 다른 리뷰들을 모두 동일한 길이로 바꿔주는 패딩 작업을 진행해보겠습니다. \n",
    "   - 앞서 단어 집합에 패딩을 위한 토큰인 'pad'를 추가했었습니다. \n",
    "   - 패딩 작업은 정해준 길이로 모든 샘플들의 길이를 맞춰주되, \n",
    "   - 길이가 정해준 길이보다 짧은 샘플들에는 'pad' 토큰을 추가하여 길이를 맞춰주는 작업입니다. \n"
   ]
  },
  {
   "cell_type": "code",
   "execution_count": 9,
   "metadata": {},
   "outputs": [
    {
     "name": "stdout",
     "output_type": "stream",
     "text": [
      "max_len : 63\n",
      "min_len : 1\n"
     ]
    },
    {
     "data": {
      "image/png": "[encoded data removed]",
      "text/plain": [
       "<Figure size 432x288 with 1 Axes>"
      ]
     },
     "metadata": {
      "needs_background": "light"
     },
     "output_type": "display_data"
    },
    {
     "name": "stdout",
     "output_type": "stream",
     "text": [
      "encoded[:3] : [[1, 594, 626, 267, 1, 1, 1, 1, 1, 1], [1, 6, 1, 1, 19, 1, 1, 623, 1, 1, 6, 1, 1, 164, 1, 1, 1, 1, 30, 1, 1, 1, 1, 623, 1, 1, 126, 1, 1, 6, 1, 1, 21, 1, 8, 650, 543, 21, 1, 214, 6, 215, 267, 1, 584, 8, 1, 37, 1, 1, 30], [1, 1, 1, 599, 1, 220, 1, 1, 222, 1, 424, 184, 30, 30, 1, 30]]\n"
     ]
    }
   ],
   "source": [
    "\n",
    "len_array = []\n",
    "for line in encoded:\n",
    "    len_array.append(len(line))\n",
    "\n",
    "max_len = max(len_array)\n",
    "mu.log(\"max_len\", max_len)\n",
    "min_len = min(len_array)\n",
    "mu.log(\"min_len\", min_len)\n",
    "\n",
    "plt.hist(len_array, bins=50, label=\"count of sample\")\n",
    "plt.xlabel(\"length of sample\")\n",
    "plt.legend()\n",
    "plt.show()\n",
    "\n",
    "mu.log(\"encoded[:3]\", encoded[:3])\n"
   ]
  }
 ],
 "metadata": {
  "kernelspec": {
   "display_name": "Python 3",
   "language": "python",
   "name": "python3"
  },
  "language_info": {
   "codemirror_mode": {
    "name": "ipython",
    "version": 3
   },
   "file_extension": ".py",
   "mimetype": "text/x-python",
   "name": "python",
   "nbconvert_exporter": "python",
   "pygments_lexer": "ipython3",
   "version": "3.8.2"
  }
 },
 "nbformat": 4,
 "nbformat_minor": 4
}

{
    "cells": [
        {
            "cell_type": "code",
            "execution_count": 0,
            "metadata": {},
            "outputs": [],
            "source": [
                "import myutil as mu\n",
                "import os.path\n",
                "\n"
            ]
        },
        {
            "cell_type": "markdown",
            "metadata": {},
            "source": [
                "--- \n",
                " \n"
            ]
        },
        {
            "cell_type": "code",
            "execution_count": 0,
            "metadata": {},
            "outputs": [],
            "source": [
                "\n",
                "\n",
                "import urllib.request\n",
                "import pandas as pd\n",
                "\n",
                "if not os.path.isfile(\".IMDb_Reviews.csv\"):\n",
                "    urllib.request.urlretrieve(\n",
                "        url=\"https://raw.githubusercontent.com/LawrenceDuan/IMDb-Review-Analysis/master/IMDb_Reviews.csv\",\n",
                "        filename=\".IMDb_Reviews.csv\")\n",
                "\n",
                "df = pd.read_csv(\".IMDb_Reviews.csv\", encoding=\"latin1\")\n",
                "\n",
                "mu.log(\"len(df)\", len(df))\n",
                "mu.log(\"df[:5]\", df[:5])\n",
                "\n",
                "train_df = df[:2500]\n",
                "test_df = df[2500:]\n",
                "\n",
                "train_df.to_csv(\".train_data.csv\", index=False)\n",
                "test_df.to_csv(\".test_data.csv\", index=False)\n",
                "\n"
            ]
        },
        {
            "cell_type": "markdown",
            "metadata": {},
            "source": [
                "--- \n",
                " \n"
            ]
        },
        {
            "cell_type": "code",
            "execution_count": 0,
            "metadata": {},
            "outputs": [],
            "source": [
                "\n",
                "from torchtext import data\n",
                "\n",
                "TEXT = torchtext.data.Field(\n",
                "    sequential=True,\n",
                "    use_vocab=True,\n",
                "    tokenize=str.split,\n",
                "    lower=True,\n",
                "    batch_first=True,\n",
                "    fix_length=20)\n",
                "\n",
                "LABEL = torchtext.data.Field(\n",
                "    sequential=False,\n",
                "    use_vocab=False,\n",
                "    batch_first=False,\n",
                "    is_target=True\n",
                ")\n",
                "\n"
            ]
        },
        {
            "cell_type": "markdown",
            "metadata": {},
            "source": [
                "--- \n",
                " \n"
            ]
        },
        {
            "cell_type": "code",
            "execution_count": 0,
            "metadata": {},
            "outputs": [],
            "source": [
                "\n",
                "from torchtext.data import TabularDataset\n",
                "\n",
                "train_data, test_data = TabularDataset.splits(\n",
                "    path=\".\",\n",
                "    train=\"train_data.csv\",\n",
                "    test=\"test_data.csv\",\n",
                "    format=\"csv\",\n",
                "    fields=[(\"text\", TEXT), (\"label\", LABEL)],\n",
                "    skip_header=True\n",
                ")\n",
                "\n",
                "mu.log(\"len(train_data)\", len(train_data))\n",
                "mu.log(\"len(test_data)\", len(test_data))\n"
            ]
        }
    ],
    "metadata": {
        "kernelspec": {
            "display_name": "Python 3",
            "language": "python",
            "name": "python3"
        },
        "language_info": {
            "codemirror_mode": {
                "name": "ipython",
                "version": 2
            },
            "file_extension": ".py",
            "mimetype": "text/x-python",
            "name": "python",
            "nbconvert_exporter": "python",
            "pygments_lexer": "ipython2",
            "version": "2.7.17"
        }
    },
    "nbformat": 4,
    "nbformat_minor": 4
}
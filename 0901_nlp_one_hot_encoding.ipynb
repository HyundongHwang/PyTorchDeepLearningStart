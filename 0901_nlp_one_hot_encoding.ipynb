{
 "cells": [
  {
   "cell_type": "code",
   "execution_count": 1,
   "metadata": {},
   "outputs": [],
   "source": [
    "import myutil as mu\n",
    "\n"
   ]
  },
  {
   "cell_type": "markdown",
   "metadata": {},
   "source": [
    "--- \n",
    " - NLP에서의 원-핫 인코딩(One-hot encoding) \n",
    "   - 우선, 한국어 자연어 처리를 위해 코엔엘파이 패키지를 설치합니다. \n",
    " \n",
    " ``` \n",
    " pip install konlpy \n",
    " ``` \n",
    " \n",
    "   - 코엔엘파이의 Okt 형태소 분석기를 통해서 우선 문장에 대해서 토큰화를 수행하였습니다. \n"
   ]
  },
  {
   "cell_type": "code",
   "execution_count": 2,
   "metadata": {},
   "outputs": [
    {
     "name": "stdout",
     "output_type": "stream",
     "text": [
      "token : ['나', '는', '자연어', '처리', '를', '배운다']\n",
      "word2index : {'나': 0, '는': 1, '자연어': 2, '처리': 3, '를': 4, '배운다': 5}\n"
     ]
    }
   ],
   "source": [
    "\n",
    "from konlpy.tag import Okt\n",
    "\n",
    "okt = Okt()\n",
    "token = okt.morphs(\"나는 자연어 처리를 배운다\")\n",
    "mu.log(\"token\", token)\n",
    "word2index = {}\n",
    "\n",
    "for voca in token:\n",
    "    if voca not in word2index.keys():\n",
    "        word2index[voca] = len(word2index)\n",
    "\n",
    "mu.log(\"word2index\", word2index)\n",
    "\n",
    "\n"
   ]
  },
  {
   "cell_type": "markdown",
   "metadata": {},
   "source": [
    "--- \n",
    " - 토큰을 입력하면 해당 토큰에 대한 원-핫 벡터를 만들어내는 함수를 만들었습니다. \n"
   ]
  },
  {
   "cell_type": "code",
   "execution_count": 3,
   "metadata": {},
   "outputs": [
    {
     "name": "stdout",
     "output_type": "stream",
     "text": [
      "one_hot_encoding('자연어', word2index) : [0, 0, 1, 0, 0, 0]\n"
     ]
    }
   ],
   "source": [
    "\n",
    "\n",
    "def one_hot_encoding(word, word2index):\n",
    "    one_hot_vector = [0] * len(word2index)\n",
    "    index = word2index[word]\n",
    "    one_hot_vector[index] = 1\n",
    "    return one_hot_vector\n",
    "\n",
    "\n",
    "mu.log(\"one_hot_encoding('자연어', word2index)\", one_hot_encoding(\"자연어\", word2index))\n",
    "\n"
   ]
  },
  {
   "cell_type": "markdown",
   "metadata": {},
   "source": [
    "--- \n",
    " - 원-핫 인코딩(One-hot encoding)의 한계 \n",
    "   - 이러한 표현 방식은 단어의 개수가 늘어날 수록, 벡터를 저장하기 위해 필요한 공간이 계속 늘어난다는 단점이 있습니다. \n",
    "   - 또한 원-핫 벡터는 단어의 유사도를 표현하지 못한다는 단점이 있습니다. \n",
    "   - 단어 간 유사성을 알 수 없다는 단점은 검색 시스템 등에서 심각한 문제입니다. \n"
   ]
  }
 ],
 "metadata": {
  "kernelspec": {
   "display_name": "Python 3",
   "language": "python",
   "name": "python3"
  },
  "language_info": {
   "codemirror_mode": {
    "name": "ipython",
    "version": 3
   },
   "file_extension": ".py",
   "mimetype": "text/x-python",
   "name": "python",
   "nbconvert_exporter": "python",
   "pygments_lexer": "ipython3",
   "version": "3.8.2"
  }
 },
 "nbformat": 4,
 "nbformat_minor": 4
}

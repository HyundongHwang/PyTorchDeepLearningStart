{
    "cells": [
        {
            "cell_type": "markdown",
            "metadata": {},
            "source": [
                "--- \n",
                " \n",
                " - 임베딩 벡터의 시각화(Embedding Visualization) \n",
                "     - 구글은 임베딩 프로젝터(embedding projector)라는 데이터 시각화 도구를 지원합니다. \n",
                "     - 이번 챕터에서는 임베딩 프로젝터를 사용하여 학습한 임베딩 벡터들을 시각화해보겠습니다. \n",
                " \n",
                " - 시각화를 위해서는 이미 모델을 학습하고, \n",
                "     - 파일로 저장되어져 있어야 합니다. \n",
                "     - 모델이 저장되어져 있다면 아래 커맨드를 통해 시각화에 필요한 파일들을 생성할 수 있습니다. \n",
                " \n",
                " ``` \n",
                " python -m gensim.scripts.word2vec2tensor --input .eng_w2v --output .eng_w2v \n",
                " mv .eng_w2v_metadata.tsv dot_eng_w2v_metadata.tsv \n",
                " mv .eng_w2v_tensor.tsv dot_eng_w2v_tensor.tsv \n",
                " ``` \n",
                " \n",
                " - 임베딩 프로젝터를 사용하여 시각화하기 \n",
                "     - https://projector.tensorflow.org/ 오픈 \n",
                "     - 로드 버튼클릭 \n",
                "     - dot_eng_w2v_metadata.tsv, dot_eng_w2v_tensor.tsv 로드 \n"
            ]
        }
    ],
    "metadata": {
        "kernelspec": {
            "display_name": "Python 3",
            "language": "python",
            "name": "python3"
        },
        "language_info": {
            "codemirror_mode": {
                "name": "ipython",
                "version": 2
            },
            "file_extension": ".py",
            "mimetype": "text/x-python",
            "name": "python",
            "nbconvert_exporter": "python",
            "pygments_lexer": "ipython2",
            "version": "2.7.17"
        }
    },
    "nbformat": 4,
    "nbformat_minor": 4
}
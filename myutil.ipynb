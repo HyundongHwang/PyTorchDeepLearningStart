{
 "cells": [
  {
   "cell_type": "code",
   "execution_count": 1,
   "metadata": {},
   "outputs": [],
   "source": [
    "g_oldLogType = \"none\"  # none, single, multi\n",
    "\n",
    "\n",
    "def log(name, value):\n",
    "    global g_oldLogType\n",
    "    valueStr = \"{}\".format(value)\n",
    "\n",
    "    if \"\\n\" in valueStr:\n",
    "        if g_oldLogType != \"multi\":\n",
    "            print(\"\")\n",
    "        g_oldLogType = \"multi\"\n",
    "        print(\"{} : \".format(name))\n",
    "        print(\"    {}\".format(valueStr))\n",
    "        print(\"\")\n",
    "    else:\n",
    "        g_oldLogType = \"single\"\n",
    "        print(\"{} : {}\".format(name, valueStr))\n",
    "\n",
    "\n",
    "def model_to_str(model):\n",
    "    resStr = \"\"\n",
    "\n",
    "    for param in model.parameters():\n",
    "        resStr += \"    {} {}\\n\".format(param.shape, param.data)\n",
    "\n",
    "    return resStr\n",
    "\n",
    "\n",
    "def log_model(name, model):\n",
    "    print(\"\")\n",
    "    print(\"{} : \".format(name))\n",
    "\n",
    "    for param in model.parameters():\n",
    "        print(\"    {} {}\".format(param.shape, param.data))\n",
    "\n",
    "    print(\"\")\n"
   ]
  }
 ],
 "metadata": {
  "kernelspec": {
   "display_name": "Python 3",
   "language": "python",
   "name": "python3"
  },
  "language_info": {
   "codemirror_mode": {
    "name": "ipython",
    "version": 3
   },
   "file_extension": ".py",
   "mimetype": "text/x-python",
   "name": "python",
   "nbconvert_exporter": "python",
   "pygments_lexer": "ipython3",
   "version": "3.8.2"
  }
 },
 "nbformat": 4,
 "nbformat_minor": 4
}

{
 "cells": [
  {
   "cell_type": "code",
   "execution_count": 1,
   "metadata": {},
   "outputs": [],
   "source": [
    "g_oldLogType = \"none\"  # none, single, multi\n",
    "\n",
    "\n",
    "def to_str(value):\n",
    "    valueTypeStr = \"{}\".format(type(value))\n",
    "    resStr = \"\"\n",
    "\n",
    "    if \"torch.nn.modules.container.\" in valueTypeStr:\n",
    "        resStr += \"{} \\n\".format(value)\n",
    "        for param in value.parameters():\n",
    "            resStr += \"{} {}\\n\".format(param.shape, param.data)\n",
    "    elif \"torch.Tensor\" in valueTypeStr:\n",
    "        resStr += \"{} {}\\n\".format(value.shape, value.data)\n",
    "    else:\n",
    "        resStr += \"{}\".format(value)\n",
    "\n",
    "    return resStr\n",
    "\n",
    "def log(name, value):\n",
    "    global g_oldLogType\n",
    "    valueStr = to_str(value)\n",
    "\n",
    "    if \"\\n\" in valueStr:\n",
    "        if g_oldLogType != \"multi\":\n",
    "            print(\"\")\n",
    "        g_oldLogType = \"multi\"\n",
    "        print(\"{} : \".format(name))\n",
    "        for line in valueStr.splitlines():\n",
    "            print(\"    {}\".format(line))\n",
    "        print(\"\")\n",
    "    else:\n",
    "        g_oldLogType = \"single\"\n",
    "        print(\"{} : {}\".format(name, valueStr))"
   ]
  }
 ],
 "metadata": {
  "kernelspec": {
   "display_name": "Python 3",
   "language": "python",
   "name": "python3"
  },
  "language_info": {
   "codemirror_mode": {
    "name": "ipython",
    "version": 3
   },
   "file_extension": ".py",
   "mimetype": "text/x-python",
   "name": "python",
   "nbconvert_exporter": "python",
   "pygments_lexer": "ipython3",
   "version": "3.8.2"
  }
 },
 "nbformat": 4,
 "nbformat_minor": 4
}
